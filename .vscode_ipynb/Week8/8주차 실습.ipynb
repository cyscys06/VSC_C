{
 "cells": [
  {
   "cell_type": "markdown",
   "id": "1f9c506a-88df-47dc-8394-a699928c67f8",
   "metadata": {},
   "source": [
    "## 클래스 구성\n",
    "### 인스턴스 변수: 클래스 안에서 정의된 변수\n",
    "### 메서드: 클래스 안에서 정의된 함수\n",
    "### 이 둘을 합쳐서 클래스의 멤버라고 한다"
   ]
  },
  {
   "cell_type": "code",
   "execution_count": 6,
   "id": "3999fab7-f799-4aa7-9fe3-1710fa3fd38e",
   "metadata": {},
   "outputs": [
    {
     "name": "stdout",
     "output_type": "stream",
     "text": [
      "카운터의 값 =  1\n"
     ]
    }
   ],
   "source": [
    "class Counter:\n",
    "    def __init__(self): # init: 클래스의 생성자(생성자는 클래스당 단 하나만 허용)\n",
    "        self.count = 0 # 인스턴스 변수를 초기화\n",
    "    def increment(self): # 클래스의 메서드 선언\n",
    "        self.count += 1 # 클래스의 객체에 접근 가능함(같은 클래스 안에 있으므로)\n",
    "\n",
    "a = Counter() # Counter 클래스의 객체 a 생성\n",
    "a.increment() \n",
    "# 객체 a도 클래스를 통해 생성된 것이므로 클래스의 멤버를 가질 수 있다. a(클래스)의 멤버 함수를 호출\n",
    "print(\"카운터의 값 = \", a.count)"
   ]
  },
  {
   "cell_type": "code",
   "execution_count": 12,
   "id": "6e8b58c6-1891-4ac4-b511-043d697f26f8",
   "metadata": {},
   "outputs": [
    {
     "name": "stdout",
     "output_type": "stream",
     "text": [
      "100\n",
      "0\n"
     ]
    }
   ],
   "source": [
    "class Counter:\n",
    "    def __init__(self, initValue = 0): \n",
    "        self.count = initValue # 디폴트값 설정\n",
    "\n",
    "b = Counter(100) # 사용자가 직접 값을 넣어 멤버 변수의 값 지정 가능\n",
    "c = Counter() # 디폴트값\n",
    "print(b.count)\n",
    "print(c.count)\n",
    "# 하나의 클래스로 객체를 여러 개 만들 수 있으며, 각각의 객체가 가지는 멤버들은 객체별로 구분된다."
   ]
  },
  {
   "cell_type": "code",
   "execution_count": 21,
   "id": "6dfb03d9-074e-46e4-9127-c02f7cd372a5",
   "metadata": {},
   "outputs": [],
   "source": [
    "# 예제\n",
    "class Television:\n",
    "    def __init__(self, channel, volume, on): # self, channel, volume, on이라는 멤버변수 선언\n",
    "        # 멤버 변수 정의\n",
    "        self.channel = channel\n",
    "        self.volume = volume\n",
    "        self.on = on\n",
    "\n",
    "    def show(self): # 출력 메서드\n",
    "        print(self.channel, self.volume, self.on)\n",
    "\n",
    "    def setchannel(self): # 채널 설정\n",
    "        self.channel = input(\"변경할 채널을 입력하십시오: \")\n",
    "\n",
    "    def getchannel(self): # 현재 채널 값을 반환\n",
    "        return self.channel"
   ]
  },
  {
   "cell_type": "code",
   "execution_count": 22,
   "id": "ac46606b-8405-4ad3-851c-7d5543ae9117",
   "metadata": {},
   "outputs": [
    {
     "name": "stdout",
     "output_type": "stream",
     "text": [
      "9 10 True\n"
     ]
    },
    {
     "name": "stdin",
     "output_type": "stream",
     "text": [
      "변경할 채널을 입력하십시오:  34\n"
     ]
    },
    {
     "name": "stdout",
     "output_type": "stream",
     "text": [
      "34 10 True\n"
     ]
    },
    {
     "data": {
      "text/plain": [
       "'34'"
      ]
     },
     "execution_count": 22,
     "metadata": {},
     "output_type": "execute_result"
    }
   ],
   "source": [
    "t = Television(9, 10, True)\n",
    "t.show()\n",
    "\n",
    "t.setchannel()\n",
    "t.show()\n",
    "t.getchannel()"
   ]
  },
  {
   "cell_type": "code",
   "execution_count": 20,
   "id": "c1424d19-d512-49fd-8350-278dca0c3006",
   "metadata": {},
   "outputs": [
    {
     "name": "stdout",
     "output_type": "stream",
     "text": [
      "자동차 객체를 생성하였습니다.\n",
      "자동차의 속도는 0\n",
      "자동차의 색상은 blue\n",
      "자동차의 모델은 E-class\n",
      "자동차의 속도는 60\n"
     ]
    }
   ],
   "source": [
    "# 예제\n",
    "class Car:\n",
    "    def __init__(self, speed, color, model): # 생성자에 인자로 클래스에 담고 싶은 멤버 변수들 넣기\n",
    "        self.speed = speed\n",
    "        self.color = color\n",
    "        self.model = model\n",
    "\n",
    "    def drive(self): # 속도 설정 메서드\n",
    "        self.speed = 60\n",
    "\n",
    "myCar = Car(0, \"blue\", \"E-class\")\n",
    "\n",
    "print(\"자동차 객체를 생성하였습니다.\")\n",
    "print(\"자동차의 속도는\", myCar.speed)\n",
    "print(\"자동차의 색상은\", myCar.color)\n",
    "print(\"자동차의 모델은\", myCar.model)\n",
    "\n",
    "myCar.drive()\n",
    "print(\"자동차의 속도는\", myCar.speed)"
   ]
  },
  {
   "cell_type": "markdown",
   "id": "bde92807-79a3-422f-b675-9866a3c7581f",
   "metadata": {},
   "source": [
    "## 멤버 private 지정\n",
    "### 인스턴스 변수나 메서드의 이름 앞에 __을 붙이면 그 멤버를 private상태로 만들 수 있다.\n",
    "### private 멤버는 클래스 내부에서만 접근 가능하다.\n",
    "### ex) private 인스턴스 변수는 단순히 myCar.__speed 이렇게 쓴다고 해서 접근할 수 없다.\n",
    "### private 메서드 또한 같은 의미로 접근 불가능하다"
   ]
  },
  {
   "cell_type": "code",
   "execution_count": 29,
   "id": "d587b214-6cbb-4b2e-98b4-6255d62f6750",
   "metadata": {},
   "outputs": [
    {
     "ename": "AttributeError",
     "evalue": "'Student' object has no attribute '__age'",
     "output_type": "error",
     "traceback": [
      "\u001b[0;31m---------------------------------------------------------------------------\u001b[0m",
      "\u001b[0;31mAttributeError\u001b[0m                            Traceback (most recent call last)",
      "Cell \u001b[0;32mIn[29], line 7\u001b[0m\n\u001b[1;32m      4\u001b[0m         \u001b[38;5;28mself\u001b[39m\u001b[38;5;241m.\u001b[39m__age \u001b[38;5;241m=\u001b[39m age \u001b[38;5;66;03m# age 변수를 private으로 설정\u001b[39;00m\n\u001b[1;32m      6\u001b[0m obj \u001b[38;5;241m=\u001b[39m Student()\n\u001b[0;32m----> 7\u001b[0m \u001b[38;5;28mprint\u001b[39m(obj\u001b[38;5;241m.\u001b[39m__age)\n",
      "\u001b[0;31mAttributeError\u001b[0m: 'Student' object has no attribute '__age'"
     ]
    }
   ],
   "source": [
    "class Student:\n",
    "    def __init__(self, name = None, age = 0):\n",
    "        self.__name = name # name 변수를 private으로 설정\n",
    "        self.__age = age # age 변수를 private으로 설정\n",
    "\n",
    "obj = Student()\n",
    "print(obj.__age) # age가 private이므로 접근 불가 -> 오류 발생\n",
    "# 그냥 obj.age라고 써도 이미 클래스 안에서 age를 priavte로 선언했기 때문에 똑같이 오류 발생함"
   ]
  },
  {
   "cell_type": "code",
   "execution_count": 37,
   "id": "fb608c0f-06b8-429c-a47c-173e99a5693d",
   "metadata": {},
   "outputs": [
    {
     "data": {
      "text/plain": [
       "'Kong'"
      ]
     },
     "execution_count": 37,
     "metadata": {},
     "output_type": "execute_result"
    }
   ],
   "source": [
    "class Student:\n",
    "    def __init__(self, name = None, age = 0):\n",
    "        self.__name = name \n",
    "        self.__age = age \n",
    "\n",
    "    def getage(self):\n",
    "        return self.__age\n",
    "\n",
    "    def getname(self):\n",
    "        return self.__name\n",
    "        \n",
    "    def setage(self, age):\n",
    "        self.__age = age # 클래스의 age 변수를 사용자가 입력한 값으로 변경(인자 반드시 전달 해야 함)\n",
    "# -> setage는 private 메서드가 아니고, 클래스 멤버들은 서로 접근 가능하므로 private인 age에 내부적으로 접근 가능\n",
    "\n",
    "    def setname(self, name):\n",
    "        self.__name = name\n",
    "\n",
    "obj = Student(\"Hong\", 20)\n",
    "obj.setname(\"Kong\") # setname메서드를 통해 private멤버 name에 내부적으로 접근하여 이름 변경\n",
    "obj.getname()"
   ]
  },
  {
   "cell_type": "markdown",
   "id": "5ab64b4b-82bc-4309-959d-1adb8723fe62",
   "metadata": {},
   "source": [
    "## 객체 참조\n",
    "### 변수의 메모리 공간에 실제 객체를 저장하는게 아니다.\n",
    "### 변수는 객체의 메모리 주소를 저장한다. 실제 객체는 메모리의 다른 곳(어딘가)에 생성된다."
   ]
  },
  {
   "cell_type": "markdown",
   "id": "354cd915-29ed-4523-bed2-c44f67bcdced",
   "metadata": {},
   "source": [
    "## 참조 공유\n",
    "### 변수는 객체의 참조값(주소)을 저장하므로, 변수의 값을 다른 변수에 복사하면 실제 객체가 아닌 주소만 복사된다.\n",
    "### 즉, 실제 객체는 따로 하나만 존재하고, 두개의 변수(본래 변수와 복사된 변수)가 모두 그 객체를 가리키고 있는 것이다.\n"
   ]
  },
  {
   "cell_type": "code",
   "execution_count": 39,
   "id": "2e5d6be9-16f6-458a-882d-3b75b35902e3",
   "metadata": {},
   "outputs": [
    {
     "name": "stdout",
     "output_type": "stream",
     "text": [
      "126085677578000\n",
      "126085677578000\n"
     ]
    }
   ],
   "source": [
    "class Television:\n",
    "    def __init__(self, channel, volume, on): \n",
    "        self.channel = channel\n",
    "        self.volume = volume\n",
    "        self.on = on\n",
    "\n",
    "t = Television(11, 10, True) # 객체 t 생성(t는 변수, 오른쪽은 객체이며 t가 주소를 통해 그 객체를 가리킴)\n",
    "s = t # 변수 t가 갖고 있던 주소를 변수 s에 복사(이제 s도 Television(11, 10, True)라는 객체를 t와 같이 가리키게 됨)\n",
    "\n",
    "print(id(t))\n",
    "print(id(s))\n",
    "# 두 변수가 동일한 주소를 갖고 있는 모습"
   ]
  },
  {
   "cell_type": "code",
   "execution_count": 40,
   "id": "3bef16e7-3391-4450-be68-24b7d49c313d",
   "metadata": {},
   "outputs": [
    {
     "name": "stdout",
     "output_type": "stream",
     "text": [
      "9\n"
     ]
    }
   ],
   "source": [
    "s.channel = 9 # s를 통해 객체의 값을 변경: s를 통해 가리키는 객체에 접근해 값을 변경함\n",
    "# -> 이때 s와 t모두 같은 객체를 가리키므로 s를 통해 객체 값을 변경한 것이 t에도 영향을 끼침\n",
    "\n",
    "print(t.channel)"
   ]
  },
  {
   "cell_type": "code",
   "execution_count": 41,
   "id": "605ddd44-40d7-4a0c-8000-5579860ed60a",
   "metadata": {},
   "outputs": [
    {
     "name": "stdout",
     "output_type": "stream",
     "text": [
      "2개의 변수가 동일 객체를 가리키고 있습니다.\n"
     ]
    }
   ],
   "source": [
    "if s is t: # is: 변수 s와 t가 동일 객체를 참조 중인지를 검사하는 연산자\n",
    "    print(\"2개의 변수가 동일 객체를 가리키고 있습니다.\")\n",
    "\n",
    "if s is not t: # is not: is와 반대(두 변수가 동일 객체를 참조 중인게 아닌지를 검사하는 연산자)\n",
    "    print(\"2개의 변수가 동일 객체를 가리키고 있지 않습니다.\")"
   ]
  },
  {
   "cell_type": "code",
   "execution_count": 42,
   "id": "5ff99ff4-92ab-43ac-b8e7-6f9d442e2c77",
   "metadata": {},
   "outputs": [
    {
     "name": "stdout",
     "output_type": "stream",
     "text": [
      "현재 TV가 없습니다.\n"
     ]
    }
   ],
   "source": [
    "myTV = None # 변수가 아무것도(None) 가리키고 있지 않은 상태\n",
    "\n",
    "if myTV is None:\n",
    "    print(\"현재 TV가 없습니다.\")"
   ]
  },
  {
   "cell_type": "markdown",
   "id": "766c8f58-f761-40cb-b8d1-0105caea4910",
   "metadata": {},
   "source": [
    "## 객체 함수 전달\n",
    "### 숫자나 문자열은 불변 객체이므로 변경 불가능하다.\n",
    "### ex) sum += 1 에서 1, name += \"님\" 에서 \"님\" 등은 변경 불가능하다(참조가 아닌 값이므로)\n",
    "### 하지만 사용자가 정의한 객체를 함수에 전달하면 함수에서도 객체를 변경할 수 있다.\n",
    "### ex) self.channel은 함수 안에서도 변경 가능하다(참조를 통해 변경 가능)"
   ]
  },
  {
   "cell_type": "code",
   "execution_count": 45,
   "id": "755c523e-14f2-47cf-ac00-0a52ab85485f",
   "metadata": {},
   "outputs": [
    {
     "name": "stdout",
     "output_type": "stream",
     "text": [
      "Before\n",
      "11 10 True\n",
      "After\n",
      "11 2 True\n"
     ]
    }
   ],
   "source": [
    "class Television:\n",
    "    def __init__(self, channel, volume, on): \n",
    "        self.channel = channel\n",
    "        self.volume = volume\n",
    "        self.on = on\n",
    "    def show(self):\n",
    "        print(self.channel, self.volume, self.on)\n",
    "\n",
    "def setSilentMode(t): # 전달인자(객체)의 volume멤버의 값을 변경하는, 클래스 밖 함수\n",
    "    t.volume = 2 # 참조로 객체의 멤버에 접근하는 것이므로 직접 변경 가능\n",
    "\n",
    "myTV = Television(11, 10, True)\n",
    "print(\"Before\")\n",
    "myTV.show()\n",
    "\n",
    "setSilentMode(myTV)\n",
    "\n",
    "print(\"After\")\n",
    "myTV.show()"
   ]
  },
  {
   "cell_type": "markdown",
   "id": "4f3ce59c-a143-4184-8efe-c868c86204ff",
   "metadata": {},
   "source": [
    "## 클래스 변수(정적변수 static과 같은 의미)\n",
    "### 클래스 내에서 객체를 선언하면 각각의 객체마다 서로 다르게 선언되는 인스턴스 변수와 달리, 모든 객체 내에서 단 한개만 존재하는 변수\n",
    "### 인스턴스 변수 channel의 경우: a.channel, b.channel 등에서 channel이라는 인스턴스 변수는 a와 b에서 서로 구분된다.\n",
    "### 클래스 변수 volume의 경우: volume을 클래스 변수로 선언하면 a.volume, b.volume처럼 서로 다른 객체의 멤버라도 모두 동일한, 하나의 클래스 변수 volume만을 나타나게 된다.\n",
    "### 따라서 클래스 변수는 모든 객체에서 공통으로 존재하는 변수가 필요할때 사용한다."
   ]
  },
  {
   "cell_type": "code",
   "execution_count": 6,
   "id": "2745d875-af47-41d0-9b49-6b5d54a18f58",
   "metadata": {},
   "outputs": [
    {
     "name": "stdout",
     "output_type": "stream",
     "text": [
      "11 10 True 1\n"
     ]
    }
   ],
   "source": [
    "class Television:\n",
    "    serialNumber = 0\n",
    "    def __init__(self, channel, volume, on):\n",
    "        self.channel = channel\n",
    "        self.volume = volume\n",
    "        self.on = on\n",
    "        Television.serialNumber += 1 # 실행할때마다 값이 1씩 올라감\n",
    "        self.number = Television.serialNumber\n",
    "    \n",
    "    def show(self):\n",
    "        print(self.channel, self.volume, self.on, self.number)\n",
    "\n",
    "myTV = Television(11, 10, True)\n",
    "myTV.show()"
   ]
  },
  {
   "cell_type": "code",
   "execution_count": 5,
   "id": "cd3a77c7-1123-4796-bd41-8f20c151f372",
   "metadata": {},
   "outputs": [
    {
     "name": "stdout",
     "output_type": "stream",
     "text": [
      "11 10 True 3\n"
     ]
    }
   ],
   "source": [
    "mySecondTV = Television(11, 10, True)\n",
    "mySecondTV.show() "
   ]
  },
  {
   "cell_type": "code",
   "execution_count": 8,
   "id": "dcb7297e-b8ce-4942-ba30-9f71d866b8f2",
   "metadata": {},
   "outputs": [],
   "source": [
    "class Monster:\n",
    "    WEAK = 0 # 클래스 변수는 보통 상수로 정의\n",
    "    NORMAL = 10\n",
    "    STRONG = 20\n",
    "    VERY_STRONG = 30\n",
    "\n",
    "    def __init__(self):\n",
    "        self._health = Monster.NORMAL # health: private 멤버\n",
    "\n",
    "    def eat(self):\n",
    "        self._health = Monster.STRONG\n",
    "\n",
    "    def attack(self):\n",
    "        self._health = Monster.WEAK"
   ]
  },
  {
   "cell_type": "markdown",
   "id": "9676ddd2-911a-4132-9ca2-a1868aaddcdf",
   "metadata": {},
   "source": [
    "## 특수 메서드\n",
    "### 파이썬에는 연산자(사칙연산)에 대한 특수 메서드가 있음\n",
    "### 이 메서드들은 객체에 대해 사칙연산을 적용하면 자동으로 호출됨\n",
    "### 즉, C++의 연산자 오버로딩이 파이썬에는 이미 있다는 소리임. \n",
    "### 원래 겍체끼리는 사칙연산이 불가능하나 연산자 오버로딩을 정의하면 가능한데, 파이썬에는 그 연산자가 이미 만들어져 있는것.\n",
    "### 그래서 그냥 객체끼리 연산해도 자동으로 됨"
   ]
  },
  {
   "cell_type": "code",
   "execution_count": 11,
   "id": "5f312087-39f8-4e85-886b-53b9998e4586",
   "metadata": {},
   "outputs": [
    {
     "name": "stdout",
     "output_type": "stream",
     "text": [
      "카운트 값: 0\n"
     ]
    }
   ],
   "source": [
    "# str() 메서드: 객체 정보를 출력하는 메서드\n",
    "class Counter:\n",
    "    def __init__(self, count):\n",
    "        self.count = 0\n",
    "\n",
    "    def increment(self):\n",
    "        self.count += 1\n",
    "\n",
    "    def __str__(self):\n",
    "        msg = \"카운트 값: \" + str(self.count)\n",
    "        return msg\n",
    "\n",
    "a = Counter(100)\n",
    "print(a) # __str__()메서드가 호출됨"
   ]
  },
  {
   "cell_type": "code",
   "execution_count": 15,
   "id": "fac638e5-134e-4268-978a-3f3205bb4642",
   "metadata": {},
   "outputs": [
    {
     "name": "stdout",
     "output_type": "stream",
     "text": [
      "주사위의 값 =  3\n"
     ]
    }
   ],
   "source": [
    "# 예제\n",
    "from random import randint\n",
    "\n",
    "class Dice:\n",
    "    def __init__(self, x, y):\n",
    "        self._x = x\n",
    "        self._y = y\n",
    "        self._size = 30\n",
    "        self._value = 1\n",
    "\n",
    "    def read_dice(self):\n",
    "        return self._value\n",
    "\n",
    "    def print_dice(self):\n",
    "        print(\"주사위의 값 = \", self._value)\n",
    "\n",
    "    def roll_dice(self):\n",
    "        self._value = randint(1, 6) # 1<= x <= 6 의 값 x 출력\n",
    "\n",
    "d = Dice(100, 100)\n",
    "d.roll_dice()\n",
    "d.print_dice()"
   ]
  },
  {
   "cell_type": "code",
   "execution_count": null,
   "id": "1a017255-37d6-45f8-90b6-e3be649962a4",
   "metadata": {},
   "outputs": [],
   "source": []
  }
 ],
 "metadata": {
  "kernelspec": {
   "display_name": "anaconda-panel-2023.05-py310",
   "language": "python",
   "name": "conda-env-anaconda-panel-2023.05-py310-py"
  },
  "language_info": {
   "codemirror_mode": {
    "name": "ipython",
    "version": 3
   },
   "file_extension": ".py",
   "mimetype": "text/x-python",
   "name": "python",
   "nbconvert_exporter": "python",
   "pygments_lexer": "ipython3",
   "version": "3.11.5"
  }
 },
 "nbformat": 4,
 "nbformat_minor": 5
}
