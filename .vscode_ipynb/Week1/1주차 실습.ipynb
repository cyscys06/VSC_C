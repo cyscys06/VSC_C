{
 "cells": [
  {
   "cell_type": "code",
   "execution_count": 5,
   "id": "01cecc26-f1ff-4501-9eaf-312920291242",
   "metadata": {},
   "outputs": [
    {
     "name": "stdout",
     "output_type": "stream",
     "text": [
      "hello world\n"
     ]
    }
   ],
   "source": [
    "print('hello world')\n",
    "# print함수를 사용해 괄호 안에 넣은 문자열을 출력할 수 있음\n",
    "# 괄호 안에는 반드시 따옴표가 들어가야 함"
   ]
  },
  {
   "cell_type": "code",
   "execution_count": 1,
   "id": "4b3816b3-fbab-4c0a-be28-d1c596cce45e",
   "metadata": {},
   "outputs": [
    {
     "data": {
      "text/plain": [
       "314.0"
      ]
     },
     "execution_count": 1,
     "metadata": {},
     "output_type": "execute_result"
    }
   ],
   "source": [
    "3.14*10*10\n",
    "# *: 곱하기, **: 제곱\n",
    "# +: 더하기, -: 빼기\n",
    "# /: 실수단위 나눗셈(정수일때 몫만, 실수일때 소수점까지), //: 정수단위 나눗셈(항상 몫만 구함)"
   ]
  },
  {
   "cell_type": "code",
   "execution_count": 3,
   "id": "2ea9a6c6-6977-401f-8e28-e779417154d9",
   "metadata": {},
   "outputs": [
    {
     "data": {
      "text/plain": [
       "0.6427876096865393"
      ]
     },
     "execution_count": 3,
     "metadata": {},
     "output_type": "execute_result"
    }
   ],
   "source": [
    "import math\n",
    "math.sin(math.radians(40))\n",
    "# import함수를 사용하여 모듈을 on할 수 있음(math모듈을 킨 모습)\n",
    "# import함수를 사용한 셀 밑부터는 모듈 사용 가능\n",
    "# radian(숫자)=각도"
   ]
  },
  {
   "cell_type": "code",
   "execution_count": 30,
   "id": "e110b308-3425-4964-af3f-8d4561fa1567",
   "metadata": {},
   "outputs": [
    {
     "ename": "NameError",
     "evalue": "name 'math' is not defined",
     "output_type": "error",
     "traceback": [
      "\u001b[0;31m---------------------------------------------------------------------------\u001b[0m",
      "\u001b[0;31mNameError\u001b[0m                                 Traceback (most recent call last)",
      "Cell \u001b[0;32mIn[30], line 1\u001b[0m\n\u001b[0;32m----> 1\u001b[0m \u001b[38;5;28;01mdel\u001b[39;00m math\n\u001b[1;32m      2\u001b[0m math\u001b[38;5;241m.\u001b[39mlog(\u001b[38;5;241m1\u001b[39m)\n",
      "\u001b[0;31mNameError\u001b[0m: name 'math' is not defined"
     ]
    }
   ],
   "source": [
    "del math\n",
    "math.log(1)\n",
    "# del함수를 사용하여 모듈을 off할 수 있고, del함수를 사용한 셀 밑부터는 모듈 사용 불가"
   ]
  },
  {
   "cell_type": "code",
   "execution_count": 32,
   "id": "737ba8f6-66d1-4a3d-8168-57d91959f629",
   "metadata": {},
   "outputs": [
    {
     "ename": "NameError",
     "evalue": "name 'math' is not defined",
     "output_type": "error",
     "traceback": [
      "\u001b[0;31m---------------------------------------------------------------------------\u001b[0m",
      "\u001b[0;31mNameError\u001b[0m                                 Traceback (most recent call last)",
      "Cell \u001b[0;32mIn[32], line 1\u001b[0m\n\u001b[0;32m----> 1\u001b[0m math\u001b[38;5;241m.\u001b[39mlog(\u001b[38;5;241m1\u001b[39m)\n",
      "\u001b[0;31mNameError\u001b[0m: name 'math' is not defined"
     ]
    }
   ],
   "source": [
    "math.log(1)\n",
    "# math모듈을 del한 이후로 math모듈이 작동하지 않는 모습"
   ]
  },
  {
   "cell_type": "code",
   "execution_count": 5,
   "id": "393efb96-5cb9-40c0-9dee-46f7756d404f",
   "metadata": {},
   "outputs": [
    {
     "data": {
      "text/plain": [
       "3.0"
      ]
     },
     "execution_count": 5,
     "metadata": {},
     "output_type": "execute_result"
    }
   ],
   "source": [
    "math.sqrt(9)\n",
    "# sqrt: 제곱근"
   ]
  },
  {
   "cell_type": "code",
   "execution_count": 11,
   "id": "3c0b14b3-b50d-4f31-af39-6651d4073264",
   "metadata": {
    "jupyter": {
     "source_hidden": true
    }
   },
   "outputs": [
    {
     "data": {
      "text/plain": [
       "0.0"
      ]
     },
     "execution_count": 11,
     "metadata": {},
     "output_type": "execute_result"
    }
   ],
   "source": [
    "math.log(1)\n",
    "# log: 로그"
   ]
  },
  {
   "cell_type": "code",
   "execution_count": 12,
   "id": "7f833ad5-c896-40b5-b4f1-84222801f6eb",
   "metadata": {},
   "outputs": [
    {
     "data": {
      "text/plain": [
       "'hellohellohellohellohellohellohellohellohellohello'"
      ]
     },
     "execution_count": 12,
     "metadata": {},
     "output_type": "execute_result"
    }
   ],
   "source": [
    "'hello' * 10\n",
    "# (따옴표 문구) * (숫자) -> (따옴표 문구)가 (숫자)번 연속 출력\n",
    "# print함수 없으면 따옴표 붙은채로 (숫자)번 출력\n"
   ]
  },
  {
   "cell_type": "code",
   "execution_count": 13,
   "id": "db25817c-351b-40df-8120-3ec461313a21",
   "metadata": {},
   "outputs": [
    {
     "name": "stdout",
     "output_type": "stream",
     "text": [
      "hellohellohellohellohellohellohellohellohellohello\n"
     ]
    }
   ],
   "source": [
    "print('hello' * 10)\n",
    "# print함수 붙으면 따옴표 없는채로 (숫자)번 출력)"
   ]
  },
  {
   "cell_type": "code",
   "execution_count": 27,
   "id": "44bfb1eb-792e-4fd7-b55e-98727327b3b1",
   "metadata": {},
   "outputs": [
    {
     "name": "stdout",
     "output_type": "stream",
     "text": [
      "안녕하세요\n"
     ]
    }
   ],
   "source": [
    "print('안녕'   '하세요')\n",
    "# print함수의 괄호 안에 있는 모든 따옴표 안 문자들은 전부 출력\n",
    "# 여러 따옴표가 있어도 실행하면 문자가 붙어서 나옴\n",
    "# 따옴표는 작은따옴표, 큰따옴표 어떤거 쓰던 상관 X\n",
    "# 하지만 쓴다면 하나의 따옴표로 통일 ex) 큰따옴표만 쓸거면 작은따옴표는 쓰면 안됨\n",
    "# 여러 따옴표 사이에 쉼표 넣으면 한 칸 띄어쓰기 가능\n",
    "# 쉼표는 따옴표와 따옴표 사이에 한개만 넣을 수 있다\n"
   ]
  },
  {
   "cell_type": "code",
   "execution_count": 1,
   "id": "b019e931-9968-4104-a41a-1d72d57791bb",
   "metadata": {},
   "outputs": [
    {
     "name": "stdout",
     "output_type": "stream",
     "text": [
      "5\n"
     ]
    }
   ],
   "source": [
    "print(2+3)\n",
    "# 숫자의 사칙연산은 별도의 따옴표 없어도 출력 가능\n",
    "# 따옴표 있으면 따옴표 안의 문자 그대로 출력\n",
    "# 따옴표 없으면 괄호 안 값을 계산한 값 출력 ex)사칙연산, 변수"
   ]
  },
  {
   "cell_type": "code",
   "execution_count": 2,
   "id": "66f08a93-4f74-446b-8c9f-261cd5cfaeb0",
   "metadata": {},
   "outputs": [
    {
     "name": "stdout",
     "output_type": "stream",
     "text": [
      "0 0\n"
     ]
    }
   ],
   "source": [
    "x = 0\n",
    "y = 0\n",
    "print(x, y)"
   ]
  },
  {
   "cell_type": "code",
   "execution_count": 4,
   "id": "30e9ae4e-67a8-442a-b1ee-9563a60d4732",
   "metadata": {},
   "outputs": [
    {
     "name": "stdout",
     "output_type": "stream",
     "text": [
      "2 4 6 8 10 12 14 16 18 20 22 24 26 28 30 32 34 36 38 40 42 44 46 48 50 52 54 56 58 60 62 64 66 68 70 72 74 76 78 80 82 84 86 88 90 92 94 96 98 100 "
     ]
    }
   ],
   "source": [
    "x = 0 \n",
    "while x < 100: # 문장 실행 수 그다음 루프에서는 다음 줄로 넘어간 후 문장 실행하는게 디폴트, 줄 안넘어가려면 end = \"\" 쓰기\n",
    "    x += 2\n",
    "    print(x, end = \" \") "
   ]
  },
  {
   "cell_type": "code",
   "execution_count": null,
   "id": "d7fcf5a9-8b4f-4182-b8ce-dd7eb5e472e0",
   "metadata": {},
   "outputs": [],
   "source": []
  }
 ],
 "metadata": {
  "kernelspec": {
   "display_name": "anaconda-panel-2023.05-py310",
   "language": "python",
   "name": "conda-env-anaconda-panel-2023.05-py310-py"
  },
  "language_info": {
   "codemirror_mode": {
    "name": "ipython",
    "version": 3
   },
   "file_extension": ".py",
   "mimetype": "text/x-python",
   "name": "python",
   "nbconvert_exporter": "python",
   "pygments_lexer": "ipython3",
   "version": "3.11.5"
  }
 },
 "nbformat": 4,
 "nbformat_minor": 5
}
