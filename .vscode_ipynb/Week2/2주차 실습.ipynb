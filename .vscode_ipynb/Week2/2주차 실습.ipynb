{
 "cells": [
  {
   "cell_type": "code",
   "execution_count": 23,
   "id": "99bd5c46-2f10-471f-9ca1-6927e2e0facb",
   "metadata": {},
   "outputs": [
    {
     "name": "stdout",
     "output_type": "stream",
     "text": [
      "100\n"
     ]
    },
    {
     "data": {
      "text/plain": [
       "200"
      ]
     },
     "execution_count": 23,
     "metadata": {},
     "output_type": "execute_result"
    }
   ],
   "source": [
    "x = 100\n",
    "print(x)\n",
    "# 변수 x에 일정한 값 100을 할당함\n",
    "# print함수를 이용해 변수 x를 출력하면 변수에 할당된 값 출력\n",
    "# 단, 따옴표 붙이면 문자 x가 그대로 출력\n",
    "# 붙여써도 상관 없으나 가독성을 위해 띄어쓰기 권장\n",
    "x = 200\n",
    "x\n",
    "# 그냥 변수 x만 쳐도 변수에 할당된 값이 출력됨\n",
    "# 변수 출력할때는 print함수 이용해 출력하는 것을 권장(후에 오류 찾아내기 어려움)"
   ]
  },
  {
   "cell_type": "code",
   "execution_count": 1,
   "id": "dd47c44e-6b12-43ec-b95e-d6f0949547c8",
   "metadata": {},
   "outputs": [
    {
     "name": "stdout",
     "output_type": "stream",
     "text": [
      "200\n"
     ]
    }
   ],
   "source": [
    "x = 100\n",
    "x = 200 # 처음 100으로 초기화했던 x를 200으로 변경\n",
    "print(x)"
   ]
  },
  {
   "cell_type": "code",
   "execution_count": 15,
   "id": "954893e9-069f-4c81-8d72-ce403de50145",
   "metadata": {},
   "outputs": [
    {
     "name": "stdout",
     "output_type": "stream",
     "text": [
      "300\n"
     ]
    }
   ],
   "source": [
    "x = 100\n",
    "y = 200\n",
    "sum = x + y\n",
    "print(sum)\n",
    "# 변수 x를 생성 후 100이라는 값 저장\n",
    "# 변수 y를 생성 후 200이라는 값 저장\n",
    "# sum이라는 변수 생성 후 x + y라는 값 저장"
   ]
  },
  {
   "cell_type": "code",
   "execution_count": 2,
   "id": "1444f7e8-f639-43b1-96d4-be8ac3e3f82c",
   "metadata": {},
   "outputs": [
    {
     "name": "stdout",
     "output_type": "stream",
     "text": [
      "11\n"
     ]
    }
   ],
   "source": [
    "# 이런것도 가능하다\n",
    "score = 10\n",
    "score = score + 1 # score += 1\n",
    "print(score)"
   ]
  },
  {
   "cell_type": "code",
   "execution_count": 12,
   "id": "998a9b24-7e2a-457d-89bb-6241199b64af",
   "metadata": {},
   "outputs": [
    {
     "name": "stdout",
     "output_type": "stream",
     "text": [
      "반지름 10 인 원의 넓이= 314.0\n"
     ]
    }
   ],
   "source": [
    "# 변수를 활용한 간단한 계산식 작성\n",
    "radius = 10\n",
    "area = 3.14 * radius * radius\n",
    "print('반지름', radius, '인 원의 넓이=', area)"
   ]
  },
  {
   "cell_type": "code",
   "execution_count": 24,
   "id": "b6f7b2b8-bf03-46f7-9c47-6015919ee541",
   "metadata": {},
   "outputs": [
    {
     "name": "stdout",
     "output_type": "stream",
     "text": [
      "10\n",
      "20\n"
     ]
    }
   ],
   "source": [
    "a = 10\n",
    "A = 20\n",
    "print(a)\n",
    "print(A)\n",
    "#변수에서 대문자, 소문자는 서로 다른 문자로 취급한다.\n",
    "b_5 = 10\n",
    "#변수의 이름은 영문자, 숫자, 밑중(_)로 구성할 수 있다."
   ]
  },
  {
   "cell_type": "code",
   "execution_count": 21,
   "id": "1c8d808a-61da-47d8-a9ad-fc68346595d6",
   "metadata": {},
   "outputs": [
    {
     "ename": "SyntaxError",
     "evalue": "invalid syntax (468852014.py, line 1)",
     "output_type": "error",
     "traceback": [
      "\u001b[0;36m  Cell \u001b[0;32mIn[21], line 1\u001b[0;36m\u001b[0m\n\u001b[0;31m    b 5 = 10\u001b[0m\n\u001b[0m      ^\u001b[0m\n\u001b[0;31mSyntaxError\u001b[0m\u001b[0;31m:\u001b[0m invalid syntax\n"
     ]
    }
   ],
   "source": [
    "b 5 = 10\n",
    "# 변수 이름에는 띄어쓰기가 들어갈 수 없다.(기존의 띄어쓰기는 밑줄로 대신한다.)"
   ]
  },
  {
   "cell_type": "code",
   "execution_count": null,
   "id": "1c3679a9-bc85-44fb-becd-e7bc28099b2e",
   "metadata": {},
   "outputs": [],
   "source": [
    "myNewCar = 1\n",
    "# 낙타체(카멜 표기법): 변수의 첫 단어의 첫 글자는 소문자로, 나머지 단어의 첫 \n",
    "# 글자는 대문자로 표기하는 방법\n",
    "# 띄어쓰기(밑줄) 없이 변수 이름을 만드는 방법 중 하나임"
   ]
  },
  {
   "cell_type": "code",
   "execution_count": 50,
   "id": "5d8b6038-8563-45b8-baf0-c6a11274ccf9",
   "metadata": {},
   "outputs": [],
   "source": [
    "# 자료형 정리\n",
    "# 정수: integer(줄여서 int) \n",
    "# 부동소수점: float\n",
    "# 복소수: complex\n",
    "# 문자형: string(줄여서 str)\n",
    "# 튜플: tuple\n",
    "# 리스트: list\n",
    "# 기타 - 부울형: boolean -> 참과 거짓을 나타내는 데이터 타입"
   ]
  },
  {
   "cell_type": "code",
   "execution_count": 54,
   "id": "2fb098c3-6dda-4d95-b523-69b65b29352c",
   "metadata": {},
   "outputs": [
    {
     "name": "stdout",
     "output_type": "stream",
     "text": [
      "<class 'int'>\n"
     ]
    },
    {
     "data": {
      "text/plain": [
       "int"
      ]
     },
     "execution_count": 54,
     "metadata": {},
     "output_type": "execute_result"
    }
   ],
   "source": [
    "print(type(1234))\n",
    "type(1234)\n",
    "# type함수: 괄호 안 문자가 어떤 자료형인지 알 수 있다."
   ]
  },
  {
   "cell_type": "code",
   "execution_count": 57,
   "id": "dec92f2d-1a23-402f-a000-080952de979d",
   "metadata": {},
   "outputs": [
    {
     "data": {
      "text/plain": [
       "str"
      ]
     },
     "execution_count": 57,
     "metadata": {},
     "output_type": "execute_result"
    }
   ],
   "source": [
    "type(1234) # int \n",
    "type('안녕하세요') # str\n",
    "# type함수만 사용하면 가장 밑에 있는 type함수의 괄호 안 문자의 자료형을 출력한다."
   ]
  },
  {
   "cell_type": "code",
   "execution_count": 51,
   "id": "07423e6e-8f79-4719-ac91-2cb862ac0adc",
   "metadata": {},
   "outputs": [
    {
     "data": {
      "text/plain": [
       "8885608"
      ]
     },
     "execution_count": 51,
     "metadata": {},
     "output_type": "execute_result"
    }
   ],
   "source": [
    "x = 10\n",
    "id(x)\n",
    "# 변수에 저장되는 것은 실제 값이 아닌 객체의 참조값(주소)이다.\n",
    "# 출력되는 것은 변수를 구별하기 위해 부여된 주소이다."
   ]
  },
  {
   "cell_type": "code",
   "execution_count": 49,
   "id": "9be183fd-396a-4d4b-818b-48bd592e4bf1",
   "metadata": {},
   "outputs": [
    {
     "name": "stdout",
     "output_type": "stream",
     "text": [
      "8885384\n",
      "8885384\n",
      "8885608\n"
     ]
    }
   ],
   "source": [
    "x = 3\n",
    "y = x\n",
    "print(id(x))\n",
    "print(id(y))\n",
    "# 변수 y에 변수 x의 참조값이 복사된다 -> 같은 주소를 가진다.\n",
    "y = 10\n",
    "print(id(y))\n",
    "# 변수 y에 다른 값이 할당되면 다른 주소를 가진다."
   ]
  },
  {
   "cell_type": "code",
   "execution_count": 4,
   "id": "b3428425-8cd8-47ee-b282-1dbec6efbde7",
   "metadata": {},
   "outputs": [
    {
     "name": "stdout",
     "output_type": "stream",
     "text": [
      "섭씨온도:  37.77777777777778\n"
     ]
    }
   ],
   "source": [
    "ftemp = 100\n",
    "\n",
    "ctemp = (ftemp-32.0)*5.0/9.0\n",
    "print(\"섭씨온도: \", ctemp)\n",
    "# 화씨온도 값을 입력받아 함수를 통해 섭씨온도로 변환된 값을 출력"
   ]
  },
  {
   "cell_type": "code",
   "execution_count": 8,
   "id": "5f20d6b5-c247-4ad2-915d-a9644bf6d1d7",
   "metadata": {},
   "outputs": [
    {
     "name": "stdout",
     "output_type": "stream",
     "text": [
      "합은 200\n"
     ]
    }
   ],
   "source": [
    "x = 100\n",
    "y = 100\n",
    "sum = x + y\n",
    "#diff = x - y\n",
    "print(\"합은\",sum)"
   ]
  },
  {
   "cell_type": "code",
   "execution_count": 29,
   "id": "c3282c75-1523-49e0-bbd6-aad16a3cfbbf",
   "metadata": {},
   "outputs": [
    {
     "name": "stdin",
     "output_type": "stream",
     "text": [
      "원기둥의 반지름:  10\n",
      "원기둥의 높이:  1\n"
     ]
    },
    {
     "name": "stdout",
     "output_type": "stream",
     "text": [
      "원기둥의 부피: 314.0\n"
     ]
    }
   ],
   "source": [
    "r = int(input(\"원기둥의 반지름: \"))\n",
    "h = int(input(\"원기둥의 높이: \"))\n",
    "\n",
    "V = 3.14 * r ** 2 * h # 거듭제곱은 '**'로 표현\n",
    "print(\"원기둥의 부피:\", V)        "
   ]
  },
  {
   "cell_type": "code",
   "execution_count": 14,
   "id": "e5bb5f42-2663-43c2-a3d5-7a03cfee02a9",
   "metadata": {},
   "outputs": [
    {
     "data": {
      "text/plain": [
       "11.0"
      ]
     },
     "execution_count": 14,
     "metadata": {},
     "output_type": "execute_result"
    }
   ],
   "source": [
    "7 + 4.0\n",
    "# 연산에서 정수값(int)와 부동소수점 값(float)을 입력하면 결과값은 항상 \n",
    "# 부동소수점으로 출력된다."
   ]
  },
  {
   "cell_type": "code",
   "execution_count": 20,
   "id": "32e99b87-ed92-4cde-b909-d8578cf3c50b",
   "metadata": {},
   "outputs": [
    {
     "name": "stdout",
     "output_type": "stream",
     "text": [
      "1\n",
      "3\n",
      "3.5\n"
     ]
    }
   ],
   "source": [
    "x = 1 # 변수 x에 1이라는 값을 할당\n",
    "print(x)\n",
    "\n",
    "y = 3 # 변수 y에 3이라는 값을 할당\n",
    "print(y) \n",
    "\n",
    "x = x * 0.5 + y # 변수 x에 (x * 0.5 + y)라는 값을 할당\n",
    "                # (x * 0.5 + y)에서 변수 x와 y에는 각각 1과 3이라는 값이 \n",
    "                # 이미 할당돼 있다.\n",
    "print(x)\n",
    "# 할당연산자(=): 왼쪽 변수에 오른쪽 값을 할당한다."
   ]
  },
  {
   "cell_type": "code",
   "execution_count": 18,
   "id": "e885b899-c5ab-4916-b633-bdba3c527908",
   "metadata": {},
   "outputs": [
    {
     "name": "stdout",
     "output_type": "stream",
     "text": [
      "105\n"
     ]
    }
   ],
   "source": [
    "x = 100\n",
    "y = 5\n",
    "x += y\n",
    "print(x)\n",
    "# 복합연산자: 대입연산자를 다른 연산자와 합친 연산자이다.\n",
    "# ex) x += y -> x = x + y"
   ]
  },
  {
   "cell_type": "code",
   "execution_count": 22,
   "id": "ce0bd6c1-1263-466f-856b-19d0f7edb7bf",
   "metadata": {},
   "outputs": [
    {
     "name": "stdout",
     "output_type": "stream",
     "text": [
      "0 0 0\n"
     ]
    }
   ],
   "source": [
    "x = y = z = 0\n",
    "print(x, y, z)\n",
    "# 변수 x, y, z에 0이라는 값을 할당\n",
    "# 변수 x, y, z는 모두 같다."
   ]
  },
  {
   "cell_type": "code",
   "execution_count": 27,
   "id": "e1441c13-8698-4944-bac3-619e0df1cbf4",
   "metadata": {},
   "outputs": [
    {
     "name": "stdout",
     "output_type": "stream",
     "text": [
      "10 20 30\n"
     ]
    }
   ],
   "source": [
    "x, y, z = 10, 20, 30\n",
    "print(x, y, z)\n",
    "# 위의 셀에서 변수 x, y, z에 할당된 값을 한번에 초기화\n",
    "# 각각의 셀에서 변수에 저장된 값은 공유된다\n",
    "# 이후 각각 10, 20, 30이라는 값을 할당\n",
    "# 지금 변수 x, y, z에는 각각 10, 20, 30이라는 값이 할당된 상태"
   ]
  },
  {
   "cell_type": "code",
   "execution_count": 34,
   "id": "9038b0e1-ddd4-4331-bbda-42a648c6c9d7",
   "metadata": {},
   "outputs": [
    {
     "data": {
      "text/plain": [
       "3"
      ]
     },
     "execution_count": 34,
     "metadata": {},
     "output_type": "execute_result"
    }
   ],
   "source": [
    "x = 3.14\n",
    "int(x)\n",
    "# 자료형 int(자료형 정수)면 변수 x에서 정수형인 값을 출력"
   ]
  },
  {
   "cell_type": "code",
   "execution_count": 35,
   "id": "1ae90258-396d-4f27-a75e-944ae0b3cfd8",
   "metadata": {},
   "outputs": [
    {
     "data": {
      "text/plain": [
       "3.0"
      ]
     },
     "execution_count": 35,
     "metadata": {},
     "output_type": "execute_result"
    }
   ],
   "source": [
    "y = 3\n",
    "float(y)\n",
    "# 자료형 flaot(자료형 부동소수점)이면 변수 y가 정수여도 소수점까지 표현"
   ]
  },
  {
   "cell_type": "code",
   "execution_count": 37,
   "id": "ef821279-7353-4e60-84f8-3be514e6c4cf",
   "metadata": {},
   "outputs": [
    {
     "data": {
      "text/plain": [
       "2"
      ]
     },
     "execution_count": 37,
     "metadata": {},
     "output_type": "execute_result"
    }
   ],
   "source": [
    "z = 1.82342342\n",
    "\n",
    "round(z)\n",
    "# round함수: 변수에 할당된 값을 반올림하여 출력"
   ]
  },
  {
   "cell_type": "code",
   "execution_count": 43,
   "id": "40ae7a73-a3d9-4e40-8d70-16626b3ea234",
   "metadata": {},
   "outputs": [
    {
     "name": "stdout",
     "output_type": "stream",
     "text": [
      "1.72332453456 1.72\n"
     ]
    }
   ],
   "source": [
    "w = 1.72332453456 \n",
    "print(w, round(w, 2))\n",
    "# round함수 뒤에 숫자 n 추가: 소수점 n번째 자리까지 표시\n",
    "# =소수점 n+1번째 자리에서 반올림\n",
    "# 소수점 2번째 자리까지 표시하므로 소수점 3번째 자리에서 반올림하여 출력)\n",
    "# 주의: 변수에 저장된 값은 그대로 "
   ]
  },
  {
   "cell_type": "code",
   "execution_count": 52,
   "id": "a80ab4b0-dc44-4564-b3c2-affa58dacf3f",
   "metadata": {},
   "outputs": [
    {
     "name": "stdout",
     "output_type": "stream",
     "text": [
      "hi\n",
      "3\n"
     ]
    }
   ],
   "source": [
    "print(\"hi\")\n",
    "print(3)\n",
    "# 따옴표 안 문자는 문자열로 구분(자료형 str)"
   ]
  },
  {
   "cell_type": "code",
   "execution_count": 54,
   "id": "8040a17b-c428-4745-b61e-cf42246e5cd0",
   "metadata": {},
   "outputs": [
    {
     "name": "stdout",
     "output_type": "stream",
     "text": [
      "5\n",
      "3+2\n"
     ]
    }
   ],
   "source": [
    "print(3+2)\n",
    "print(\"3+2\")\n",
    "# 숫자는 그냥 적으면 자료형 int지만 따옴표 안에 넣으면 자료형이 str로 변한다"
   ]
  },
  {
   "cell_type": "code",
   "execution_count": 48,
   "id": "c9c28da4-e15d-41a9-b20d-43a1a638dc37",
   "metadata": {},
   "outputs": [
    {
     "data": {
      "text/plain": [
       "'hello world'"
      ]
     },
     "execution_count": 48,
     "metadata": {},
     "output_type": "execute_result"
    }
   ],
   "source": [
    "\"hello \" + \"world\"\n",
    "# 문자열끼리 합칠 수 있다"
   ]
  },
  {
   "cell_type": "code",
   "execution_count": 55,
   "id": "04f5b101-0f0f-4140-bbcc-1e1f1a9423f6",
   "metadata": {},
   "outputs": [
    {
     "ename": "TypeError",
     "evalue": "can only concatenate str (not \"int\") to str",
     "output_type": "error",
     "traceback": [
      "\u001b[0;31m---------------------------------------------------------------------------\u001b[0m",
      "\u001b[0;31mTypeError\u001b[0m                                 Traceback (most recent call last)",
      "Cell \u001b[0;32mIn[55], line 1\u001b[0m\n\u001b[0;32m----> 1\u001b[0m movie \u001b[38;5;241m=\u001b[39m \u001b[38;5;124m\"\u001b[39m\u001b[38;5;124mTerminator\u001b[39m\u001b[38;5;124m\"\u001b[39m \u001b[38;5;241m+\u001b[39m \u001b[38;5;241m3\u001b[39m\n",
      "\u001b[0;31mTypeError\u001b[0m: can only concatenate str (not \"int\") to str"
     ]
    }
   ],
   "source": [
    "movie = \"Terminator\" + 3\n",
    "# 문자열과 문자열끼리만 붙일 수 있음(오류발생)"
   ]
  },
  {
   "cell_type": "code",
   "execution_count": 58,
   "id": "d97e667b-facb-420b-88f2-80d0ac939e9e",
   "metadata": {},
   "outputs": [
    {
     "name": "stdout",
     "output_type": "stream",
     "text": [
      "안녕\n",
      "하세요\n"
     ]
    }
   ],
   "source": [
    "print(\"안녕\\n하세요\")\n",
    "# \\n: 줄바꿈 문자(\\n 뒤 문자들은 줄 바꾸므로 밑에 줄부터 다시 출력)"
   ]
  },
  {
   "cell_type": "code",
   "execution_count": 62,
   "id": "b10777fb-29d0-40a1-9e4d-c5fdb159a40c",
   "metadata": {},
   "outputs": [
    {
     "data": {
      "text/plain": [
       "'h'"
      ]
     },
     "execution_count": 62,
     "metadata": {},
     "output_type": "execute_result"
    }
   ],
   "source": [
    "a = \"hello world\"\n",
    "a[0]\n",
    "# 문자는 각각의 방을 하나씩 가진다\n",
    "# a[0](a 인덱스 0): 변수 a에서 0번째 문자 출력: \n",
    "# 가장 앞에있는(0번째부터 시작) 'h' 문자가 출력"
   ]
  },
  {
   "cell_type": "code",
   "execution_count": 68,
   "id": "15903100-cb2b-4538-82b6-0646d977ea0b",
   "metadata": {},
   "outputs": [
    {
     "name": "stdout",
     "output_type": "stream",
     "text": [
      "K와P\n"
     ]
    }
   ],
   "source": [
    "a = \"Kim\" # 문자열을 변수에 할당하려면 꼭 따옴표 안에 문자열 넣기\n",
    "b = \"Park\"\n",
    "c = a[0] + \"와\" + b[0]\n",
    "print(c)"
   ]
  },
  {
   "cell_type": "code",
   "execution_count": 3,
   "id": "65751783-a244-4bee-b911-38a63444f199",
   "metadata": {},
   "outputs": [
    {
     "name": "stdin",
     "output_type": "stream",
     "text": [
      "이름을 입력하세요:  최유성\n"
     ]
    },
    {
     "name": "stdout",
     "output_type": "stream",
     "text": [
      "최유성\n"
     ]
    }
   ],
   "source": [
    "# input 함수\n",
    "name = input(\"이름을 입력하세요: \") # input함수를 통해 사용자의 이름을 \n",
    "                                    # 입력받아 변수 name에 저장\n",
    "\n",
    "print(name) # 변수에 대입된 값을 출력"
   ]
  },
  {
   "cell_type": "code",
   "execution_count": 10,
   "id": "33d816c0-74b0-43e5-88cd-eda00e96bb75",
   "metadata": {},
   "outputs": [
    {
     "name": "stdin",
     "output_type": "stream",
     "text": [
      "첫 번째 정수를 입력하세요: 2\n",
      "두 번째 정수를 입력하세요: 2\n"
     ]
    },
    {
     "name": "stdout",
     "output_type": "stream",
     "text": [
      "4\n"
     ]
    }
   ],
   "source": [
    "s1 = int(input(\"첫 번째 정수를 입력하세요:\"))                           \n",
    "s2 = int(input(\"두 번째 정수를 입력하세요:\")) \n",
    "\n",
    "# 파이썬에서는 변수 선언할때 앞에 자료형 입력 안함\n",
    "# input함수로 값 입력받을때 input함수 전체에 괄호 치고 앞에 자료형 붙이면\n",
    "# 사용자에게 입력받은 값을 그 자료형으로 저장하여 변수에 할당\n",
    "sum = s1 + s2\n",
    "print(sum)"
   ]
  },
  {
   "cell_type": "code",
   "execution_count": 21,
   "id": "b4bf6d72-e75d-4226-b19e-d8b2dd2a37fa",
   "metadata": {},
   "outputs": [
    {
     "name": "stdout",
     "output_type": "stream",
     "text": [
      "100와 200의 합=300\n"
     ]
    }
   ],
   "source": [
    "x = 100\n",
    "y = 200\n",
    "print(f\"{x}와 {y}의 합={x + y}\") \n",
    "# 중괄호 안에 변수 넣어 문자열 그대로                                  \n",
    "# 출력되지 않게 할 수 있다(따옴표 앞에 f(f-string) 붙인다) \n",
    "# 변수와 문자열을 함께 출력할 수 있다."
   ]
  },
  {
   "cell_type": "code",
   "execution_count": 16,
   "id": "d9952793-6836-41e0-a23f-565a636c2e38",
   "metadata": {},
   "outputs": [
    {
     "name": "stdin",
     "output_type": "stream",
     "text": [
      "면적(제곱미터): 25.6\n"
     ]
    },
    {
     "name": "stdout",
     "output_type": "stream",
     "text": [
      "7.76 평\n"
     ]
    }
   ],
   "source": [
    "SQMETER_PER_P = 3.3\n",
    "\n",
    "area = eval(input(\"면적(제곱미터):\"))\n",
    "py = area / SQMETER_PER_P\n",
    "print(\"%.2f\" % py, \"평\") \n",
    "# %2.f: 부동소수점 문자를 소수점 둘째자리까지 표시(C에 나왔던거)"
   ]
  },
  {
   "cell_type": "code",
   "execution_count": 18,
   "id": "9c9198b0-c8b1-4e83-b4cb-b1f66db5913a",
   "metadata": {},
   "outputs": [
    {
     "ename": "ValueError",
     "evalue": "invalid literal for int() with base 10: '3.14'",
     "output_type": "error",
     "traceback": [
      "\u001b[0;31m---------------------------------------------------------------------------\u001b[0m",
      "\u001b[0;31mValueError\u001b[0m                                Traceback (most recent call last)",
      "Cell \u001b[0;32mIn[18], line 1\u001b[0m\n\u001b[0;32m----> 1\u001b[0m \u001b[38;5;28mint\u001b[39m(\u001b[38;5;124m\"\u001b[39m\u001b[38;5;124m3.14\u001b[39m\u001b[38;5;124m\"\u001b[39m)\n",
      "\u001b[0;31mValueError\u001b[0m: invalid literal for int() with base 10: '3.14'"
     ]
    }
   ],
   "source": [
    "int(\"3.14\") # 정수형을 입력해야 하는데 소수점을 입력해서 오류 발생"
   ]
  },
  {
   "cell_type": "code",
   "execution_count": 20,
   "id": "44a67f93-6087-4b70-9462-447e1ca87210",
   "metadata": {},
   "outputs": [
    {
     "data": {
      "text/plain": [
       "3"
      ]
     },
     "execution_count": 20,
     "metadata": {},
     "output_type": "execute_result"
    }
   ],
   "source": [
    "int(float(\"3.14\")) \n",
    "# 입력받은 값을 flaot자료형으로 변경했다가 다시 int형으로 변경 \n",
    "# -> 최종적으로 정수가 출력"
   ]
  },
  {
   "cell_type": "code",
   "execution_count": 26,
   "id": "974b053b-516e-492b-b7dc-2af0b5154f2c",
   "metadata": {},
   "outputs": [
    {
     "name": "stdout",
     "output_type": "stream",
     "text": [
      "안녕하세요?\n"
     ]
    },
    {
     "name": "stdin",
     "output_type": "stream",
     "text": [
      "이름이 어떻게 되시나요? 최유성\n"
     ]
    },
    {
     "name": "stdout",
     "output_type": "stream",
     "text": [
      "만나서 반갑습니다. 최유성씨\n",
      "이름의 길이는 다음과 같군요: 3\n"
     ]
    }
   ],
   "source": [
    "print(\"안녕하세요?\")\n",
    "name = input(\"이름이 어떻게 되시나요?\")\n",
    "print(f\"만나서 반갑습니다. {name}씨\")\n",
    "print(\"이름의 길이는 다음과 같군요:\", len(name)) \n",
    "# len(변수명)함수를 통해 변수에 할당된 값의 길이\n",
    "# (셀의 문자 개수, 빈칸 포함)를 반환"
   ]
  },
  {
   "cell_type": "code",
   "execution_count": null,
   "id": "ec6b63b9-3ab2-4f0b-9155-f42cf30ea323",
   "metadata": {},
   "outputs": [],
   "source": []
  }
 ],
 "metadata": {
  "kernelspec": {
   "display_name": "anaconda-panel-2023.05-py310",
   "language": "python",
   "name": "conda-env-anaconda-panel-2023.05-py310-py"
  },
  "language_info": {
   "codemirror_mode": {
    "name": "ipython",
    "version": 3
   },
   "file_extension": ".py",
   "mimetype": "text/x-python",
   "name": "python",
   "nbconvert_exporter": "python",
   "pygments_lexer": "ipython3",
   "version": "3.11.5"
  }
 },
 "nbformat": 4,
 "nbformat_minor": 5
}
