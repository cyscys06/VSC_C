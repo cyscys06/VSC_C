{
 "cells": [
  {
   "cell_type": "markdown",
   "id": "9ea886c7",
   "metadata": {},
   "source": [
    "# 1장 프로그래밍과 파이썬 소개"
   ]
  },
  {
   "cell_type": "markdown",
   "id": "6644f441-910f-4aaa-9714-db216db6edd6",
   "metadata": {},
   "source": [
    "## 첫 번째 프로그램 Hello World ...\n",
    "- 실습환경 준비 후 첫 번째로 실행"
   ]
  },
  {
   "cell_type": "code",
   "execution_count": 5,
   "id": "ab92dde2-96b0-40fe-920c-44c2b8820372",
   "metadata": {},
   "outputs": [
    {
     "name": "stdout",
     "output_type": "stream",
     "text": [
      "Hello World\n"
     ]
    }
   ],
   "source": [
    "print('Hello World')     # 따움표는 single/double quotation 둘다 가능함"
   ]
  },
  {
   "cell_type": "code",
   "execution_count": 7,
   "id": "07ee73e4-6610-405a-9c76-c6b4ef6ce5ae",
   "metadata": {},
   "outputs": [
    {
     "name": "stdout",
     "output_type": "stream",
     "text": [
      "Hello World\n"
     ]
    }
   ],
   "source": [
    "print(\"Hello World\") "
   ]
  },
  {
   "cell_type": "markdown",
   "id": "4b6886da-a65f-4492-874f-c14128a1dfa2",
   "metadata": {},
   "source": [
    "## 계산하기 1\n",
    "\n",
    "반지름이10cm인피자의면적을계산해보자"
   ]
  },
  {
   "cell_type": "code",
   "execution_count": 10,
   "id": "a82156f7-772a-4bdc-94b1-8e109423ce7a",
   "metadata": {},
   "outputs": [
    {
     "data": {
      "text/plain": [
       "314.0"
      ]
     },
     "execution_count": 10,
     "metadata": {},
     "output_type": "execute_result"
    }
   ],
   "source": [
    "3.14*10*10"
   ]
  },
  {
   "cell_type": "code",
   "execution_count": 12,
   "id": "5b8c8648-1db4-494f-8988-fde4a3bc8ecb",
   "metadata": {},
   "outputs": [
    {
     "data": {
      "text/plain": [
       "314.0"
      ]
     },
     "execution_count": 12,
     "metadata": {},
     "output_type": "execute_result"
    }
   ],
   "source": [
    "3.14*10**2"
   ]
  },
  {
   "cell_type": "markdown",
   "id": "bf67ff0e-4d59-4b3f-9f2e-500dc61d3a01",
   "metadata": {},
   "source": [
    "## 계산하기 2\n",
    "삼각함수, 로그함수사용하기\n"
   ]
  },
  {
   "cell_type": "code",
   "execution_count": 22,
   "id": "20493e7e-b180-4ba8-83fe-ae45c6e37859",
   "metadata": {},
   "outputs": [
    {
     "data": {
      "text/plain": [
       "0.49999999999999994"
      ]
     },
     "execution_count": 22,
     "metadata": {},
     "output_type": "execute_result"
    }
   ],
   "source": [
    "import math\n",
    "math.sin(math.radians(30))"
   ]
  },
  {
   "cell_type": "code",
   "execution_count": 24,
   "id": "f6b57ffa-8ab2-4fbf-96e4-e3afab9c4f33",
   "metadata": {},
   "outputs": [
    {
     "data": {
      "text/plain": [
       "3.0"
      ]
     },
     "execution_count": 24,
     "metadata": {},
     "output_type": "execute_result"
    }
   ],
   "source": [
    "math.sqrt(9.0)"
   ]
  },
  {
   "cell_type": "code",
   "execution_count": 26,
   "id": "a71b6e8e-a315-4707-9f4d-521f00d0bb22",
   "metadata": {},
   "outputs": [
    {
     "data": {
      "text/plain": [
       "0.0"
      ]
     },
     "execution_count": 26,
     "metadata": {},
     "output_type": "execute_result"
    }
   ],
   "source": [
    "math.log(1.0)"
   ]
  },
  {
   "cell_type": "markdown",
   "id": "c5e304a1-b8d5-4fe3-a6b1-d9e4b4114399",
   "metadata": {},
   "source": [
    "## 문자열"
   ]
  },
  {
   "cell_type": "code",
   "execution_count": 30,
   "id": "616f8d88-b347-4654-9699-70ca8da3d6c9",
   "metadata": {},
   "outputs": [
    {
     "data": {
      "text/plain": [
       "'HelloHelloHelloHelloHelloHelloHelloHelloHelloHello'"
      ]
     },
     "execution_count": 30,
     "metadata": {},
     "output_type": "execute_result"
    }
   ],
   "source": [
    "\"Hello\" * 10"
   ]
  },
  {
   "cell_type": "markdown",
   "id": "7575db03-cc39-414c-95b0-659b016f214c",
   "metadata": {},
   "source": [
    "반드시 따옴표가 있어야 한다"
   ]
  },
  {
   "cell_type": "code",
   "execution_count": 3,
   "id": "0184c192",
   "metadata": {},
   "outputs": [
    {
     "ename": "SyntaxError",
     "evalue": "unterminated string literal (detected at line 4) (63296874.py, line 4)",
     "output_type": "error",
     "traceback": [
      "\u001b[0;36m  Cell \u001b[0;32mIn[3], line 4\u001b[0;36m\u001b[0m\n\u001b[0;31m    print(\"제가 다 고쳐 보겠습니다.)\u001b[0m\n\u001b[0m          ^\u001b[0m\n\u001b[0;31mSyntaxError\u001b[0m\u001b[0;31m:\u001b[0m unterminated string literal (detected at line 4)\n"
     ]
    }
   ],
   "source": [
    "# %load bug.py\n",
    "print(안녕하세요?)\n",
    "Print(\"이번 코드에는 많은 오류가 있다네요\")\n",
    "print(\"제가 다 고쳐 보겠습니다.)"
   ]
  },
  {
   "cell_type": "code",
   "execution_count": 10,
   "id": "7f57720b",
   "metadata": {},
   "outputs": [
    {
     "name": "stdout",
     "output_type": "stream",
     "text": [
      "파이썬에 오신 것을 환영합니다.\n",
      "파이썬은 쉽습니다.\n",
      "파이썬으로 빅데이터, 인공지능 프로그램을 작성할 수 있습니다.\n"
     ]
    }
   ],
   "source": [
    "# %load lab1.py\n",
    "print(\"파이썬에 오신 것을 환영합니다.\")\n",
    "print(\"파이썬은 쉽습니다.\")\n",
    "print(\"파이썬으로 빅데이터, 인공지능 프로그램을 작성할 수 있습니다.\")"
   ]
  },
  {
   "cell_type": "code",
   "execution_count": null,
   "id": "8f70a1b8-c72e-4f4a-82fa-fb42d4438159",
   "metadata": {},
   "outputs": [],
   "source": []
  },
  {
   "cell_type": "code",
   "execution_count": null,
   "id": "7b8253cb-4f7a-4e15-8466-8a931f3a8a1b",
   "metadata": {},
   "outputs": [],
   "source": []
  },
  {
   "cell_type": "code",
   "execution_count": 12,
   "id": "e1a5716c",
   "metadata": {},
   "outputs": [
    {
     "name": "stdout",
     "output_type": "stream",
     "text": [
      "2+3= 5\n",
      "2-3= -1\n",
      "2*3= 6\n",
      "2/3= 0.6666666666666666\n"
     ]
    }
   ],
   "source": [
    "# %load lab2.py\n",
    "print(\"2+3=\", 2+3)\n",
    "print(\"2-3=\", 2-3)\n",
    "print(\"2*3=\", 2*3)\n",
    "print(\"2/3=\", 2/3)"
   ]
  },
  {
   "cell_type": "code",
   "execution_count": 33,
   "id": "76c15f00",
   "metadata": {},
   "outputs": [],
   "source": [
    "#### 이 부분은 파일 읽고 쓰기 배우고 나서 실습 가능\n",
    "\n",
    "# # %load mobydick.py\n",
    "# from collections import Counter\n",
    "\n",
    "# f = open(\"mobydick.txt\", encoding=\"utf-8\")\n",
    "# count = Counter(f.read().split())\n",
    "# print(\"단어 출현 횟수:\", count)"
   ]
  },
  {
   "cell_type": "code",
   "execution_count": 20,
   "id": "ae8874d3",
   "metadata": {
    "scrolled": true
   },
   "outputs": [
    {
     "name": "stdout",
     "output_type": "stream",
     "text": [
      "내가 제일 좋아하는 음식은 피자!\n",
      "피자피자피자피자피자피자피자피자피자피자\n",
      "얌얌얌얌얌얌얌얌얌얌얌얌얌얌얌얌얌얌얌얌\n"
     ]
    }
   ],
   "source": [
    "# %load script(p33).py\n",
    "print(\"내가 제일 좋아하는 음식은 피자!\")\n",
    "print(\"피자\"*10)\n",
    "print(\"얌얌\"*10)"
   ]
  },
  {
   "cell_type": "markdown",
   "id": "4eaf442b-5b5c-42b9-8601-023f363f135c",
   "metadata": {},
   "source": [
    "---"
   ]
  },
  {
   "cell_type": "markdown",
   "id": "2c4e59d7-5f32-4bff-8e0a-fe512955ea98",
   "metadata": {},
   "source": [
    "## 2장 부터는 직접 손코딩으로 실습합니다.\n",
    "- 실습할 수 있는 템플릿은 제공함\n",
    "- 실습한 결과를 업로드 하는 것이 과제입니다.\n",
    "      - 실습시간에 마치지 못한 것은 homework으로 자동 전환됨"
   ]
  },
  {
   "cell_type": "code",
   "execution_count": null,
   "id": "0c06df59-ebb1-4e4b-9ae3-456a6899c650",
   "metadata": {},
   "outputs": [],
   "source": []
  }
 ],
 "metadata": {
  "kernelspec": {
   "display_name": "anaconda-panel-2023.05-py310",
   "language": "python",
   "name": "conda-env-anaconda-panel-2023.05-py310-py"
  },
  "language_info": {
   "codemirror_mode": {
    "name": "ipython",
    "version": 3
   },
   "file_extension": ".py",
   "mimetype": "text/x-python",
   "name": "python",
   "nbconvert_exporter": "python",
   "pygments_lexer": "ipython3",
   "version": "3.11.5"
  },
  "toc": {
   "base_numbering": 1,
   "nav_menu": {},
   "number_sections": false,
   "sideBar": true,
   "skip_h1_title": false,
   "title_cell": "Table of Contents",
   "title_sidebar": "Contents",
   "toc_cell": false,
   "toc_position": {},
   "toc_section_display": true,
   "toc_window_display": true
  },
  "varInspector": {
   "cols": {
    "lenName": 16,
    "lenType": 16,
    "lenVar": 40
   },
   "kernels_config": {
    "python": {
     "delete_cmd_postfix": "",
     "delete_cmd_prefix": "del ",
     "library": "var_list.py",
     "varRefreshCmd": "print(var_dic_list())"
    },
    "r": {
     "delete_cmd_postfix": ") ",
     "delete_cmd_prefix": "rm(",
     "library": "var_list.r",
     "varRefreshCmd": "cat(var_dic_list()) "
    }
   },
   "types_to_exclude": [
    "module",
    "function",
    "builtin_function_or_method",
    "instance",
    "_Feature"
   ],
   "window_display": false
  }
 },
 "nbformat": 4,
 "nbformat_minor": 5
}
