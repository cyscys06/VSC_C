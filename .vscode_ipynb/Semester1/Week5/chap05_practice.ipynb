{
 "cells": [
  {
   "cell_type": "code",
   "execution_count": 15,
   "id": "b63e9c8f-61fe-4dca-bcf7-5bf5644e9ab6",
   "metadata": {
    "editable": true,
    "slideshow": {
     "slide_type": ""
    },
    "tags": []
   },
   "outputs": [
    {
     "name": "stdout",
     "output_type": "stream",
     "text": [
      "28.26\n"
     ]
    }
   ],
   "source": [
    "def get_area(radius): # def 함수명(매개변수1, 매개변수2, ...): -> 함수 머리\n",
    "    area = 3.14 * radius ** 2 # 들여쓰기 된 구문들: 함수 몸체\n",
    "    return area # 임의 값을 반환\n",
    "\n",
    "result = get_area(3) # 매개변수로 넣은 값을 함수 안에서 계산\n",
    "print(result)"
   ]
  },
  {
   "cell_type": "code",
   "execution_count": 12,
   "id": "6a807ebe-3630-4eb7-96a6-e360f77a951d",
   "metadata": {
    "editable": true,
    "slideshow": {
     "slide_type": ""
    },
    "tags": []
   },
   "outputs": [
    {
     "name": "stdout",
     "output_type": "stream",
     "text": [
      "2\n",
      "3\n"
     ]
    }
   ],
   "source": [
    "def get_input():\n",
    "    return 2, 3 # 2, 3 반환\n",
    "                # 파이썬에서는 여러개의 값을 반환할 수 있다.(return 값1, 값2, ...)    \n",
    "x, y = get_input() # 순서대로 2, 3 저장\n",
    "print(x) \n",
    "print(y) "
   ]
  },
  {
   "cell_type": "code",
   "execution_count": 14,
   "id": "6b4555b1-f468-4d7d-a208-fb1534c188e1",
   "metadata": {},
   "outputs": [],
   "source": [
    "def sub(): # 함수 선언만 하고 정의는 나중에 쓰고싶을때\n",
    "    pass # pass 키워드를 사용해서 넘길 수 있다.(오류 발생 안함)"
   ]
  },
  {
   "cell_type": "code",
   "execution_count": 18,
   "id": "4dc69792-1349-424c-8bda-61736f165eff",
   "metadata": {},
   "outputs": [],
   "source": [
    "del get_area # 정의되어 있는 함수 삭제"
   ]
  },
  {
   "cell_type": "code",
   "execution_count": null,
   "id": "540a25fc-e36f-4760-bcb0-58e98853a62c",
   "metadata": {},
   "outputs": [
    {
     "ename": "NameError",
     "evalue": "name 'get_area' is not defined",
     "output_type": "error",
     "traceback": [
      "\u001b[0;31m---------------------------------------------------------------------------\u001b[0m",
      "\u001b[0;31mNameError\u001b[0m                                 Traceback (most recent call last)",
      "Cell \u001b[0;32mIn[20], line 1\u001b[0m\n\u001b[0;32m----> 1\u001b[0m result \u001b[38;5;241m=\u001b[39m get_area(\u001b[38;5;241m3\u001b[39m) \u001b[38;5;66;03m# 함수를 먼저 정의하지 않고 미리 함수를 호출해버리면 함수의 정의를 모르기 때문에 오류 발생\u001b[39;00m\n\u001b[1;32m      2\u001b[0m \u001b[38;5;28mprint\u001b[39m(result)\n\u001b[1;32m      4\u001b[0m \u001b[38;5;28;01mdef\u001b[39;00m \u001b[38;5;21mget_area\u001b[39m(radius):\n",
      "\u001b[0;31mNameError\u001b[0m: name 'get_area' is not defined"
     ]
    }
   ],
   "source": [
    "result = get_area(3) # 함수를 먼저 정의하지 않고 미리 함수를 호출해버리면 함수의 정의를 모르기 때문에 오류 발생\n",
    "print(result)\n",
    "\n",
    "def get_area(radius):\n",
    "    area = 3.14 * radius ** 2 \n",
    "    return area "
   ]
  },
  {
   "cell_type": "code",
   "execution_count": 23,
   "id": "3b13f083-34e5-4936-a65f-dceeab674abc",
   "metadata": {},
   "outputs": [
    {
     "name": "stdout",
     "output_type": "stream",
     "text": [
      "28.26\n"
     ]
    }
   ],
   "source": [
    "def main(): # 하지만 함수 안에서는 아직 정의되지 않은 함수를 호출할 수 있다(이 줄은 함수를 정의만 해놓은거지 아직 호출한게 아니기 떄문)\n",
    "    result = get_area(3) # 함수를 먼저 정의하지 않고 미리 함수를 호출해버리면 함수의 정의를 모르기 때문에 오류 발생\n",
    "    print(result)\n",
    "\n",
    "def get_area(radius):\n",
    "    area = 3.14 * radius ** 2 \n",
    "    return area\n",
    "\n",
    "main() # 함수 호출"
   ]
  },
  {
   "cell_type": "code",
   "execution_count": 27,
   "id": "c5cbfc44-d9e1-444b-b988-5d212ac92edf",
   "metadata": {},
   "outputs": [
    {
     "name": "stdout",
     "output_type": "stream",
     "text": [
      "55\n",
      "210\n"
     ]
    }
   ],
   "source": [
    "def get_sum(start, end):\n",
    "    sum = 0\n",
    "    for i in range(start, end + 1):\n",
    "        sum += i # sum = 1 + 2 + 3 + ...(i값이 범위 내에서 계속 1씩 증가하기 때문)\n",
    "    return sum\n",
    "\n",
    "x = get_sum(1, 10)\n",
    "y = get_sum(1, 20)\n",
    "\n",
    "print(x)\n",
    "print(y)"
   ]
  },
  {
   "cell_type": "code",
   "execution_count": 31,
   "id": "94850bf9-8369-4aa2-9198-1656336b51fb",
   "metadata": {},
   "outputs": [
    {
     "name": "stdout",
     "output_type": "stream",
     "text": [
      "20\n"
     ]
    }
   ],
   "source": [
    "def set_radius(radius):\n",
    "    radius = 100\n",
    "    return # 아무것도 반환 x\n",
    "\n",
    "r = 20\n",
    "set_radius(r) # 반환하는값 없으므로 아무상관 없는 함수임\n",
    "print(r)\n",
    "# 이거 시험 나올확률 있음"
   ]
  },
  {
   "cell_type": "code",
   "execution_count": 33,
   "id": "3ec75576-6ff1-4ab8-80b8-f0c155396d3d",
   "metadata": {},
   "outputs": [
    {
     "name": "stdout",
     "output_type": "stream",
     "text": [
      "안녕 영희,별일없죠?\n"
     ]
    }
   ],
   "source": [
    "def greet(name, msg = \"별일없죠?\"): # msg: 디폴트 변수(임의의 값을 함수 정의에서 할당해줬으므로 msg는 기본적으로 값을 가지고 있다.)\n",
    "    print(\"안녕\", name + ',' + msg) # 다른곳에서 다시 변수를 초기화해준게 아니라면 디폴트 변수는 자기가 가지고 있는 값을 출력한다.\n",
    "\n",
    "greet(\"영희\")"
   ]
  },
  {
   "cell_type": "code",
   "execution_count": 34,
   "id": "90d24b44-474a-46fc-b30c-b0988d4b334f",
   "metadata": {},
   "outputs": [],
   "source": [
    "def sub(x, y, z):\n",
    "    print(x, y, z)"
   ]
  },
  {
   "cell_type": "code",
   "execution_count": 36,
   "id": "d9570057-be02-4bc3-a0a8-7f5d6e05b79f",
   "metadata": {},
   "outputs": [
    {
     "name": "stdout",
     "output_type": "stream",
     "text": [
      "10 20 30\n"
     ]
    }
   ],
   "source": [
    "sub(10, 20, 30) # x에 10, y에 20, z에 30 할당"
   ]
  },
  {
   "cell_type": "code",
   "execution_count": 38,
   "id": "09e071a6-7d9f-4d67-b875-c778cfad8755",
   "metadata": {},
   "outputs": [
    {
     "name": "stdout",
     "output_type": "stream",
     "text": [
      "20 30 10\n"
     ]
    }
   ],
   "source": [
    "sub(20, 30, 10) # x에 20, y에 30, z에 10 할당 -> 이러한 방식들은 값을 명시적으로 할당해주는 경우가 아니라 그냥 순서대로 값을 할당해주는 방식이다"
   ]
  },
  {
   "cell_type": "code",
   "execution_count": 40,
   "id": "6f00966a-21a6-4c2a-978d-bdb6fece046a",
   "metadata": {},
   "outputs": [
    {
     "name": "stdout",
     "output_type": "stream",
     "text": [
      "10 20 30\n"
     ]
    }
   ],
   "source": [
    "sub(x = 10, y = 20, z = 30) # 각각의 값을 직접(명시적으로)할당해줬다(x, y, z)마다 일일히 값을 하나하나 지정해줬다"
   ]
  },
  {
   "cell_type": "code",
   "execution_count": 1,
   "id": "76302390-4121-4257-8d41-3786811d24f0",
   "metadata": {},
   "outputs": [
    {
     "ename": "SyntaxError",
     "evalue": "positional argument follows keyword argument (3239740873.py, line 1)",
     "output_type": "error",
     "traceback": [
      "\u001b[0;36m  Cell \u001b[0;32mIn[1], line 1\u001b[0;36m\u001b[0m\n\u001b[0;31m    sub(x = 10, y, z)\u001b[0m\n\u001b[0m                    ^\u001b[0m\n\u001b[0;31mSyntaxError\u001b[0m\u001b[0;31m:\u001b[0m positional argument follows keyword argument\n"
     ]
    }
   ],
   "source": [
    "sub(x = 10, y, z) # 매개변수에 디폴트값을 설정해주려면 디폴트값이 정해지지 않은 매개변수 뒤에 디폴트값을 설정해준다(디폴트 설정이 일반 매개변수 설정보다 반드시 뒤에 있어야 한다). "
   ]
  },
  {
   "cell_type": "code",
   "execution_count": 42,
   "id": "44119059-d888-438c-b958-d8743d28fce8",
   "metadata": {},
   "outputs": [
    {
     "name": "stdout",
     "output_type": "stream",
     "text": [
      "10 20 30\n"
     ]
    }
   ],
   "source": [
    "sub(y = 20, z = 30, x = 10) # 순서가 바뀌더라도 어차피 명시적으로 값을 할당한 것이기 때문에 함수의 매개변수가 지정된 순서(x, y, z순)대로 나온다"
   ]
  },
  {
   "cell_type": "code",
   "execution_count": 1,
   "id": "bd58254e-f76c-489f-bc69-9d0fa2a578ad",
   "metadata": {},
   "outputs": [
    {
     "name": "stdout",
     "output_type": "stream",
     "text": [
      "값 한개\n",
      "(10,)\n",
      "값 여러개\n",
      "(10, 20, 30)\n"
     ]
    }
   ],
   "source": [
    "def varfunc(*arg): # 매개변수(*arg)의 의미: 가변인수 -> 매개변수가 몇개가 오는지 정해지지 않음(정확히는 오는 값들을 전부 매개변수로 받아들여 오는 개수만큼 매개변수의 개수를 가진다)\n",
    "    print(arg)\n",
    "\n",
    "print(\"값 한개\")\n",
    "varfunc(10) # 뒤에 매개변수가 또 올것을 고려해서 출력될때 출력값 뒤에 쉼표가 붙어서 나옴\n",
    "\n",
    "print(\"값 여러개\")\n",
    "varfunc(10, 20, 30) # 값들은 튜플(별도의 통)의 형태로 출력된다"
   ]
  },
  {
   "cell_type": "code",
   "execution_count": 2,
   "id": "03f40992-b1d6-48d6-9b64-91c4e5243efd",
   "metadata": {},
   "outputs": [
    {
     "name": "stdout",
     "output_type": "stream",
     "text": [
      "30\n",
      "60\n"
     ]
    }
   ],
   "source": [
    "def add(*numbers): # add함수에서 *가 붙었으므로 오는 값들 전부다 받음\n",
    "    sum = 0\n",
    "    for n in numbers: # 매개변수 numbers의 인자들을 하나씩 n에 할당한다 -> *numbers 개수만큼 for문 반복\n",
    "        sum += n # add함수 안 매개변수를 하나씩 sum에 더한다\n",
    "    return sum\n",
    "print(add(10, 20)) # sum = 10 + 20 = 30\n",
    "print(add(10, 20, 30)) # sum = 10 + 20 + 30 = 60"
   ]
  },
  {
   "cell_type": "code",
   "execution_count": 3,
   "id": "25c8e824-e5d5-4260-9035-2410426d7049",
   "metadata": {},
   "outputs": [
    {
     "name": "stdout",
     "output_type": "stream",
     "text": [
      "hi Mr.Kim\n"
     ]
    }
   ],
   "source": [
    "def myfuc(**kwargs): # 이중 별표: 가변 길이 변수 -> 매개변수가 딕셔너리 형태로 함수에 전달\n",
    "    result = \"\"\n",
    "    for arg in kwargs.values(): # 딕셔너리: key(도트 전)와 value(도트 후)로 이루어진 데이터이다. 영어사전에 비유하면 key는 영단어, value는 영단어에 대한 설명이다.\n",
    "        result += arg\n",
    "    return result\n",
    "\n",
    "print(myfuc(a = \"hi \", b = \"Mr.\", c = \"Kim\")) # myfuc함수에 a, b, c가 저장 -> \n"
   ]
  },
  {
   "cell_type": "code",
   "execution_count": 60,
   "id": "247e11ed-c05f-4982-abe4-c1867e20caaf",
   "metadata": {},
   "outputs": [
    {
     "name": "stdout",
     "output_type": "stream",
     "text": [
      "1 2 3\n",
      "[1, 2, 3]\n"
     ]
    }
   ],
   "source": [
    "# 단일 별표 연산자: 반복 가능한 객체를 언패킹할 수 있다\n",
    "# 이중 별표 연산자: 딕셔너리 객체를 언패킹할 수 있다.\n",
    "alist = [1, 2, 3]\n",
    "print(*alist) # alist안 값만 빼서(언패킹해서) 출력했음\n",
    "print(alist) # 단일 별표 연산자가 없으므로 alist안 값을 언패킹하지 못하고 그대로 출력한다"
   ]
  },
  {
   "cell_type": "code",
   "execution_count": 63,
   "id": "a808a6a1-6585-4db2-bdeb-67b84bb4d57f",
   "metadata": {},
   "outputs": [
    {
     "name": "stdout",
     "output_type": "stream",
     "text": [
      "6\n"
     ]
    }
   ],
   "source": [
    "def sum(a, b, c):\n",
    "    print(a + b + c)\n",
    "\n",
    "alist = [1, 2, 3]\n",
    "sum(*alist) # 단일 별표 연산자로 alist 속 값을 꺼내고, 그 값들끼리 더했다"
   ]
  },
  {
   "cell_type": "code",
   "execution_count": 64,
   "id": "948000bd-7f95-4840-ba91-f9c1473f97f0",
   "metadata": {},
   "outputs": [
    {
     "name": "stdout",
     "output_type": "stream",
     "text": [
      "안녕하세요.\n",
      "안녕하세요.\n",
      "안녕하세요.\n",
      "안녕하세요.\n",
      "안녕하세요.\n",
      "안녕하세요.\n",
      "안녕하세요.\n",
      "안녕하세요.\n",
      "안녕하세요.\n",
      "안녕하세요.\n"
     ]
    }
   ],
   "source": [
    "def display(msg, count):\n",
    "    for i in range(count):\n",
    "        print(msg)\n",
    "\n",
    "display(\"안녕하세요.\", 10)"
   ]
  },
  {
   "cell_type": "code",
   "execution_count": 9,
   "id": "6d58823a-29c3-4c49-9538-40c1b2738139",
   "metadata": {},
   "outputs": [],
   "source": [
    "def get_area(radius):\n",
    "    if radius > 0:\n",
    "        return 3.14 * radius ** 2 # 리턴값 하나인경우(리턴값이 식인데 저걸 변수로 설정해놓고 변수만 쓰는게 보기좋고 편함)"
   ]
  },
  {
   "cell_type": "code",
   "execution_count": 8,
   "id": "bdb6a530-ed3f-4601-9a80-3488ff133edd",
   "metadata": {},
   "outputs": [
    {
     "name": "stdout",
     "output_type": "stream",
     "text": [
      "반지름:  -1\n"
     ]
    },
    {
     "name": "stdout",
     "output_type": "stream",
     "text": [
      "0\n"
     ]
    }
   ],
   "source": [
    "radius = int(input(\"반지름: \"))\n",
    "\n",
    "def get_area(radius):\n",
    "    if radius > 0:\n",
    "        area = 3.14 * radius ** 2\n",
    "        return area\n",
    "    else:\n",
    "        area = 0\n",
    "        return area\n",
    "print(get_area(radius))"
   ]
  },
  {
   "cell_type": "code",
   "execution_count": 12,
   "id": "551fef72-d042-4af1-8329-b9acb8a641c1",
   "metadata": {},
   "outputs": [
    {
     "name": "stdout",
     "output_type": "stream",
     "text": [
      "1 2 3\n"
     ]
    }
   ],
   "source": [
    "def sub():\n",
    "    return 1, 2, 3 # 리턴값이 여러개임 -> 각각에 대응되는 변수에 값 할당\n",
    "                   # 리턴값의 개수와 리턴값을 받는 변수의 수는 같아야 한다(다르면 에러).\n",
    "\n",
    "a, b, c = sub()\n",
    "print(a, b, c)"
   ]
  },
  {
   "cell_type": "code",
   "execution_count": 15,
   "id": "ff85c947-5541-4afc-b9da-216067a711ad",
   "metadata": {},
   "outputs": [
    {
     "name": "stdout",
     "output_type": "stream",
     "text": [
      "s\n"
     ]
    }
   ],
   "source": [
    "def a(name):\n",
    "    print(name) # 함수에 return 구문이 없는 모습\n",
    "\n",
    "a(\"s\")"
   ]
  },
  {
   "cell_type": "code",
   "execution_count": 16,
   "id": "17e9071e-5bb9-4dc5-a2e1-f51debe29083",
   "metadata": {},
   "outputs": [
    {
     "name": "stdout",
     "output_type": "stream",
     "text": [
      "s\n",
      "None\n"
     ]
    }
   ],
   "source": [
    "result = a(\"s\")\n",
    "print(result) # 함수에 return 구문이 없으면 리턴값으로 None을 출력한다."
   ]
  },
  {
   "cell_type": "code",
   "execution_count": 21,
   "id": "9a508ade-7e8a-4767-ab52-75752b631f77",
   "metadata": {},
   "outputs": [],
   "source": [
    "def b(name):\n",
    "    if len(name) == 0:\n",
    "        return # return 구문 뒤에 리턴할 값이 적혀있지 않음\n",
    "\n",
    "    print(\"s\")\n",
    "b(\"\") # 함수의 매개변수에 길이가 0인 문자열을 전달인자로 전달 -> 함수에는 None이라는 값이 들어가있음\n",
    "      # 하지만 함수에서 리턴값을 직접 출력하진 않으므로, 실제로 출력은 하지 않는 모습"
   ]
  },
  {
   "cell_type": "code",
   "execution_count": 23,
   "id": "62920a23-16a0-4d40-aecc-05fce6de93a4",
   "metadata": {},
   "outputs": [
    {
     "name": "stdout",
     "output_type": "stream",
     "text": [
      "None\n"
     ]
    }
   ],
   "source": [
    "print(b(\"\")) # print를 사용하여 함수의 리턴값을 직접 출력해보니 None이 뜨는 모습"
   ]
  },
  {
   "cell_type": "code",
   "execution_count": 24,
   "id": "4bc96186-9b8d-4359-b21c-ce940943485f",
   "metadata": {},
   "outputs": [
    {
     "name": "stdout",
     "output_type": "stream",
     "text": [
      "1. 섭씨 -> 화씨\n",
      "1. 화씨 -> 섭씨\n",
      "3. 종료\n"
     ]
    },
    {
     "name": "stdout",
     "output_type": "stream",
     "text": [
      "메뉴를 선택하시오:  1\n",
      "섭씨 온도를 입력하십시오:  34\n"
     ]
    },
    {
     "name": "stdout",
     "output_type": "stream",
     "text": [
      "화씨:  93.2 \n",
      "\n",
      "1. 섭씨 -> 화씨\n",
      "1. 화씨 -> 섭씨\n",
      "3. 종료\n"
     ]
    },
    {
     "name": "stdout",
     "output_type": "stream",
     "text": [
      "메뉴를 선택하시오:  2\n",
      "화씨 온도를 입력하십시오:  33\n"
     ]
    },
    {
     "name": "stdout",
     "output_type": "stream",
     "text": [
      "섭씨:  0.5555555555555556 \n",
      "\n",
      "1. 섭씨 -> 화씨\n",
      "1. 화씨 -> 섭씨\n",
      "3. 종료\n"
     ]
    },
    {
     "name": "stdout",
     "output_type": "stream",
     "text": [
      "메뉴를 선택하시오:  3\n"
     ]
    }
   ],
   "source": [
    "# 여러 함수들을 이용한 사용자 메뉴 제공 프로그램(switch문과 같음)\n",
    "def menu():\n",
    "    print(\"1. 섭씨 -> 화씨\")\n",
    "    print(\"1. 화씨 -> 섭씨\")\n",
    "    print(\"3. 종료\")\n",
    "    option = int(input(\"메뉴를 선택하시오: \"))\n",
    "    return option\n",
    "\n",
    "def ctof(c):\n",
    "    temp = (c * 9.0 / 5.0) + 32\n",
    "    return temp\n",
    "\n",
    "def ftoc(f):\n",
    "    temp = (f-32.0) * 5.0 / 9.0\n",
    "    return temp\n",
    "\n",
    "def input_f():\n",
    "    f = float(input(\"화씨 온도를 입력하십시오: \"))\n",
    "    return f\n",
    "\n",
    "def input_c():\n",
    "    c = float(input(\"섭씨 온도를 입력하십시오: \"))\n",
    "    return c\n",
    "\n",
    "def main():\n",
    "    while True: # bool형 참은 'T'rue로 표현(맨앞글자 반드시 대문자로 표현, 중요)\n",
    "        index = menu()\n",
    "        if index == 1:\n",
    "            t1 = input_c()\n",
    "            t2 = ctof(t1)\n",
    "            print(\"화씨: \", t2, '\\n')\n",
    "        elif index == 2:\n",
    "            t1 = input_f()\n",
    "            t2 = ftoc(t1)\n",
    "            print(\"섭씨: \", t2, '\\n')\n",
    "        else:\n",
    "            break;\n",
    "main()"
   ]
  },
  {
   "cell_type": "code",
   "execution_count": 26,
   "id": "2b835db4-19d9-45c0-ab0a-dbd2c245de97",
   "metadata": {},
   "outputs": [
    {
     "name": "stdout",
     "output_type": "stream",
     "text": [
      "정수 입력:  1\n"
     ]
    },
    {
     "name": "stdout",
     "output_type": "stream",
     "text": [
      "1 !=  1\n"
     ]
    }
   ],
   "source": [
    "def factorial(n):\n",
    "    if n == 1:\n",
    "        return 1\n",
    "    else: \n",
    "        return n * factorial(n - 1)\n",
    "\n",
    "n = eval(input(\"정수 입력: \"))\n",
    "print(n, \"!= \", factorial(n))"
   ]
  },
  {
   "cell_type": "code",
   "execution_count": 30,
   "id": "503a5324-1417-404e-ae59-2ca4bfe5c821",
   "metadata": {},
   "outputs": [
    {
     "name": "stdout",
     "output_type": "stream",
     "text": [
      "100\n"
     ]
    }
   ],
   "source": [
    "# 전역변수(static), 지역변수(automatic)의 차이\n",
    "def myfunc():\n",
    "    x = 100 # 여기서 x는 함수 안에서 선언됐으므로 지역변수이다.\n",
    "    print(x)\n",
    "\n",
    "myfunc()"
   ]
  },
  {
   "cell_type": "code",
   "execution_count": 32,
   "id": "b4898d4e-5b23-4ac4-bf01-1a74286be140",
   "metadata": {},
   "outputs": [
    {
     "name": "stdout",
     "output_type": "stream",
     "text": [
      "100\n",
      "100\n"
     ]
    }
   ],
   "source": [
    "gx = 100 # 여기서 gx는 함수 밖에서 선언됐으므로 전역변수이다.\n",
    "\n",
    "def myfunc():\n",
    "    print(gx)\n",
    "\n",
    "myfunc() # 함수에서 전역변수 gx를 불러온 다음 출력한다\n",
    "print(gx) # 단순히 전역변수 gx를 출력한다"
   ]
  },
  {
   "cell_type": "code",
   "execution_count": 34,
   "id": "a21537fa-7f56-48fe-b492-0e908c5d913d",
   "metadata": {},
   "outputs": [
    {
     "name": "stdout",
     "output_type": "stream",
     "text": [
      "100\n",
      "200\n"
     ]
    }
   ],
   "source": [
    "def a():\n",
    "    x = 100 # a라는 함수 안에서 선언된 x\n",
    "    print(x)\n",
    "\n",
    "def b():\n",
    "    x = 200 # b라는 함수 안에서 선언된 x\n",
    "    print(x)\n",
    "\n",
    "a() # 이 둘은 서로 다른 함수 안에서 지역변수로 선언된 것이므로\n",
    "b() # 서로 다른 변수로 간주한다."
   ]
  },
  {
   "cell_type": "code",
   "execution_count": 36,
   "id": "c028ad86-7582-4160-b32e-8d946de234be",
   "metadata": {},
   "outputs": [
    {
     "name": "stdout",
     "output_type": "stream",
     "text": [
      "200\n",
      "100\n"
     ]
    }
   ],
   "source": [
    "gx = 100\n",
    "def a():\n",
    "    gx = 200 # 전역변수 gx와 같은 이름이지만, 특정 함수 안에서 선언된 지역변수는 전역변수보다 우선권을 가지기 때문에(선언된 함수 내부에서만 한정)\n",
    "    print(gx) # 함수 안에서는 변수 gx가 200으로 쓰인다\n",
    "\n",
    "a()\n",
    "print(gx) # 이곳은 함수 밖이므로 여기서의 gx는 전역변수이며, 처음에 할당됐던 100으로 쓰인다."
   ]
  },
  {
   "cell_type": "code",
   "execution_count": 37,
   "id": "b6e19526-c9c8-4f76-9138-c71d2aae037a",
   "metadata": {},
   "outputs": [
    {
     "name": "stdout",
     "output_type": "stream",
     "text": [
      "200\n",
      "200\n"
     ]
    }
   ],
   "source": [
    "# 전역변수의 값을 함수 안에서 변경하고 싶을때\n",
    "gx = 100\n",
    "\n",
    "def a():\n",
    "    global gx # global: 전역변수 gx를 함수 안에서 재선언한다\n",
    "              # global로 전역변수 gx를 불러온 지금부터, 함수 안의 gx는 전역변수로 간주된다.\n",
    "    gx = 200 # 전역변수 gx의 값을 변경\n",
    "    print(gx)\n",
    "\n",
    "a()\n",
    "print(gx) # 전역변수 gx의 값이 함수 안에서 변경됐었으므로, 이 gx는 함수 안에서처럼 200의 값을 가지고있다"
   ]
  },
  {
   "cell_type": "code",
   "execution_count": null,
   "id": "98ae2546-ab11-494d-9945-c10ab6c860a7",
   "metadata": {},
   "outputs": [],
   "source": []
  }
 ],
 "metadata": {
  "kernelspec": {
   "display_name": "base",
   "language": "python",
   "name": "python3"
  },
  "language_info": {
   "codemirror_mode": {
    "name": "ipython",
    "version": 3
   },
   "file_extension": ".py",
   "mimetype": "text/x-python",
   "name": "python",
   "nbconvert_exporter": "python",
   "pygments_lexer": "ipython3",
   "version": "3.13.5"
  }
 },
 "nbformat": 4,
 "nbformat_minor": 5
}
