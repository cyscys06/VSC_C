{
 "cells": [
  {
   "cell_type": "code",
   "execution_count": 29,
   "id": "82372dd0-c7ea-412c-9fd4-9d7843639604",
   "metadata": {},
   "outputs": [
    {
     "name": "stdout",
     "output_type": "stream",
     "text": [
      "방문을 환영합니다\n",
      "s\n",
      "방문을 환영합니다\n",
      "s\n",
      "방문을 환영합니다\n",
      "s\n",
      "방문을 환영합니다\n",
      "s\n",
      "방문을 환영합니다\n",
      "s\n",
      "방문을 환영합니다\n",
      "s\n",
      "방문을 환영합니다\n",
      "s\n",
      "방문을 환영합니다\n",
      "s\n",
      "방문을 환영합니다\n",
      "s\n",
      "방문을 환영합니다\n",
      "s\n"
     ]
    }
   ],
   "source": [
    "# for문\n",
    "for i in range(10):\n",
    "    {print(\"방문을 환영합니다\"), \n",
    "    print(\"s\")} # 중괄호로 묶어서 여러 구문을 반복 가능하다(코드 블록)\n",
    "                # 하나의 루프가 출력이 끝나면 그 다음 루프는 다음 줄에서 출력"
   ]
  },
  {
   "cell_type": "code",
   "execution_count": 13,
   "id": "42e68436-245d-4347-b1e2-58438f9c4ec8",
   "metadata": {},
   "outputs": [
    {
     "name": "stdout",
     "output_type": "stream",
     "text": [
      "['영어', '국어', '수학', '과학']\n",
      "[1, 2, 3, 4, 5]\n"
     ]
    },
    {
     "data": {
      "text/plain": [
       "[1, 'rnrdj']"
      ]
     },
     "execution_count": 13,
     "metadata": {},
     "output_type": "execute_result"
    }
   ],
   "source": [
    "# 리스트\n",
    "slist = ['영어', \"국어\", \"수학\", \"과학\"] # 대괄호를 사용하여 리스트를 생성한다\n",
    "list = [1, 2, 3, 4, 5] # 리스트 안에는 여러 값들을 저장할 수 있다(숫자, 문자 등)\n",
    "print(slist)\n",
    "print(list) \n",
    "lsti2 = [1, \"rnrdj\"]\n",
    "lsti2"
   ]
  },
  {
   "cell_type": "code",
   "execution_count": 2,
   "id": "91997279-b23a-47e4-9e93-0aa2b84831c8",
   "metadata": {},
   "outputs": [
    {
     "name": "stdout",
     "output_type": "stream",
     "text": [
      "[1, 2, 3, [4, 5]]\n"
     ]
    },
    {
     "data": {
      "text/plain": [
       "4"
      ]
     },
     "execution_count": 2,
     "metadata": {},
     "output_type": "execute_result"
    }
   ],
   "source": [
    "list = [1, 2, 3]\n",
    "list.append([4, 5])\n",
    "print(list)\n",
    "len(list)"
   ]
  },
  {
   "cell_type": "code",
   "execution_count": 1,
   "id": "a80def07-2fb9-4d17-a8ca-e46ff975d797",
   "metadata": {},
   "outputs": [
    {
     "name": "stdout",
     "output_type": "stream",
     "text": [
      "[3, 4]\n"
     ]
    }
   ],
   "source": [
    "list = [] # 대괄호: 공백 리스트 생성(대괄호 안에 아무것도 없음)\n",
    "list.append(3) # list라는 이름의 리스트에 3이라는 값 추가\n",
    "# asd.append(2): 이름 다르면 추가 안됨\n",
    "list.append(4)\n",
    "print(list)"
   ]
  },
  {
   "cell_type": "code",
   "execution_count": 2,
   "id": "18ee5dd0-c149-415c-8e50-0da95d19e3a3",
   "metadata": {},
   "outputs": [
    {
     "name": "stdout",
     "output_type": "stream",
     "text": [
      "영어\n",
      "국어\n"
     ]
    }
   ],
   "source": [
    "slist = ['영어', \"국어\", \"수학\", \"과학\"]\n",
    "# 순서대로 0, 1, 2, 3번 인덱스(배열과 같다)\n",
    "# 음수 인덱스도 가능하며 이때는 역순이다(순서대로 -4, -3, -2, -1)\n",
    "print(slist[0])\n",
    "print(slist[-3])"
   ]
  },
  {
   "cell_type": "code",
   "execution_count": 3,
   "id": "f422e119-a1bc-406a-8fac-718d0133ad68",
   "metadata": {},
   "outputs": [
    {
     "name": "stdout",
     "output_type": "stream",
     "text": [
      "방문환영\n",
      "방문환영\n",
      "방문환영\n",
      "방문환영\n",
      "방문환영\n"
     ]
    }
   ],
   "source": [
    "for i in [1, 2, 3, 4, 5]: # 복합문을 의미하는 콜론(:)을 꼭 붙여준다\n",
    "    print(\"방문환영\")\n",
    "    # i가 1. 2. 3. 4. 5일때마다\n",
    "    # for문 밑의 구문을 각각 한번씩 실행한다"
   ]
  },
  {
   "cell_type": "code",
   "execution_count": 4,
   "id": "bdaba994-e363-4aca-a2ec-fe12445ca902",
   "metadata": {},
   "outputs": [
    {
     "name": "stdout",
     "output_type": "stream",
     "text": [
      "1\n",
      "2\n",
      "3\n",
      "4\n",
      "5\n"
     ]
    }
   ],
   "source": [
    "for i in [1, 2, 3, 4, 5]:\n",
    "    print(i) # i값 1, 2, 3, 4, 5 차례대로 출력"
   ]
  },
  {
   "cell_type": "code",
   "execution_count": 5,
   "id": "30f9dab4-817f-47e4-9d5c-2c99d8382166",
   "metadata": {},
   "outputs": [
    {
     "name": "stdout",
     "output_type": "stream",
     "text": [
      "s\n",
      "s\n",
      "s\n",
      "s\n",
      "s\n"
     ]
    }
   ],
   "source": [
    "for i in range(5): # range(): 괄호 안의 수만큼 인덱스들이 생성된다\n",
    "    print(\"s\")    # 예를들어 range(5)라면 5개의 인덱스(0, 1, 2, 3, 4)가 \n",
    "                  # 생성되어 변수 i에 할당된다"
   ]
  },
  {
   "cell_type": "code",
   "execution_count": 6,
   "id": "72956bf1-2196-4aad-9169-95bed321d4ef",
   "metadata": {},
   "outputs": [
    {
     "name": "stdout",
     "output_type": "stream",
     "text": [
      ";\n",
      "\n",
      ";\n",
      "\n",
      ";\n",
      "\n",
      ";\n",
      "\n",
      ";\n",
      "\n",
      ";\n",
      ";\n",
      ";\n"
     ]
    }
   ],
   "source": [
    "# range(start = 0, stop, step = 2)\n",
    "# start: 시작값, stop:종료값(stop은 범위에 해당되지 않는다, step: 한번의 루프마다 증가하는 값\n",
    "for i in range(1, 6): # step 매개변수 없으면 기본적으로 1씩 증가\n",
    "    print(\";\\n\") # ; 5개 출력\n",
    "for i in range(1, 6, 2): # step = 2이므로 인덱스의 값이 2씩 증가하여 생성된다\n",
    "                         # -> 인덱스: 1, 3, 5 로 3개이다(7 > 6) \n",
    "    print(\";\") # ; 3개 출력"
   ]
  },
  {
   "cell_type": "code",
   "execution_count": 7,
   "id": "85050695-e089-4a04-8f48-530a92770378",
   "metadata": {},
   "outputs": [
    {
     "name": "stdout",
     "output_type": "stream",
     "text": [
      "sssss"
     ]
    }
   ],
   "source": [
    "for i in range(1, 6):\n",
    "    print(\"s\", end = \"\") # end = \" \": 마지막에 end 쓰는것(줄바꿈 하는것이 아니라고 표시함)\n",
    "                          # 다음 출력은 end로 인해 바로 옆에서 출력됨"
   ]
  },
  {
   "cell_type": "code",
   "execution_count": 8,
   "id": "afe83419-cc96-441d-9b0c-8080b3680445",
   "metadata": {},
   "outputs": [
    {
     "name": "stdout",
     "output_type": "stream",
     "text": [
      "10 9 8 7 6 5 4 3 2 1 "
     ]
    }
   ],
   "source": [
    "for i in range(10, 0, -1): # 10에서 시작해서 -1씩 더해서 0까지(0은 포함 안함)\n",
    "                           # -> 0 < x <= 10\n",
    "    print(i, end = \" \") # 역순으로 출력"
   ]
  },
  {
   "cell_type": "code",
   "execution_count": 9,
   "id": "b36b1b3c-27ac-45a1-8d4a-8053cf41c96d",
   "metadata": {},
   "outputs": [
    {
     "name": "stdout",
     "output_type": "stream",
     "text": [
      "55\n"
     ]
    }
   ],
   "source": [
    "sum = 0\n",
    "n = 10\n",
    "for i in range(1, n+1): # n = 10이므로 n + 1 = 11 (1 <= x < 11) \\\n",
    "    sum += i # sum = sum + 1\n",
    "print(sum) # 1부터 10까지 더한값 출력"
   ]
  },
  {
   "cell_type": "code",
   "execution_count": 10,
   "id": "d8f9d944-cc53-46b5-8f33-e597a387966f",
   "metadata": {},
   "outputs": [
    {
     "name": "stdout",
     "output_type": "stream",
     "text": [
      "9 * 1 = 9\n",
      "9 * 2 = 18\n",
      "9 * 3 = 27\n",
      "9 * 4 = 36\n",
      "9 * 5 = 45\n"
     ]
    }
   ],
   "source": [
    "for i in range(1, 6): # 1 <= x < 6\n",
    "    print(\"9 *\" , i, \"=\", 9 * i)"
   ]
  },
  {
   "cell_type": "code",
   "execution_count": 11,
   "id": "af922996-7a41-4646-8612-4c470142aef0",
   "metadata": {},
   "outputs": [
    {
     "name": "stdin",
     "output_type": "stream",
     "text": [
      "정수를 입력하시오:  3\n"
     ]
    },
    {
     "name": "stdout",
     "output_type": "stream",
     "text": [
      "3 !=  6\n"
     ]
    }
   ],
   "source": [
    "n = int(input(\"정수를 입력하시오: \"))\n",
    "factorial = 1\n",
    "for i in range(1, n + 1):\n",
    "    factorial *= i # factorial = factorial * i -> factorial에 i값을 계속 1씩 줄이면서 곱한다\n",
    "                   # i기 1이 될때까지 곱한다 -> n * (n -1) * ... * 2 * 1 = n!\n",
    "print(n, \"!= \", factorial)"
   ]
  },
  {
   "cell_type": "code",
   "execution_count": 12,
   "id": "ee60bfb9-6471-483f-bc7d-70d3523fa6d6",
   "metadata": {},
   "outputs": [
    {
     "name": "stdout",
     "output_type": "stream",
     "text": [
      "방정식의 해는 1.62\n"
     ]
    }
   ],
   "source": [
    "# 방정식 계산\n",
    "count = 100\n",
    "start = 1.0\n",
    "end = 2.0\n",
    "\n",
    "for i in range(count):\n",
    "    x = start + i * ((end - start) / count)\n",
    "    f = (x**2 - (x + 1))\n",
    "    if abs(f - 0.0) < 0.01:\n",
    "        print(\"방정식의 해는\", x)"
   ]
  },
  {
   "cell_type": "code",
   "execution_count": 13,
   "id": "411acaa6-5018-44e7-8825-380d12ab82cb",
   "metadata": {},
   "outputs": [
    {
     "name": "stdout",
     "output_type": "stream",
     "text": [
      "11 년\n"
     ]
    }
   ],
   "source": [
    "# while문\n",
    "target = 2000 # 목표 금액\n",
    "money = 1000 # 원금\n",
    "year = 0 # 연도\n",
    "rate = 0.07 # 이자율\n",
    "\n",
    "# 원금이 목표 금액보다 작으면 계속해서 반복한다.\n",
    "# 원금이 목표 금액보다 커지는 순간 루프가 종료된다.\n",
    "while money < target: # money < target -> while문이 반복되도록 하는 조건식(콜론 반드시 입력)\n",
    "    money = money + (money * rate)\n",
    "    year += 1 # 루프 한번 반복할때마다 연도가 1년씩 늘어난다\n",
    "# money를 원리금(원금에 이자율을 곱한 값을 다시 원금에 더한 값)으로 갱신한다\n",
    "# 이는 원리금이 목표 금액보다 커질 때까지 계속된다\n",
    "\n",
    "print(year, \"년\") # 원금이 원리금보다 커진 순간의 원리금을 출력"
   ]
  },
  {
   "cell_type": "code",
   "execution_count": 14,
   "id": "16984423-afa3-48f8-8381-1345c8a18b78",
   "metadata": {},
   "outputs": [
    {
     "name": "stdout",
     "output_type": "stream",
     "text": [
      "루프 안쪽\n",
      "루프 안쪽\n",
      "루프 안쪽\n",
      "else 부분\n"
     ]
    }
   ],
   "source": [
    "i = 0\n",
    "\n",
    "while i < 3: # i가 3보다 작은동안 계속 반복\n",
    "    print(\"루프 안쪽\") \n",
    "    i += 1\n",
    "else: # 루프가 종료됐을때 실행하는 구문. 이후 프로그램 종료\n",
    "    print(\"else 부분\")"
   ]
  },
  {
   "cell_type": "code",
   "execution_count": 15,
   "id": "dccdfddd-56a3-4a46-aec0-ce0fb9328991",
   "metadata": {},
   "outputs": [],
   "source": [
    "# 오류가 나는 경우\n",
    "# i = 0\n",
    "\n",
    "# while i < 10: -> i값을 갱신시켜 루프를 종료시킬 수 있는 구문이 없기 때문에 루프가 계속됨\n",
    "#               -> 프로그램 오류\n",
    "#     print(\"hello world\")"
   ]
  },
  {
   "cell_type": "code",
   "execution_count": 16,
   "id": "32d6e05e-0f28-47f8-a02d-126823ce74cd",
   "metadata": {},
   "outputs": [
    {
     "name": "stdin",
     "output_type": "stream",
     "text": [
      "단의 수를 입력:  4\n"
     ]
    },
    {
     "name": "stdout",
     "output_type": "stream",
     "text": [
      "4 * 1 = 4\n",
      "4 * 2 = 8\n",
      "4 * 3 = 12\n",
      "4 * 4 = 16\n",
      "4 * 5 = 20\n",
      "4 * 6 = 24\n",
      "4 * 7 = 28\n",
      "4 * 8 = 32\n",
      "4 * 9 = 36\n"
     ]
    }
   ],
   "source": [
    "dan = int(input(\"단의 수를 입력: \"))\n",
    "i = 1 # i값을 미리 초기화 해주고 while문 들어감\n",
    "      # 초기화 안해주면 i에 임의의 값(전혀 쓸모없는)이 들어있어 프로그램에 에러가 생긴다\n",
    "while i <= 9: # i가 9 이하인동안 계속 반복\n",
    "    print(\"%s * %s = %s\" %(dan, i, (dan * i)))\n",
    "    i += 1 # i값 갱신시켜 후에 루프가 종료될 수 있게 한다"
   ]
  },
  {
   "cell_type": "code",
   "execution_count": 17,
   "id": "71b000b6-d010-40ab-81d1-95719cc0b5b1",
   "metadata": {},
   "outputs": [
    {
     "name": "stdout",
     "output_type": "stream",
     "text": [
      "**********\n",
      "**********\n",
      "**********\n",
      "**********\n",
      "**********\n"
     ]
    }
   ],
   "source": [
    "for y in range(5): # 열 개수 5개(5번 반복)\n",
    "    for x in range(10): # 행 개수 10개(10번 반복)\n",
    "        print(\"*\", end = \"\") # end: 줄바꿈 안한다는 표시\n",
    "    print(\"\") # 줄바꿈 한다는 표시"
   ]
  },
  {
   "cell_type": "code",
   "execution_count": 18,
   "id": "6e23d7ee-e7d9-4652-9785-d136b616141e",
   "metadata": {},
   "outputs": [
    {
     "name": "stdout",
     "output_type": "stream",
     "text": [
      "*\n",
      "**\n",
      "***\n",
      "****\n",
      "*****\n"
     ]
    }
   ],
   "source": [
    "for y in range(1, 6):\n",
    "    for x in range(y): # y가 n인 수일때 x도 n번만큼 반복 -> n번째 줄에 별표 n개만큼 출력\n",
    "        print(\"*\", end = \"\") \n",
    "    print(\"\")"
   ]
  },
  {
   "cell_type": "code",
   "execution_count": 19,
   "id": "7c1d6fe5-a459-4603-937e-bbaa5e4cd8ad",
   "metadata": {},
   "outputs": [
    {
     "name": "stdout",
     "output_type": "stream",
     "text": [
      "small apple\n",
      "small banana\n",
      "small grape\n",
      "medium apple\n",
      "medium banana\n",
      "medium grape\n",
      "large apple\n",
      "large banana\n",
      "large grape\n"
     ]
    }
   ],
   "source": [
    "adj = [\"small\", \"medium\", \"large\"]\n",
    "noun = [\"apple\", \"banana\", \"grape\"]\n",
    "\n",
    "for x in adj:\n",
    "    for y in noun:\n",
    "        print(x, y) # 2차원 배열로 생각: small[3]. medium[3], large[3]\n",
    "                    # -> total[3][3]"
   ]
  },
  {
   "cell_type": "code",
   "execution_count": 20,
   "id": "68c1ae28-c797-4865-bd90-b8671b8fd0e3",
   "metadata": {},
   "outputs": [
    {
     "name": "stdout",
     "output_type": "stream",
     "text": [
      "첫번째 주사위: 1, 두번째 주사위: 5\n",
      "첫번째 주사위: 2, 두번째 주사위: 4\n",
      "첫번째 주사위: 3, 두번째 주사위: 3\n",
      "첫번째 주사위: 4, 두번째 주사위: 2\n",
      "첫번째 주사위: 5, 두번째 주사위: 1\n"
     ]
    }
   ],
   "source": [
    "for a in range(1, 7): # 1 <= a < 7 -> a = 1 ~ 6\n",
    "    for b in range(1, 7):\n",
    "        if a + b == 6: # a + b가 6인 모든 경우(a가 1일때부터 계속 반복)\n",
    "            print(f\"첫번째 주사위: {a}, 두번째 주사위: {b}\")"
   ]
  },
  {
   "cell_type": "code",
   "execution_count": 21,
   "id": "302e228c-9ca0-4e92-b90b-9acb01fbdc06",
   "metadata": {
    "editable": true,
    "slideshow": {
     "slide_type": ""
    },
    "tags": []
   },
   "outputs": [
    {
     "name": "stdout",
     "output_type": "stream",
     "text": [
      "kim이 korean식당을 방문\n",
      "kim이 american식당을 방문\n",
      "kim이 french식당을 방문\n",
      "park이 korean식당을 방문\n",
      "park이 american식당을 방문\n",
      "park이 french식당을 방문\n",
      "choi이 korean식당을 방문\n",
      "choi이 american식당을 방문\n",
      "choi이 french식당을 방문\n"
     ]
    }
   ],
   "source": [
    "person = [\"kim\", \"park\", \"choi\"]\n",
    "restaurant = [\"korean\", \"american\", \"french\"]\n",
    "\n",
    "for x in person: # for뒤 변수명은 아무거나 상관 X\n",
    "    for y in restaurant:\n",
    "        print(x + \"이 \" + y + \"식당을 방문\")"
   ]
  },
  {
   "cell_type": "code",
   "execution_count": null,
   "id": "67eb9cbd-5205-4d98-9cad-6e63e4414ef3",
   "metadata": {},
   "outputs": [],
   "source": [
    "while True: # True 적을때 T를 대문자로 적기(소문자로 적으면 인식못함)\n",
    "    light = input(\"신호등 색상을 입력하시오: \")\n",
    "    if light == \"green\":\n",
    "        print(\"전진\")\n",
    "        break\n",
    "    "
   ]
  },
  {
   "cell_type": "code",
   "execution_count": 25,
   "id": "a569ca01-fe16-45f1-b302-350a9d1d81f7",
   "metadata": {},
   "outputs": [
    {
     "name": "stdout",
     "output_type": "stream",
     "text": [
      "1 2 4 5 7 8 10 "
     ]
    }
   ],
   "source": [
    "for i in range(1, 11): # range(a, b): a <= x < b -> x = a ~ (b-1)\n",
    "    if i%3 == 0: # 변수 i를 3으로 나눈 나머지가 0이라면 -> i가 3의 배수라면\n",
    "        continue # i가 3의 배수이면 continue로 for문으로 올라가 반복 다시시작\n",
    "    print(i, end = \" \") # i가 3의 배수가 아닐때마다 i변수에 할당돼있는 값을 출력\n",
    "    "
   ]
  },
  {
   "cell_type": "code",
   "execution_count": 2,
   "id": "106c7de0-ccb0-484e-bb15-32b00099125a",
   "metadata": {
    "editable": true,
    "slideshow": {
     "slide_type": ""
    },
    "tags": []
   },
   "outputs": [
    {
     "name": "stdout",
     "output_type": "stream",
     "text": [
      "2 3 5 7 11 13 17 19 23 29 31 37 41 43 47 53 59 61 67 71 73 79 83 89 97 101 103 107 109 113 127 131 137 139 149 151 157 163 167 173 179 181 191 193 197 199 211 223 227 229 "
     ]
    }
   ],
   "source": [
    "N_PRIME = 50 # 찾아야 하는 소수의 개수\n",
    "num = 2 # 2부터 시작\n",
    "count = 0 # 소수 개수\n",
    "\n",
    "while count < N_PRIME: # count가 N_PRIME보다 작은동안 이 while문 계속 반복\n",
    "    divisor = 2 # 나누는 수 2부터 시작\n",
    "    prime = True\n",
    "\n",
    "    while divisor < num: # 나누는 수 num보다 작을때 이 while문 계속 반복 -> 맨처음 숫자 2는 나누는 수 2보다 크지 않으므로(작으므로)조건 만족하지 않는다(while문 건너뜀)\n",
    "    \n",
    "        if num % divisor == 0: # num이 divisor로 나눠질 때: \n",
    "            prime = False\n",
    "            break; # break는 break가 코드 블록으로서 존재하는 반복문 안에서만 작용 -> 즉, break가 실행되더라도 반복문 하나만 빠져나올 수 있음\n",
    "                   # 보통 break는 반복문 안에서 if문을 사용해 조건을 만족할 때 반복을 끊어내는 용도로 사용하므로, break는 곧 반복문 하나(만)를 강제로 종료한다고 할 수 있다.    \n",
    "        divisor += 1\n",
    "    \n",
    "    if prime: \n",
    "        count += 1\n",
    "        print(num, end = \" \")\n",
    "    \n",
    "    num += 1"
   ]
  },
  {
   "cell_type": "code",
   "execution_count": 6,
   "id": "05f1126d-66da-4b19-a578-fc5e338e8c4a",
   "metadata": {},
   "outputs": [
    {
     "name": "stdout",
     "output_type": "stream",
     "text": [
      "a\n"
     ]
    }
   ],
   "source": [
    "if \"ASD\" > \"BSAFS\":\n",
    "    print(\"s\")\n",
    "else:\n",
    "    print('a')"
   ]
  },
  {
   "cell_type": "code",
   "execution_count": 10,
   "id": "2654010c-c184-45eb-b0bc-dcfb081c8866",
   "metadata": {},
   "outputs": [
    {
     "data": {
      "text/plain": [
       "True"
      ]
     },
     "execution_count": 10,
     "metadata": {},
     "output_type": "execute_result"
    }
   ],
   "source": [
    "\"B\" < \"b\""
   ]
  },
  {
   "cell_type": "code",
   "execution_count": null,
   "id": "a058979d-c1ea-4047-bfc0-2147aa98cfb2",
   "metadata": {},
   "outputs": [],
   "source": []
  }
 ],
 "metadata": {
  "kernelspec": {
   "display_name": "anaconda-panel-2023.05-py310",
   "language": "python",
   "name": "conda-env-anaconda-panel-2023.05-py310-py"
  },
  "language_info": {
   "codemirror_mode": {
    "name": "ipython",
    "version": 3
   },
   "file_extension": ".py",
   "mimetype": "text/x-python",
   "name": "python",
   "nbconvert_exporter": "python",
   "pygments_lexer": "ipython3",
   "version": "3.11.5"
  }
 },
 "nbformat": 4,
 "nbformat_minor": 5
}
