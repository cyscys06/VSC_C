{
 "cells": [
  {
   "cell_type": "code",
   "execution_count": 39,
   "id": "8ac60137-4dfd-46cc-84ea-d1dc238dc3ee",
   "metadata": {
    "editable": true,
    "slideshow": {
     "slide_type": ""
    },
    "tags": []
   },
   "outputs": [
    {
     "name": "stdin",
     "output_type": "stream",
     "text": [
      "상품의 가격: 123\n"
     ]
    },
    {
     "name": "stdout",
     "output_type": "stream",
     "text": [
      "상품 가격: 123\n",
      "배송비: 3000\n"
     ]
    }
   ],
   "source": [
    "price = int(input(\"상품의 가격:\"))\n",
    "\n",
    "if price > 20000: # if (조건식): (콜론: 복합식을 의미) -> 조건식에는 관계 연산자를 사용한다.\n",
    "    shipping_cost = 0 # if문, else문 밑에 있는 구문들: 블록(여러 문장들을 묶은 것) \n",
    "                      # -> 같은 블록 내에 있는 문장들은 반드시 같은 크기로 들여쓰기 해야 오류가 발생하지 않는다.\n",
    "else : # if와 else는 같은 세로줄에 위치해야 한다.(else문은 생략할 수도 있다)\n",
    "    shipping_cost = 3000 # 블록\n",
    "print(\"상품 가격:\", price) \n",
    "print(\"배송비:\", shipping_cost)\n",
    "# if문: 만약 상품의 가격이 2만원 초과이면 (if문에 있는 조건문 만족하면) 배송비 0원\n",
    "# else문: 만약 상품의 가격이 2만원 미만이면 (if문에 있는 조건문 만족하지 않으면) 배송비 3000원"
   ]
  },
  {
   "cell_type": "code",
   "execution_count": 13,
   "id": "406464a2-72e7-4e26-a3fa-85bdcd195518",
   "metadata": {},
   "outputs": [
    {
     "data": {
      "text/plain": [
       "0"
      ]
     },
     "execution_count": 13,
     "metadata": {},
     "output_type": "execute_result"
    }
   ],
   "source": [
    "shipping_cost = 3000 # 배송비 변수 초기화\n",
    "price = 30000\n",
    "if price > 20000:\n",
    "    shipping_cost = 0 # else절 없이 블록 생성\n",
    "shipping_cost # if문에서 조건을 만족했으므로 배송비 변수에 0 값을 할당"
   ]
  },
  {
   "cell_type": "code",
   "execution_count": 3,
   "id": "35770d01-78d9-4c19-b9d5-ad9871e46e12",
   "metadata": {},
   "outputs": [
    {
     "name": "stdout",
     "output_type": "stream",
     "text": [
      "True\n"
     ]
    }
   ],
   "source": [
    "radius = 100\n",
    "flag = (radius > 32) # bool(참 거짓 판별) 변수로 flag변수를 사용한다\n",
    "print(flag) # 조건식을 만족하였으므로 flag 변수에 true 저장됨"
   ]
  },
  {
   "cell_type": "code",
   "execution_count": 5,
   "id": "6c784ea1-b36a-4bd9-9b5d-c75d0e64c98b",
   "metadata": {},
   "outputs": [
    {
     "name": "stdout",
     "output_type": "stream",
     "text": [
      "True\n"
     ]
    }
   ],
   "source": [
    "s1 = \"A\"\n",
    "s2 = \"A\"\n",
    "print(s1 == s2) # 변수 s1과 s2에 할당된 값이 같으므로 true 출력"
   ]
  },
  {
   "cell_type": "code",
   "execution_count": 9,
   "id": "8808e08d-435b-4f00-982e-cb7d72425cd0",
   "metadata": {},
   "outputs": [
    {
     "name": "stdout",
     "output_type": "stream",
     "text": [
      "False\n",
      "True\n"
     ]
    }
   ],
   "source": [
    "s1 = \"A\"\n",
    "s2 = \"B\"\n",
    "print(s1 > s2) # s1에 할당된 A가 s2에 할당된 B보다 사전순에서 뒤에 있으므로(A 다음 B)\n",
    "               # 조건식을 만족하지 않음 -> false 출력\n",
    "\n",
    "               # 문자는 기본적으로 사전순 -> 앞에 있는게 나중에 출력(A가 B보다 앞에 있다)\n",
    "               # 대문자 > 소문자\n",
    "               # 스페이스 문자는 > 알파벳 문자\n",
    "               # 숫자 > 문자\n",
    "s3 = \"2\"\n",
    "s4 = \"a\"\n",
    "print(s3 < s4)"
   ]
  },
  {
   "cell_type": "code",
   "execution_count": 4,
   "id": "f9c1cc9f-7d28-4463-abe9-54ebe140ada1",
   "metadata": {},
   "outputs": [
    {
     "name": "stdout",
     "output_type": "stream",
     "text": [
      "sqrt(3.0)*sqrt(3.0)은 3.0과 같지않다\n"
     ]
    }
   ],
   "source": [
    "from math import sqrt\n",
    "\n",
    "n = sqrt(3.0) # n = 루트3\n",
    "\n",
    "if n*n == 3.0 : # 원래라면 n * n = 3.0이다\n",
    "    print(\"sqrt(3.0)*sqrt(3.0)은 3.0과 같다\")\n",
    "else :\n",
    "    print(\"sqrt(3.0)*sqrt(3.0)은 3.0과 같지않다\") #하지만 이 문장이 출력\n",
    "# 복잡한 값은 정확히 표현되지 않음(비트 수가 제한되어 있기 때문에)"
   ]
  },
  {
   "cell_type": "code",
   "execution_count": 3,
   "id": "af76b444-f6a2-4602-8a20-1f7b86fee599",
   "metadata": {},
   "outputs": [
    {
     "name": "stdout",
     "output_type": "stream",
     "text": [
      "sqrt(3.0)*sqrt(3.0)은 3.0과 같다\n"
     ]
    }
   ],
   "source": [
    "if (n*n - 3.0) < 0.000001 :\n",
    "    print(\"sqrt(3.0)*sqrt(3.0)은 3.0과 같다\") # 하지만 오차가 매우 작다면 같은것으로 판정한다"
   ]
  },
  {
   "cell_type": "code",
   "execution_count": 9,
   "id": "d9e3b43d-249a-4f16-972d-af23a0878c06",
   "metadata": {},
   "outputs": [
    {
     "name": "stdin",
     "output_type": "stream",
     "text": [
      "48 + 87 =  1\n"
     ]
    },
    {
     "name": "stdout",
     "output_type": "stream",
     "text": [
      "False\n"
     ]
    }
   ],
   "source": [
    "# 산수문제 프로그램\n",
    "import random\n",
    "\n",
    "x = random.randint(1, 100) # 1~100 사이 수 랜덤 생성\n",
    "y = random.randint(1, 100) # \n",
    "\n",
    "answer = int(input(f\"{x} + {y} = \")) # 일정한 형식의 함수 생성, x y값 넣으면 자동으로 정해진 형식대로 출력됨\n",
    "                                     \n",
    "flag = (answer == (x + y)) # 사용자가 랜덤으로 주어지는 덧셈식에 올바른 답을 입력하면 flag에서 true를, 아니라면 false를 출력\n",
    "print(flag)"
   ]
  },
  {
   "cell_type": "code",
   "execution_count": 25,
   "id": "1aebd8e0-00cf-439d-bf34-3e99826b82ab",
   "metadata": {},
   "outputs": [
    {
     "name": "stdout",
     "output_type": "stream",
     "text": [
      "48 87 48\n"
     ]
    }
   ],
   "source": [
    "#바로 위에거랑 연결됨\n",
    "price = 30000\n",
    "shipping_cost = (0 if price >= 20000 else 3000) # price 2만 이상이면 shipping_cost = 0, 아니면 3000\n",
    "\n",
    "absolute_value = (x if x > 0 else -x) # x가 0보다 크면 absolute_value = x, 아니면 -x\n",
    "max_value = (x if x > y else y) # x가 y보다 크면 absolute_value = x, 아니면 y -> 최대값\n",
    "min_value = (x if x < y else y) # x가 y보다 작으면 absolute_value = x, 아니면 y -> 최소값\n",
    "print(absolute_value, max_value, min_value) # x의 절대값, x와 y중 더 큰값(최대값), x와 y중 더 작은값(최소값)"
   ]
  },
  {
   "cell_type": "code",
   "execution_count": 26,
   "id": "5d2e097e-faaa-4d40-8727-4883d2c4f312",
   "metadata": {},
   "outputs": [
    {
     "name": "stdin",
     "output_type": "stream",
     "text": [
      "첫번째수 1\n",
      "두번째수 2\n"
     ]
    },
    {
     "name": "stdout",
     "output_type": "stream",
     "text": [
      "큰수= 2 작은수= 1\n"
     ]
    }
   ],
   "source": [
    "x = int(input(\"첫번째수\"))\n",
    "y = int(input(\"두번째수\"))\n",
    "max_value = (x if x > y else y) # 둘중에 더 큰수를 변수에 저장\n",
    "min_value = (y if x > y else x) # 둘중에 더 작은수를 변수에 저장\n",
    "print(\"큰수=\", max_value, \"작은수=\", min_value)"
   ]
  },
  {
   "cell_type": "code",
   "execution_count": 31,
   "id": "3b9e11b5-e09d-4e84-9bc9-8cd9e5ba30ae",
   "metadata": {},
   "outputs": [
    {
     "name": "stdin",
     "output_type": "stream",
     "text": [
      "정수입력 1231321\n"
     ]
    },
    {
     "name": "stdout",
     "output_type": "stream",
     "text": [
      "홀수\n"
     ]
    }
   ],
   "source": [
    "number = int(input(\"정수입력\")) # 입력을 문자열로 받아서 정수로 변환\n",
    "\n",
    "if number % 2 == 0: # number를 2로 나눈 나머지가 0일때(짝수일때)\n",
    "    print(\"짝수\")\n",
    "else:\n",
    "    print(\"홀수\") # number를 2로 나눈 나머지가 0이 아닐때(홀수일때 ,나머지는 반드시 0또는 1이므로 나머지가 1일때를 말함)"
   ]
  },
  {
   "cell_type": "code",
   "execution_count": 1,
   "id": "7e337f11-5144-42c3-903d-3beab2e59804",
   "metadata": {
    "editable": true,
    "slideshow": {
     "slide_type": ""
    },
    "tags": []
   },
   "outputs": [
    {
     "name": "stdin",
     "output_type": "stream",
     "text": [
      "정가입력 1231312\n"
     ]
    },
    {
     "name": "stdout",
     "output_type": "stream",
     "text": [
      "10층에서 사은품 수령\n",
      "할인가= 1046615.2\n"
     ]
    }
   ],
   "source": [
    "price = int(input(\"정가입력\"))\n",
    "if price >= 100:\n",
    "    dis_rate = 0.85 # 15퍼 할인\n",
    "    print(\"10층에서 사은품 수령\") # 100 이상이면 사은품 지급\n",
    "else:\n",
    "    dis_rate = 0.90 # 10퍼 할인\n",
    "dis_price = dis_rate * price # 할인된 가격\n",
    "print(\"할인가=\", dis_price) # 할인가는 가격 얼마던간에 출력됨"
   ]
  },
  {
   "cell_type": "code",
   "execution_count": 6,
   "id": "e279a848-f785-4b2d-a39c-230d9d4a5fd9",
   "metadata": {},
   "outputs": [
    {
     "name": "stdin",
     "output_type": "stream",
     "text": [
      "가격을 입력하시오:  30000\n",
      "카드 종류를 입력하시오:  python\n"
     ]
    },
    {
     "name": "stdout",
     "output_type": "stream",
     "text": [
      "배송료는 없습니다\n"
     ]
    }
   ],
   "source": [
    "price = int(input(\"가격을 입력하시오: \"))\n",
    "card = input(\"카드 종류를 입력하시오: \")\n",
    "\n",
    "if price > 20000 and card == \"python\" : # 두 조건(가격 2만원 이상, 카드가 파이썬) 모두 만족해야 true(if구문실행)\n",
    "                                        # and연산자기 때문에 두조건중 하나라도 만족 못하면 false(else구문실행)\n",
    "    print(\"배송료는 없습니다\")\n",
    "else :\n",
    "    print(\"배송료 3천원\")"
   ]
  },
  {
   "cell_type": "code",
   "execution_count": 14,
   "id": "9a2bfb43-f43c-4cef-a1d0-9e080c7eef76",
   "metadata": {},
   "outputs": [
    {
     "data": {
      "text/plain": [
       "8000"
      ]
     },
     "execution_count": 14,
     "metadata": {},
     "output_type": "execute_result"
    }
   ],
   "source": [
    "country = \"korea\"\n",
    "province = \"jeju\"\n",
    "if not (country == \"korea\" and province != \"jeju\"): # 국가가 한국이고,and 지역이 제주가 아니면 true(지금은 false임)\n",
    "                                                    # if not이므로 반대로 false여야 if구문 문장 실행함\n",
    "    shipping_cost = 8000\n",
    "\n",
    "shipping_cost"
   ]
  },
  {
   "cell_type": "code",
   "execution_count": 23,
   "id": "a38da8a9-63d8-4114-a57c-63f33f8a11cc",
   "metadata": {},
   "outputs": [
    {
     "name": "stdin",
     "output_type": "stream",
     "text": [
      "온도를 입력하시오  100\n"
     ]
    },
    {
     "name": "stdout",
     "output_type": "stream",
     "text": [
      "물의 상태는 기체입니다.\n"
     ]
    }
   ],
   "source": [
    "temp = float(input(\"온도를 입력하시오 \"))\n",
    "\n",
    "if temp <= 0:\n",
    "    print(\"물의 상태는 고체입니다.\")\n",
    "elif temp > 0 and temp < 100: # elif랑 else if랑 같다\n",
    "    print(\"물의 상태는 액체입니다.\")\n",
    "else : # 나머지 (temp >= 100)\n",
    "    print(\"물의 상태는 기체입니다.\")"
   ]
  },
  {
   "cell_type": "code",
   "execution_count": 45,
   "id": "09b866b2-1ae9-468c-ae01-0616594be845",
   "metadata": {},
   "outputs": [
    {
     "name": "stdout",
     "output_type": "stream",
     "text": [
      "동전 던지기 게임\n",
      "앞면\n",
      "게임종료\n"
     ]
    }
   ],
   "source": [
    "import random # random: 무작위 수를 부를 수 있도록 하는 헤더파일(헤더파일 불러온거랑 비슷하다고 생각하기)\n",
    "\n",
    "print(\"동전 던지기 게임\")\n",
    "coin = random.randrange(2) # randrange: 괄호 안의 수보다 작은 임의의 정수를 리턴하여 변수에 할당\n",
    "                           # ex) randrange(2): x < 2인 정수 x를 무작위로 리턴(x = 0 또는 x = 1)\n",
    "                           # 괄호 안에 두개의 수를 넣고(a, b 넣었다 치고) a < x < b 인 정수 x를 리턴한다\n",
    "                           # 괄호 안에 하나의 수만 있는 경우 0부터 그 수까지를 범위로 한다(예제의 경우임)\n",
    "if coin == 0:              \n",
    "    print(\"앞면\")\n",
    "else:\n",
    "    print(\"뒷면\")\n",
    "\n",
    "print(\"게임종료\")\n",
    "\n",
    "# randrange, randint 차이\n",
    "# randrange(1, 10) -> 1 <= x < 10 -> x = 1~9\n",
    "# randrange(10) -> 0 <= x < 10 -> x = 0~9\n",
    "# randint(1, 100) -> 1 <= x <= 100 -> x = 1~100\n",
    "# 결론: randrange는 시작값 이상 종료값 미만 범위에서 무작위 값 리턴\n",
    "#       randint는 시작값 이상 종료값 이하 범위에서 무작위 값 리턴\n",
    "# 추가: randrange(a, b, c)이면 -> a <= x < b 인 범위에서 a를 a0, c를 d(공차)로 가지는 \n",
    "#       등차수열 안에서 b를 넘지 않는 임의의 수를 리턴 "
   ]
  },
  {
   "cell_type": "code",
   "execution_count": 34,
   "id": "0ec361b3-775a-44fd-a002-40c4d4951b71",
   "metadata": {},
   "outputs": [
    {
     "name": "stdin",
     "output_type": "stream",
     "text": [
      "배송지 korea, us중 입력 us\n",
      "상품가격 12000\n"
     ]
    },
    {
     "name": "stdout",
     "output_type": "stream",
     "text": [
      "배송비= 8000\n"
     ]
    }
   ],
   "source": [
    "country = input(\"배송지 korea, us중 입력\")\n",
    "price  = int(input(\"상품가격\"))\n",
    "\n",
    "if country == \"korea\": # 국가 korea면\n",
    "    if price >= 20000: # 가격 2만 이상이면\n",
    "        shipping_cost = 0\n",
    "    else: # 2만보다 작으면\n",
    "        shipping_cost = 3000\n",
    "else : # 국가 us면\n",
    "    if price >= 100000: # 가격 10만 이상이면\n",
    "        shipping_cost = 0\n",
    "    else: # 10만보다 작으면\n",
    "        shipping_cost = 8000\n",
    "\n",
    "print(\"배송비=\", shipping_cost)"
   ]
  },
  {
   "cell_type": "code",
   "execution_count": 36,
   "id": "e0af6740-c338-405c-8a6a-6e6fe5fd7e05",
   "metadata": {},
   "outputs": [
    {
     "name": "stdin",
     "output_type": "stream",
     "text": [
      "성적입력 60\n"
     ]
    },
    {
     "name": "stdout",
     "output_type": "stream",
     "text": [
      "학점D\n"
     ]
    }
   ],
   "source": [
    "score = int(input(\"성적입력\"))\n",
    "\n",
    "if score >= 90: # 90점이상\n",
    "    print(\"학점A\")\n",
    "elif score >= 80: # 80점이상\n",
    "    print(\"학점B\")\n",
    "elif score >= 70: # 70점이상\n",
    "    print(\"학점C\")\n",
    "elif score >= 60: # 60점이상\n",
    "    print(\"학점D\")\n",
    "else: # 60점 미만\n",
    "    print(\"학점F\")"
   ]
  },
  {
   "cell_type": "code",
   "execution_count": 37,
   "id": "99bb29b0-c8bd-45d3-87c8-aa5c75150a25",
   "metadata": {},
   "outputs": [
    {
     "name": "stdin",
     "output_type": "stream",
     "text": [
      "규모를 입력 2.0\n"
     ]
    },
    {
     "name": "stdout",
     "output_type": "stream",
     "text": [
      "물건떨어짐\n"
     ]
    }
   ],
   "source": [
    "scale = float(input(\"규모를 입력\"))\n",
    "\n",
    "if scale >= 8.0: # 8.0이상\n",
    "    print(\"대부분파괴\")\n",
    "elif scale >= 7.0: # 7.0점이상\n",
    "    print(\"균열발생\")\n",
    "elif scale >= 4.0: # 4.0점이상\n",
    "    print(\"건물에큰피해\")\n",
    "elif scale >= 2.0: # 2.0점이상\n",
    "    print(\"물건떨어짐\")\n",
    "else: # 2.0미만\n",
    "    print(\"지진계만탐지\")"
   ]
  },
  {
   "cell_type": "code",
   "execution_count": 1,
   "id": "dd29aa47-ae10-4844-aef8-3c676b6fe2ce",
   "metadata": {
    "editable": true,
    "slideshow": {
     "slide_type": ""
    },
    "tags": []
   },
   "outputs": [
    {
     "name": "stdout",
     "output_type": "stream",
     "text": [
      "0\n",
      "1\n",
      "2\n",
      "3\n",
      "4\n",
      "5\n",
      "6\n",
      "7\n",
      "8\n",
      "9\n"
     ]
    }
   ],
   "source": [
    "for i in range(10):\n",
    "    print(i)"
   ]
  },
  {
   "cell_type": "code",
   "execution_count": 3,
   "id": "58e59a4f-3d29-4d50-b6c2-b2de1ec0db9a",
   "metadata": {},
   "outputs": [
    {
     "ename": "IndentationError",
     "evalue": "expected an indented block after 'if' statement on line 2 (331521226.py, line 3)",
     "output_type": "error",
     "traceback": [
      "\u001b[0;36m  Cell \u001b[0;32mIn[3], line 3\u001b[0;36m\u001b[0m\n\u001b[0;31m    a # if 구문 밑 코드블록에 들여쓰기 안하면 오류 생김\u001b[0m\n\u001b[0m    ^\u001b[0m\n\u001b[0;31mIndentationError\u001b[0m\u001b[0;31m:\u001b[0m expected an indented block after 'if' statement on line 2\n"
     ]
    }
   ],
   "source": [
    "a = 1\n",
    "if True:\n",
    "a # if 구문 밑 코드블록에 들여쓰기 안하면 오류 생김"
   ]
  },
  {
   "cell_type": "code",
   "execution_count": null,
   "id": "70f9a1db-b5c0-4721-8f20-50abf5e4bb3b",
   "metadata": {},
   "outputs": [],
   "source": []
  }
 ],
 "metadata": {
  "kernelspec": {
   "display_name": "anaconda-panel-2023.05-py310",
   "language": "python",
   "name": "conda-env-anaconda-panel-2023.05-py310-py"
  },
  "language_info": {
   "codemirror_mode": {
    "name": "ipython",
    "version": 3
   },
   "file_extension": ".py",
   "mimetype": "text/x-python",
   "name": "python",
   "nbconvert_exporter": "python",
   "pygments_lexer": "ipython3",
   "version": "3.11.5"
  }
 },
 "nbformat": 4,
 "nbformat_minor": 5
}
