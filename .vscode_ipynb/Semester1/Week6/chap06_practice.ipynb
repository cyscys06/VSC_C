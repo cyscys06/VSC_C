{
 "cells": [
  {
   "cell_type": "code",
   "execution_count": 3,
   "id": "65114c42-1713-40ca-9331-5081f783c055",
   "metadata": {},
   "outputs": [
    {
     "data": {
      "text/plain": [
       "4"
      ]
     },
     "execution_count": 3,
     "metadata": {},
     "output_type": "execute_result"
    }
   ],
   "source": [
    "temp = [1, 2, 3, 4] # 맨 처음 인덱스부터 0번 인덱스, 1번 인덱스, .... 또는 맨 끝 인덱스부터 -1번 인덱스, -2번 인덱스, ....\n",
    "e = temp[-1]\n",
    "e"
   ]
  },
  {
   "cell_type": "code",
   "execution_count": 7,
   "id": "1a31f51a-4e21-4b4e-a2f7-a5117900730b",
   "metadata": {},
   "outputs": [
    {
     "name": "stdout",
     "output_type": "stream",
     "text": [
      "1\n",
      "2\n",
      "3\n",
      "4\n",
      "5\n",
      "6\n"
     ]
    }
   ],
   "source": [
    "temp = [1, 2, 3, 4, 5, 6]\n",
    "for i in range(len(temp)): # temp 리스트의 길이만큼 반복 \n",
    "    print(temp[i]) # 리스트의 인덱스 값들을 직접 출력하는 방식"
   ]
  },
  {
   "cell_type": "code",
   "execution_count": 3,
   "id": "d7197486-e1aa-4686-9dba-c1d564eef360",
   "metadata": {},
   "outputs": [
    {
     "name": "stdout",
     "output_type": "stream",
     "text": [
      "[2, 4, 6, 8, 10]\n"
     ]
    },
    {
     "data": {
      "text/plain": [
       "[2, 4, 6, 8, 10]"
      ]
     },
     "execution_count": 3,
     "metadata": {},
     "output_type": "execute_result"
    }
   ],
   "source": [
    "list = [1, 2, 3, 4, 5]\n",
    "blist = [2 * x for x in list]\n",
    "print(blist)\n",
    "blist"
   ]
  },
  {
   "cell_type": "code",
   "execution_count": 12,
   "id": "a2c4a663-159a-4325-83f9-f7151648ef44",
   "metadata": {},
   "outputs": [
    {
     "name": "stdout",
     "output_type": "stream",
     "text": [
      "[[1, 2, 1, 2]]\n"
     ]
    }
   ],
   "source": [
    "list = [[1, 2] + [1, 2]]\n",
    "print(list)"
   ]
  },
  {
   "cell_type": "code",
   "execution_count": 10,
   "id": "212fcdac-485f-440e-b75d-521b899ddd75",
   "metadata": {},
   "outputs": [
    {
     "name": "stdout",
     "output_type": "stream",
     "text": [
      "1\n",
      "2\n",
      "3\n",
      "4\n",
      "5\n",
      "6\n"
     ]
    }
   ],
   "source": [
    "for a in temp: # temp리스트의 값들을 하나씩 출력한다는 의미\n",
    "    print(a) # 인덱스 값 없이도 출력 가능한 방식"
   ]
  },
  {
   "cell_type": "code",
   "execution_count": 15,
   "id": "09a5c76c-0269-4045-9672-21191cff9006",
   "metadata": {},
   "outputs": [
    {
     "name": "stdout",
     "output_type": "stream",
     "text": [
      "what is your name? its Kim\n",
      "what is your quest? its Python\n",
      "what is your color? its Blue\n"
     ]
    }
   ],
   "source": [
    "# zip 함수: 두개의 리스트 속 두개의 인덱스 값들을 묶을 수 있음\n",
    "question = ['name', 'quest', 'color']\n",
    "answer = ['Kim', 'Python', 'Blue']\n",
    "for q, a in zip(question, answer):\n",
    "    print(f\"what is your {q}? its {a}\")"
   ]
  },
  {
   "cell_type": "code",
   "execution_count": 1,
   "id": "3b13f653-d95d-48db-b02d-4e18cdfe0edd",
   "metadata": {},
   "outputs": [
    {
     "name": "stdout",
     "output_type": "stream",
     "text": [
      "True\n"
     ]
    }
   ],
   "source": [
    "price = 30000\n",
    "expensive = price > 20000 \n",
    "# expensive 변수에 할당된 것이 조건식이기 때문에(비교연산자 식), 변수를 출력 시 True 혹은 False로만 나옴\n",
    "print(expensive)"
   ]
  },
  {
   "cell_type": "code",
   "execution_count": 16,
   "id": "d3fe8bac-7331-44f3-b4f6-0a2a7d129c3f",
   "metadata": {},
   "outputs": [
    {
     "name": "stdout",
     "output_type": "stream",
     "text": [
      "['아이언맨', '스파이더맨']\n"
     ]
    }
   ],
   "source": [
    "# list.append(): 괄호 안에 있는 매개변수를 list안에 추가한다는 뜻\n",
    "heroes = []\n",
    "heroes.append('아이언맨')\n",
    "heroes.append('스파이더맨')\n",
    "print(heroes)"
   ]
  },
  {
   "cell_type": "code",
   "execution_count": 4,
   "id": "fb673267-91fa-4ab1-868a-839f20ae73da",
   "metadata": {},
   "outputs": [
    {
     "name": "stdout",
     "output_type": "stream",
     "text": [
      "스파이더맨\n"
     ]
    }
   ],
   "source": [
    "heroes = ['아이언맨', '토르', '헐크']\n",
    "heroes.insert(1, '스파이더맨') \n",
    "# heroes리스트의 1번째 인덱스에 스파이더맨이라는 값을 할당하겠다는 뜻 \n",
    "# -> 기존에 1번째 인덱스 값이었던 토르는 2번째 인덱스로(다음 순서로) 밀려남\n",
    "print(heroes[1])"
   ]
  },
  {
   "cell_type": "code",
   "execution_count": 3,
   "id": "da112e6e-bb72-4048-9493-343c6504e19d",
   "metadata": {},
   "outputs": [
    {
     "data": {
      "text/plain": [
       "2"
      ]
     },
     "execution_count": 3,
     "metadata": {},
     "output_type": "execute_result"
    }
   ],
   "source": [
    "heroes = ['아이언맨', '토르', '헐크']\n",
    "n = heroes.index('헐크') \n",
    "# heroes리스트 안에서 괄호 안의 값을 찾고, \n",
    "# 찾았다면 인덱스 값(리스트의 순서)을 변수 n에 할당하겠다는 뜻(단, 처음 찾은 인덱스 값만 저장한다.)\n",
    "n"
   ]
  },
  {
   "cell_type": "code",
   "execution_count": 2,
   "id": "6d72dfea-170a-4055-b780-2df0b0a6d43e",
   "metadata": {},
   "outputs": [
    {
     "name": "stdout",
     "output_type": "stream",
     "text": [
      "4\n"
     ]
    }
   ],
   "source": [
    "# 동일한 인덱스가 리스트 안에 동시 존재하는 경우\n",
    "heroes = ['아이언맨', '토르', '헐크', '스파이더맨', '헐크']\n",
    "n = heroes.index('헐크', 3) \n",
    "# 3번째 인덱스(4번째 값)부터 헐크라는 인덱스를 찾겠다는 뜻 \n",
    "# -> 헐크라는 인덱스가 2번, 4번에 존재하므로, 3번째부터 헐크를 찾는다는 것은 2번은 건너뛰었다는 뜻\n",
    "print(n) # 변수 n에는 4가 할당됨"
   ]
  },
  {
   "cell_type": "code",
   "execution_count": 32,
   "id": "2367cd75-a7fc-48d7-bc92-44b8b65681e8",
   "metadata": {},
   "outputs": [
    {
     "name": "stdout",
     "output_type": "stream",
     "text": [
      "['아이언맨', '헐크']\n"
     ]
    }
   ],
   "source": [
    "heroes = ['아이언맨', '토르', '헐크']\n",
    "heroes.pop(1) # heroes리스트에 있는, 1번째 인덱스의 값(토르)을 삭제\n",
    "print(heroes)"
   ]
  },
  {
   "cell_type": "code",
   "execution_count": 1,
   "id": "5a80e7d0-b551-4f8c-ba15-aed37cd9cf6b",
   "metadata": {},
   "outputs": [
    {
     "name": "stdout",
     "output_type": "stream",
     "text": [
      "['아이언맨', '헐크']\n"
     ]
    }
   ],
   "source": [
    "heroes = ['아이언맨', '토르', '헐크']\n",
    "heroes.remove('토르') \n",
    "# heroes리스트 안에 존재하는 토르라는 값을 찾아 이를 삭제(몇번째 인덱스인지는 상관 X) \n",
    "# -> n번째 인덱스 값을 삭제하는 pop과 반대임\n",
    "print(heroes)"
   ]
  },
  {
   "cell_type": "code",
   "execution_count": 38,
   "id": "b1f210df-92c1-4666-9dae-f984cfb79cd9",
   "metadata": {},
   "outputs": [
    {
     "name": "stdout",
     "output_type": "stream",
     "text": [
      "1\n",
      "5\n"
     ]
    }
   ],
   "source": [
    "# 리스트 관련 연산, 함수들 외울 것\n",
    "a = [1, 2, 3, 4, 5]\n",
    "print(min(a)) # 최솟값 반환: 1\n",
    "print(max(a)) # 최댓값 반환: 5"
   ]
  },
  {
   "cell_type": "code",
   "execution_count": 43,
   "id": "57c784fe-361f-4b3c-92fa-95f4b0c0d0d3",
   "metadata": {},
   "outputs": [
    {
     "data": {
      "text/plain": [
       "[1, 2, 3, 4, 5, 6, 54]"
      ]
     },
     "execution_count": 43,
     "metadata": {},
     "output_type": "execute_result"
    }
   ],
   "source": [
    "b = [2, 54, 6, 3, 4, 1, 5]\n",
    "b.sort() # 수들을 정렬(기본적으로 작은값에서 큰값으로)\n",
    "b"
   ]
  },
  {
   "cell_type": "code",
   "execution_count": 46,
   "id": "9f94d70d-ce67-40ce-84d7-4a909bfdf91f",
   "metadata": {},
   "outputs": [
    {
     "data": {
      "text/plain": [
       "[54, 6, 5, 4, 3, 2, 1]"
      ]
     },
     "execution_count": 46,
     "metadata": {},
     "output_type": "execute_result"
    }
   ],
   "source": [
    "# 반대도 가능\n",
    "b.sort(reverse = True) # 큰갑에서 작은값으로\n",
    "b"
   ]
  },
  {
   "cell_type": "code",
   "execution_count": 47,
   "id": "21bb618c-828e-4c69-b906-9f4e7bbebae6",
   "metadata": {},
   "outputs": [
    {
     "data": {
      "text/plain": [
       "['a', 'd', 'e', 'g', 'g', 't']"
      ]
     },
     "execution_count": 47,
     "metadata": {},
     "output_type": "execute_result"
    }
   ],
   "source": [
    "#문자열은 알파벳 순이 기본, 반대도 가능\n",
    "c = ['a', 'd', 'g', 'e', 't', 'g']\n",
    "c.sort()\n",
    "c"
   ]
  },
  {
   "cell_type": "code",
   "execution_count": 50,
   "id": "e048be1d-cfb9-4702-be9a-34a127db0bfc",
   "metadata": {},
   "outputs": [
    {
     "name": "stdout",
     "output_type": "stream",
     "text": [
      "[1, 2, 3, 4, 6, 8, 9, 22]\n",
      "[3, 4, 6, 2, 8, 9, 22, 1]\n"
     ]
    }
   ],
   "source": [
    "# 기존 리스트를 정렬한 새로운 리스트를 생성\n",
    "a = [3, 4, 6, 2, 8, 9, 22, 1]\n",
    "b = sorted(a)\n",
    "print(b)\n",
    "print(a) # 기존 리스트는 그대로 남아있음"
   ]
  },
  {
   "cell_type": "code",
   "execution_count": 2,
   "id": "35ac7acc-ad38-4763-a8a8-d32cbc81b080",
   "metadata": {},
   "outputs": [
    {
     "name": "stdout",
     "output_type": "stream",
     "text": [
      "합= 15\n",
      "최대값= 5\n",
      "최소값= 1\n"
     ]
    }
   ],
   "source": [
    "num = [1, 2, 3, 4, 5]\n",
    "print(\"합=\", sum(num)) # 리스트 인덱스들의 총합\n",
    "print(\"최대값=\", max(num)) # 인덱스 중 가장큰값\n",
    "print(\"최소값=\", min(num)) # 인덱스 중 가장작은값 "
   ]
  },
  {
   "cell_type": "code",
   "execution_count": 4,
   "id": "e8f03561-22a4-4f63-bc0f-2306e440d630",
   "metadata": {},
   "outputs": [
    {
     "name": "stdout",
     "output_type": "stream",
     "text": [
      "랜덤으로 선택한 항목= 3\n"
     ]
    }
   ],
   "source": [
    "import random\n",
    "number = [1, 2, 3, 4, 5, 6, 7]\n",
    "print(\"랜덤으로 선택한 항목=\", random.choice(number)) # 인덱스에서 랜덤으로 값 하나 꺼냄"
   ]
  },
  {
   "cell_type": "code",
   "execution_count": 5,
   "id": "9a972641-a5c5-43d4-a920-576472f79b85",
   "metadata": {},
   "outputs": [
    {
     "name": "stdout",
     "output_type": "stream",
     "text": [
      "랜덤으로 선택한 항목= ab\n"
     ]
    }
   ],
   "source": [
    "import random\n",
    "string = [\"a\", \"ab\", \"b\", \"c\", \"cd\", \"acd\", \"abcd\"]\n",
    "print(\"랜덤으로 선택한 항목=\", random.choice(string)) # 인덱스에서 랜덤으로 문자열 하나 꺼냄"
   ]
  },
  {
   "cell_type": "code",
   "execution_count": 8,
   "id": "c2a7118b-85db-4f1d-8228-142cae726487",
   "metadata": {},
   "outputs": [
    {
     "name": "stdout",
     "output_type": "stream",
     "text": [
      "성적을 입력하십시오:  80\n",
      "성적을 입력하십시오:  80\n",
      "성적을 입력하십시오:  0\n",
      "성적을 입력하십시오:  80\n",
      "성적을 입력하십시오:  70\n"
     ]
    },
    {
     "name": "stdout",
     "output_type": "stream",
     "text": [
      "\n",
      "전체성적 평균= 62.0\n",
      "최고점수= 80\n",
      "최저점수= 0\n",
      "80점 이상 학생 수= 3\n"
     ]
    }
   ],
   "source": [
    "# 성적 처리 프로그램\n",
    "STUDENT = 5 # 상수\n",
    "list = [] # 디폴트\n",
    "count = 0; # 일정기준 이상인 학생 수\n",
    "\n",
    "for i in range(STUDENT): # 반복문으로 학생성적 리스트에 최대까지 채움\n",
    "    value = int(input(\"성적을 입력하십시오: \"))\n",
    "    list.append(value) # 사용자 입력값 리스트에 저장\n",
    "\n",
    "print(\"\\n전체성적 평균=\", sum(list) / len(list)) # len(list): 리스트의 전체 인덱스 개수\n",
    "print(\"최고점수=\", max(list))\n",
    "print(\"최저점수=\", min(list))\n",
    "\n",
    "for score in list: # 인덱스 전부 비교하면서 기준 충족하는 인덱스 찾기\n",
    "    if score >= 80:\n",
    "        count += 1\n",
    "print(\"80점 이상 학생 수=\", count)"
   ]
  },
  {
   "cell_type": "code",
   "execution_count": 10,
   "id": "24758d99-08af-40fd-9bb7-d22d6b580af7",
   "metadata": {},
   "outputs": [
    {
     "name": "stdout",
     "output_type": "stream",
     "text": [
      "두번째로 큰수= 44\n"
     ]
    }
   ],
   "source": [
    "# 리스트에서 두번째로 큰수 구하는 방법(정렬하는 방법)\n",
    "list1 = [1, 5, 33, 2, 66, 44]\n",
    "list1.sort() # 리스트 작은수부터 정렬\n",
    "\n",
    "print(\"두번째로 큰수=\", list1[-2]) # -1: 맨뒤의 수(정렬기준 가장큰수) -2: 그다음 큰수\n",
    "      "
   ]
  },
  {
   "cell_type": "code",
   "execution_count": 11,
   "id": "bbce1c31-8153-4bc1-bedf-7c51f64169fc",
   "metadata": {},
   "outputs": [
    {
     "name": "stdout",
     "output_type": "stream",
     "text": [
      "두번째로 큰수= 44\n"
     ]
    }
   ],
   "source": [
    "# 리스트에서 두번째로 큰수 구하는 방법(가장큰수 삭제하는 방법)\n",
    "list1 = [1, 5, 33, 2, 66, 44]\n",
    "list1.remove(max(list1)) # 가장큰수 리스트에서 삭제\n",
    "\n",
    "print(\"두번째로 큰수=\", max(list1)) # 기존 리스트에서 두번쨰로 큰 수였던게 이제 가장큰수\n",
    "      "
   ]
  },
  {
   "cell_type": "code",
   "execution_count": 12,
   "id": "29aa6d18-6553-47ce-9750-d5b98c52d35f",
   "metadata": {},
   "outputs": [
    {
     "name": "stdout",
     "output_type": "stream",
     "text": [
      "제거전:  [10.0, 1.0, 2.0, 33.0]\n",
      "제거후:  [10.0, 2.0]\n"
     ]
    }
   ],
   "source": [
    "# 리스트에서 최고, 최저 인덱스 제거(2번방법)\n",
    "scores = [10.0, 1.0, 2.0, 33.0]\n",
    "\n",
    "print(\"제거전: \", scores)\n",
    "scores.remove(max(scores))\n",
    "scores.remove(min(scores))\n",
    "print(\"제거후: \", scores) # 삭제후\n"
   ]
  },
  {
   "cell_type": "code",
   "execution_count": 15,
   "id": "098170a6-a764-4d8e-be57-21c09d34fc91",
   "metadata": {},
   "outputs": [
    {
     "name": "stdout",
     "output_type": "stream",
     "text": [
      "제거전:  [10.0, 1.0, 5.0, 7.0, 2.0, 33.0]\n",
      "제거후:  [2.0, 5.0, 7.0, 10.0]\n"
     ]
    }
   ],
   "source": [
    "# 리스트에서 최고, 최저 인덱스 삭제 및 정렬\n",
    "scores = [10.0, 1.0, 5.0, 7.0, 2.0, 33.0]\n",
    "\n",
    "print(\"제거전: \", scores)\n",
    "scores.sort() # 정렬(오름차순)\n",
    "\n",
    "newscores = scores[1 : -1] # 리스트 슬라이싱: 정렬한 기존 리스트에서 맨앞(최저), 맨뒤(최고) 자르기\n",
    "print(\"제거후: \", newscores) # 삭제후\n"
   ]
  },
  {
   "cell_type": "code",
   "execution_count": 17,
   "id": "20991186-9b40-46b5-a4ff-cd2841795432",
   "metadata": {},
   "outputs": [
    {
     "name": "stdout",
     "output_type": "stream",
     "text": [
      "과일을 입력하십시오:  감\n",
      "과일을 입력하십시오:  배\n",
      "과일을 입력하십시오:  사과\n"
     ]
    },
    {
     "name": "stdout",
     "output_type": "stream",
     "text": [
      "사과\n",
      "배\n",
      "감\n"
     ]
    }
   ],
   "source": [
    "# 리스트 사용한 스택 자료구조 구현\n",
    "stack = []\n",
    "\n",
    "for i in range(3):\n",
    "    f = input(\"과일을 입력하십시오: \")\n",
    "    stack.append(f) # 인덱스 0번부터 차례대로 리스트에 추가\n",
    "\n",
    "for i in range(3):\n",
    "    print(stack.pop()) # 스택: 후입선출(나중에 들어온게 먼저 나감) \n",
    "                       # pop: 리스트 맨 마지막 인덱스 반환 후 그 인덱스 삭제 \n",
    "                       # -> 나중에 들어온 인덱스를 pop으로 뒤에서부터 뺄수 있어 스택 구조 구현 가능"
   ]
  },
  {
   "cell_type": "code",
   "execution_count": 20,
   "id": "28ac746b-e758-4264-a48f-5b549eaff1a4",
   "metadata": {},
   "outputs": [
    {
     "data": {
      "text/plain": [
       "[1, 3, 5, 7, 9, 2, 4, 6, 8, 10]"
      ]
     },
     "execution_count": 20,
     "metadata": {},
     "output_type": "execute_result"
    }
   ],
   "source": [
    "# 리스트 합체\n",
    "a1 = [1, 3, 5, 7, 9]\n",
    "a2 = [2, 4, 6, 8, 10]\n",
    "a3 = a1 + a2 # 두 리스트를 하나로 합체함\n",
    "             # 첫번째 피연산자 인덱스들에 두번째 피연산자 인덱스들을 뒤에 갖다붙임\n",
    "a3"
   ]
  },
  {
   "cell_type": "code",
   "execution_count": 21,
   "id": "4c4c64c8-9305-4a69-9e33-3c0c39a8d943",
   "metadata": {},
   "outputs": [
    {
     "data": {
      "text/plain": [
       "[1, 2, 3, 4, 1, 2, 3, 4, 1, 2, 3, 4]"
      ]
     },
     "execution_count": 21,
     "metadata": {},
     "output_type": "execute_result"
    }
   ],
   "source": [
    "# 복제\n",
    "b = [1, 2, 3, 4] * 3 # 곱해지는 수만큼 인덱스들을 복제해서 원래 리스트 뒤에 갖다붙임\n",
    "b"
   ]
  },
  {
   "cell_type": "code",
   "execution_count": 22,
   "id": "c3af39b5-d9e3-427b-a9e6-11137cda9764",
   "metadata": {},
   "outputs": [
    {
     "name": "stdout",
     "output_type": "stream",
     "text": [
      "True\n"
     ]
    }
   ],
   "source": [
    "# 리스트 비교\n",
    "A1 = [1, 2, 3]\n",
    "A2 = [1, 2, 3]\n",
    "print(A1 == A2)"
   ]
  },
  {
   "cell_type": "code",
   "execution_count": 26,
   "id": "12a301a1-4b86-4164-a29b-5c9d0ded969f",
   "metadata": {},
   "outputs": [
    {
     "name": "stdout",
     "output_type": "stream",
     "text": [
      "True\n"
     ]
    }
   ],
   "source": [
    "B1 = [1, 2, 3]\n",
    "B2 = [4, 5, 6]\n",
    "print(B1 < B2) # 각 리스트의 같은 n번째 인덱스 값들을 서로 비교"
   ]
  },
  {
   "cell_type": "code",
   "execution_count": 27,
   "id": "1b45ad58-5f7c-408e-a2d7-e9d288c67c4e",
   "metadata": {},
   "outputs": [
    {
     "name": "stdout",
     "output_type": "stream",
     "text": [
      "False\n"
     ]
    }
   ],
   "source": [
    "C1 = [1, 2, 3]\n",
    "C2 = [4, 1, 2]\n",
    "print(B1 > B2) # 리스트의 모든 인덱스들이 비교 연산자를 만족했을때만 True, 하나라도 틀리면 False 출력"
   ]
  },
  {
   "cell_type": "code",
   "execution_count": 6,
   "id": "9b1752a4-3032-404a-9af8-e1994fc22faf",
   "metadata": {},
   "outputs": [
    {
     "name": "stdout",
     "output_type": "stream",
     "text": [
      "[23, 35, 45, 64, 14, 12, 56, 77]\n",
      "[23, 35, 45, 64, 14, 12, 56, 77]\n"
     ]
    }
   ],
   "source": [
    "# 리스트 복사(중요, 시험 나올확률 높음)\n",
    "temp = [23, 35, 45, 64, 14, 12, 56, 77]\n",
    "values = temp \n",
    "# temp 리스트의 인덱스들을 values라는 리스트에 복사\n",
    "# 절대 값을 그대로 복사해서 values에 똑같이 붙여넣기 하는게 아님\n",
    "# 그저 temp를 참조하는 값만 values에 저장되는 것이므로 value는 실제로 값을 가지는 리스트가 아님(얕은 복사)\n",
    "# 이때 values 자체는 포인터 변수가 아니며, \n",
    "# 굳이 따지자면 포인터 변수에 *을 사용해서 포인터 변수가 가리키는 값을 참조하는 의미를 갖는다고 보면 됨\n",
    "print(values) # temp를 복사했으므로 temp와 같은 값을 출력\n",
    "print(temp) "
   ]
  },
  {
   "cell_type": "code",
   "execution_count": 30,
   "id": "736aea3b-b244-4e4b-a391-aefd1ca1ad58",
   "metadata": {},
   "outputs": [
    {
     "name": "stdout",
     "output_type": "stream",
     "text": [
      "132017871708928\n",
      "132017871708928\n"
     ]
    }
   ],
   "source": [
    "print(id(temp)) # 두 리스트의 주소를 반환하는 함수 id()\n",
    "print(id(values)) # 두 리스트는 같은 인덱스를 참조하므로 가리키는 주소가 같음"
   ]
  },
  {
   "cell_type": "code",
   "execution_count": 34,
   "id": "6bb452b7-a71f-4854-8490-eac5e5f16b56",
   "metadata": {},
   "outputs": [
    {
     "name": "stdout",
     "output_type": "stream",
     "text": [
      "[23, 35, 45, 64, 14, 12, 56, 77]\n",
      "[23, 35, 45, 39, 14, 12, 56, 77]\n"
     ]
    }
   ],
   "source": [
    "print(temp)\n",
    "values[3] = 39 # values가 참조하는 3번 인덱스의 값을 변경\n",
    "               # 여기서 values는 temp리스트를 참조 중이므로 \n",
    "               # values가 가진 리스트에서 변경하는게 아니라 참조를 통해 참조 중인 temp리스트의 값을 변경\n",
    "               # 인덱스를 직접 변경하는건 맞으므로 이는 temp가 갖고있는 리스트에도 영향을 끼침\n",
    "print(temp) # 기존 리스트에서 값이 바뀐 모습"
   ]
  },
  {
   "cell_type": "code",
   "execution_count": 1,
   "id": "e1fcdb72-cbbb-4101-bf73-7c4060e91df9",
   "metadata": {},
   "outputs": [
    {
     "name": "stdout",
     "output_type": "stream",
     "text": [
      "[12, 345, 35, 64, 65, 76, 90]\n",
      "[12, 345, 35, 64, 65, 76, 90]\n"
     ]
    }
   ],
   "source": [
    "# 이미 list라는 이름의 리스트를 위에서 사용했어서 삭제해주고 들어가야함\n",
    "# 삭제 안하면 깊은복사할때 쓰는 표현인 list()를 사용할때 이미 존재하는 리스트가 있어서 오류 발생\n",
    "# 깊은 복사(Deep Copy)\n",
    "temps = [12, 345, 35, 64, 65, 76, 90]\n",
    "value = list(temps) \n",
    "# value를 temps리스트의 값을 복사하여 직접 붙여넣은, 즉 value가 실제로 리스트를 가지도록 복사함(깊은 복사)\n",
    "\n",
    "print(temps)\n",
    "print(value)\n",
    "\n",
    "\n",
    "# 얕은 복사: 어떤 리스트의 참조값만 다른 리스트에 복사(참조값 복사)\n",
    "# 깊은 복사: 어떤 리스트를 통째로 다른 리스트에 복사(기본값 복사)"
   ]
  },
  {
   "cell_type": "code",
   "execution_count": 8,
   "id": "2c8f672b-b359-4518-b01b-f8b0b8839a9d",
   "metadata": {},
   "outputs": [
    {
     "data": {
      "text/plain": [
       "[1, 2, 3, 4, 5, 6, 7, 8, 9]"
      ]
     },
     "execution_count": 8,
     "metadata": {},
     "output_type": "execute_result"
    }
   ],
   "source": [
    "# 리스트 슬라이싱\n",
    "# 리스트에서 한번에 여러 항목을 추출하는 기법\n",
    "numbers = [1, 2, 3, 4, 5, 6, 7, 8, 9]\n",
    "numbers"
   ]
  },
  {
   "cell_type": "code",
   "execution_count": 39,
   "id": "c4243015-c18c-4376-9e54-15b71cb87a09",
   "metadata": {},
   "outputs": [
    {
     "data": {
      "text/plain": [
       "[1, 2, 3]"
      ]
     },
     "execution_count": 39,
     "metadata": {},
     "output_type": "execute_result"
    }
   ],
   "source": [
    "numbers[:3] # 리스트에서 [0]부터 [3] 전까지 자른다는 뜻\n",
    "            # 1: [0] 2: [1] 3: [2] 4: [3]([3]전까지만 자르므로 4는 안옴), 즉 범위가 [0] <= x < [3](= [0] <= x <= [2])"
   ]
  },
  {
   "cell_type": "code",
   "execution_count": 17,
   "id": "0d75ae15-aa9f-4257-8328-8875dbf69c9b",
   "metadata": {},
   "outputs": [
    {
     "data": {
      "text/plain": [
       "[4, 5, 6, 7, 8, 9]"
      ]
     },
     "execution_count": 17,
     "metadata": {},
     "output_type": "execute_result"
    }
   ],
   "source": [
    "numbers[3:] # [3]부터 맨 끝 인덱스까지 자르겠다는 뜻\n",
    "            # [3]: 4 ... [8](맨끝) = 9"
   ]
  },
  {
   "cell_type": "code",
   "execution_count": 13,
   "id": "91179a8f-2d9e-4dab-b35d-b92e86a4cce3",
   "metadata": {},
   "outputs": [
    {
     "data": {
      "text/plain": [
       "[1, 2, 3, 4, 5, 6, 7, 8, 9]"
      ]
     },
     "execution_count": 13,
     "metadata": {},
     "output_type": "execute_result"
    }
   ],
   "source": [
    "numbers[:] # 변화 없음"
   ]
  },
  {
   "cell_type": "code",
   "execution_count": 20,
   "id": "71547602-c26d-4524-a2c3-004679f85b94",
   "metadata": {},
   "outputs": [
    {
     "name": "stdout",
     "output_type": "stream",
     "text": [
      "[1, 2, 3, 4, 5, 6, 7, 8, 9]\n",
      "[1, 2, 3, 4, 5, 6, 7, 8, 9]\n"
     ]
    }
   ],
   "source": [
    "new_numbers = numbers[:] # 새로운 리스트에 대입 시 깊은복사 일어남(다른 리스트에 자른 리스트를 복사 가능하다는 뜻)\n",
    "print(new_numbers)\n",
    "print(numbers)"
   ]
  },
  {
   "cell_type": "code",
   "execution_count": 19,
   "id": "b44d0de3-cd9e-4fdc-88b6-753d6d9f69dc",
   "metadata": {},
   "outputs": [
    {
     "name": "stdout",
     "output_type": "stream",
     "text": [
      "132435744712640\n",
      "132435744717824\n"
     ]
    }
   ],
   "source": [
    "print(id(new_numbers))\n",
    "print(id(numbers))\n",
    "# 둘이 주소 다름"
   ]
  },
  {
   "cell_type": "code",
   "execution_count": 25,
   "id": "0b786583-1bc2-4ad4-b9a4-0a49059e1a74",
   "metadata": {},
   "outputs": [
    {
     "data": {
      "text/plain": [
       "[3, 5, 7]"
      ]
     },
     "execution_count": 25,
     "metadata": {},
     "output_type": "execute_result"
    }
   ],
   "source": [
    "# 몇칸 뛰면서 자를지 결정 가능한 방법\n",
    "a = [1, 2, 3, 4, 5, 6, 7, 8, 9]\n",
    "sublist = a[2 : 7 : 2] # [2](시작)부터 [7](끝)까지 2칸 간격으로(기본 간격은 1칸씩) 자르겠다는 뜻\n",
    "sublist # [2]: 3 [4](2칸 뜀): 5 [6]: 7"
   ]
  },
  {
   "cell_type": "code",
   "execution_count": 9,
   "id": "4d7f5c0c-98c5-4ace-be56-5f9f2cc6f75f",
   "metadata": {},
   "outputs": [
    {
     "data": {
      "text/plain": [
       "[9, 8, 7, 6, 5, 4, 3, 2, 1]"
      ]
     },
     "execution_count": 9,
     "metadata": {},
     "output_type": "execute_result"
    }
   ],
   "source": [
    "# 리스트 역순\n",
    "a = [1, 2, 3, 4, 5, 6, 7, 8, 9]\n",
    "a[::-1] \n",
    "# [0][(시작, 생략됨)부터 [8](끝, 생략됨)까지, 간격을 -1로 해서 자르기\n",
    "# (간격이 -1이므로 역순([8]시작, [0] 끝)으로 가는거임)"
   ]
  },
  {
   "cell_type": "code",
   "execution_count": 30,
   "id": "b4effe1b-d9eb-4702-924b-889ca25bbb47",
   "metadata": {},
   "outputs": [
    {
     "data": {
      "text/plain": [
       "[4, 3, 2, 1]"
      ]
     },
     "execution_count": 30,
     "metadata": {},
     "output_type": "execute_result"
    }
   ],
   "source": [
    "a[3::-1] # [3]부터 맨끝까지 -1간격(역순)으로 자르기 -> 그냥 간격 부호가 -면 반대로,\n",
    "         # 즉 기존에 정해놓은 시작과 끝 지점이 반대가 된다고 생각하면 됨\n",
    "         # 따라서 시작이 [3], 끝이 맨끝(생략)에서 맨앞[0]으로 바뀜(역순이므로)"
   ]
  },
  {
   "cell_type": "code",
   "execution_count": 33,
   "id": "1d340fe9-cf72-4783-8fae-d0e85c378bb8",
   "metadata": {},
   "outputs": [
    {
     "data": {
      "text/plain": [
       "['a', 'b', 'c', 4, 5, 6, 7, 8]"
      ]
     },
     "execution_count": 33,
     "metadata": {},
     "output_type": "execute_result"
    }
   ],
   "source": [
    "# 리스트 변경\n",
    "b = [1, 2, 3, 4, 5, 6, 7, 8]\n",
    "b[0:3] = ['a', 'b', 'c'] # 리스트의 [0]부터 [3]까지의 인덱스 값을 대응되는 인덱스로 '차례대로' 변경\n",
    "# [0]: a로 변경 [1]: b로 변경 [2]: c로 변경 [3]: 대응된 인덱스 값이 없으므로 변경 못함(유지) -> 차례대로 변경함\n",
    "b"
   ]
  },
  {
   "cell_type": "code",
   "execution_count": 36,
   "id": "a9f23f9f-4a9e-49dd-b314-b3b1bed24d07",
   "metadata": {},
   "outputs": [
    {
     "data": {
      "text/plain": [
       "[96, 2, 97, 4, 98, 6, 99, 8]"
      ]
     },
     "execution_count": 36,
     "metadata": {},
     "output_type": "execute_result"
    }
   ],
   "source": [
    "b = [1, 2, 3, 4, 5, 6, 7, 8]\n",
    "b[::2] = [96, 97, 98, 99]# [0]부터 맨끝까지 2칸 간격으로 뛸때마다 그 인덱스 값을 대응한 값으로 차례대로 변경\n",
    "b # [0]: 96 변경 [2]: 97 변경 [4]: 98 변경 [6]: 99 변경"
   ]
  },
  {
   "cell_type": "code",
   "execution_count": null,
   "id": "80bfba92-c25b-4f67-ae51-f1bd2e9e48a8",
   "metadata": {},
   "outputs": [
    {
     "data": {
      "text/plain": [
       "[]"
      ]
     },
     "execution_count": 41,
     "metadata": {},
     "output_type": "execute_result"
    }
   ],
   "source": [
    "b = [1, 2, 3, 4, 5, 6, 7, 8]\n",
    "b[:] = [] # [0]부터 맨끝(생략하면 맨끝까지를 의미, 명시적으로 표현하면 그 수 바로 전까지를 의미)\n",
    "b # 모든 인덱스 값을 NULL로 변경, 아무것도 없게 됨"
   ]
  },
  {
   "cell_type": "code",
   "execution_count": 45,
   "id": "af4502c9-855e-4af3-b1ed-a0852ebf8d61",
   "metadata": {},
   "outputs": [
    {
     "name": "stdout",
     "output_type": "stream",
     "text": [
      "[0, 1, 2, 3, 4, 5, 6, 7, 8, 9]\n",
      "[0, 1, 2, 3, 4, 5, 6, 7, 8]\n"
     ]
    }
   ],
   "source": [
    "c = list(range(0, 10)) # 0부터 10 미만(즉 9)까지의 값(인덱스 순서 아님)을 리스트로 만들어 c에 저장\n",
    "print(c)\n",
    "\n",
    "del c[-1] # [-1]이 리스트의 맨 마지막 인덱스를 의미하므로 그 인덱스를 삭제한다는 뜻\n",
    "print(c)"
   ]
  },
  {
   "cell_type": "code",
   "execution_count": 48,
   "id": "c5dd3c45-9458-4fea-af2e-b76ee70e7393",
   "metadata": {},
   "outputs": [
    {
     "name": "stdout",
     "output_type": "stream",
     "text": [
      "M\n",
      "Pyth\n",
      "Monty\n"
     ]
    }
   ],
   "source": [
    "# 문자열 리스트\n",
    "s = \"Monty Python\" # 큰따옴표(\" \"): 문자열 작은따옴표(' '): char형 문자\n",
    "print(s[0]) # [0]: M\n",
    "print(s[6:10]) # [6]부터 [10] 미만([6]부터 [9]까지를 의미)까지의 문자열을 출력\n",
    "print(s[-12:-7]) # [-12]부터 [-8]([[-7] 미만)까지 출력"
   ]
  },
  {
   "cell_type": "code",
   "execution_count": 58,
   "id": "346ad663-7f09-4a39-ba87-28b55c866c89",
   "metadata": {},
   "outputs": [
    {
     "name": "stdout",
     "output_type": "stream",
     "text": [
      "x =  42 id =  8886632\n",
      "y =  10 id =  8885608\n"
     ]
    }
   ],
   "source": [
    "# 함수 인수 전달 방식(파이썬 버전): 값 호출, 참조 호출 두개만 있음\n",
    "# 파이썬에서 정수나 문자열처럼 변경이 불가능한 객체들은 값으로 전달(복사본)\n",
    "# 함수 안에서 객체의 값을 변경하면 새로운 객체가 생성됨\n",
    "# 변경 불가한 객체는 값으로 전달된다 보면 됨\n",
    "# 객체의 참조값이 함수 매개변수로 전달되지만 함수 안에서 객체 값을 변경하면 새로운 객체가 생성되기 때문\n",
    "def func1(x):\n",
    "    x = 42 # 매개변수로 받은 x의 값을 42로 변경하면 새로운 객체가 생성됨\n",
    "           # 인수로 들어간 y 값을 42로 변경하면 함수 밖에서 선언된 y와 서로 다른 객체가 생성되는 것\n",
    "           # 이름은 y로 같지만 서로 다른 객체임\n",
    "           # 값을 변경하지 않는다면 또다른 객체를 생성하는거 아님. 그냥 인수로 들어간 객체 그거만 존재하는거임\n",
    "    \n",
    "    print(\"x = \", x, \"id = \", id(x))\n",
    "\n",
    "y = 10\n",
    "func1(y)\n",
    "print(\"y = \", y, \"id = \", id(y)) \n",
    "# 함수 밖에 있는 객체와 함수 안에 있는 객체는 서로 다른 두 객체인 동시에\n",
    "# 서로 다른 값을 가짐(주소가 다름)"
   ]
  },
  {
   "cell_type": "code",
   "execution_count": 56,
   "id": "9eccf8f5-f5c7-4eb1-9ed0-e67e5879bec6",
   "metadata": {},
   "outputs": [
    {
     "name": "stdout",
     "output_type": "stream",
     "text": [
      "None\n",
      "[99, 1, 1, 2, 3, 5, 8]\n"
     ]
    }
   ],
   "source": [
    "# 리스트가 함수로 전달될때(중요)\n",
    "def func2(list):\n",
    "    list[0] = 99 # 인수로 오는 리스트의 [0]을 99로 변경 \n",
    "                 # 함수 내부에서 변경한 값이 전역에도 반영됨\n",
    "v = [0, 1, 1, 2, 3, 5, 8]\n",
    "print(func2(v)) # 함수 정의부에 return을 안썼으므로 반환하는 값 없음\n",
    "                # 따라서 인수를 넣은 함수의 값을 출력하려 해도 반환값이 없으므로 None(반환값 없음)을 출력\n",
    "print(v) # 함수 안에서의 변경이 함수 밖에 있는 리스트에도 영향을 줌 "
   ]
  },
  {
   "cell_type": "code",
   "execution_count": 61,
   "id": "0eb0606e-11b1-4a01-90e4-113a058a86c2",
   "metadata": {},
   "outputs": [
    {
     "data": {
      "text/plain": [
       "[0, 1, 4, 9, 16, 25, 36, 49, 64, 81]"
      ]
     },
     "execution_count": 61,
     "metadata": {},
     "output_type": "execute_result"
    }
   ],
   "source": [
    "# 리스트 함축\n",
    "# 형식: [ 수식 for (변수 in 리스트) if (조건식) ]\n",
    "# for문을 사용한 리스트 인덱스 추가 방식\n",
    "squares = []\n",
    "for x in range(10): # x 시작갑 0부터 9까지 for문 반복\n",
    "    squares.append(x*x) # x를 제곱한 값을 리스트에 [0]부터 추가\n",
    "squares"
   ]
  },
  {
   "cell_type": "code",
   "execution_count": 64,
   "id": "de93bf6f-089b-4891-9501-f36687da21e3",
   "metadata": {},
   "outputs": [
    {
     "data": {
      "text/plain": [
       "[0, 1, 4, 9, 16, 25, 36, 49, 64, 81]"
      ]
     },
     "execution_count": 64,
     "metadata": {},
     "output_type": "execute_result"
    }
   ],
   "source": [
    "# 리스트 함축 사용\n",
    "squares = [x*x for x in range(10)] # 위에 있는 코드와 같은 의미\n",
    "                                   # 리스트의 인덱스를 for문을 사용한 x*x 값으로 하겠다는 뜻\n",
    "squares"
   ]
  },
  {
   "cell_type": "code",
   "execution_count": 66,
   "id": "3c32ea66-b52c-4e4d-877c-d4792e093e78",
   "metadata": {},
   "outputs": [
    {
     "data": {
      "text/plain": [
       "[0, 4, 16, 36, 64]"
      ]
     },
     "execution_count": 66,
     "metadata": {},
     "output_type": "execute_result"
    }
   ],
   "source": [
    "# for문 방식 if문 추가\n",
    "a = []\n",
    "for x in range(10):\n",
    "    if x % 2 == 0: # 조건 추가: x가 짝수일때만 그 제곱수를 리스트에 추가\n",
    "        a.append(x*x)\n",
    "\n",
    "a"
   ]
  },
  {
   "cell_type": "code",
   "execution_count": 68,
   "id": "aa1b94b7-8948-4838-80aa-cdf6841c0c6c",
   "metadata": {},
   "outputs": [
    {
     "data": {
      "text/plain": [
       "[0, 4, 16, 36, 64]"
      ]
     },
     "execution_count": 68,
     "metadata": {},
     "output_type": "execute_result"
    }
   ],
   "source": [
    "# 함축 문법 사용\n",
    "a = [x*x for x in range(10) if x % 2 == 0] # if문도 리스트 대괄호 안에 같이 넣어버림\n",
    "a"
   ]
  },
  {
   "cell_type": "code",
   "execution_count": 70,
   "id": "ba7472c2-4dc9-481d-a3be-296b681f1e34",
   "metadata": {},
   "outputs": [
    {
     "data": {
      "text/plain": [
       "[135, 0, 922, 356, 0, 217]"
      ]
     },
     "execution_count": 70,
     "metadata": {},
     "output_type": "execute_result"
    }
   ],
   "source": [
    "p = [135, -545, 922, 356, -992, 217]\n",
    "m = [i if i > 0 else 0 for i in p] \n",
    "# p 리스트에서 0보다 큰 원소(for문 안이므로 i를 의미)는 그대로, 0보다 작거나 같으면 0을 리스트 m에 인덱스로 추가\n",
    "m"
   ]
  },
  {
   "cell_type": "code",
   "execution_count": 78,
   "id": "d0770b19-f78a-4f1c-a765-785105841b5f",
   "metadata": {},
   "outputs": [
    {
     "data": {
      "text/plain": [
       "['A', 'g', 't', 'm', 'c', 't', 'a', 'e']"
      ]
     },
     "execution_count": 78,
     "metadata": {},
     "output_type": "execute_result"
    }
   ],
   "source": [
    "word = [\"All\", \"good\", \"things\", \"must\", \"come\", \"to\", \"an\", \"end.\"]\n",
    "l = [i[0] for i in word] # w리스트의 인덱스(문자열)에서 [0]의 값(즉, 첫번째 글자)만 리스트 l에 추가\n",
    "l"
   ]
  },
  {
   "cell_type": "code",
   "execution_count": 80,
   "id": "a70057b6-af65-4ad5-914f-1a6c74c9590c",
   "metadata": {},
   "outputs": [
    {
     "data": {
      "text/plain": [
       "['ax', 'ay', 'az', 'bx', 'by', 'bz', 'cx', 'cy', 'cz']"
      ]
     },
     "execution_count": 80,
     "metadata": {},
     "output_type": "execute_result"
    }
   ],
   "source": [
    "b = [(x + y) for x in ['a', 'b', 'c'] for y in ['x', 'y', 'z']]\n",
    "# 두 리스트의 문자들을 합친 문자열을 리스트 b에 저장\n",
    "b"
   ]
  },
  {
   "cell_type": "code",
   "execution_count": 82,
   "id": "296c2cf8-e93e-4bbf-98ce-7bb2d5cbe8e0",
   "metadata": {},
   "outputs": [
    {
     "name": "stdout",
     "output_type": "stream",
     "text": [
      "[0, 10, 20, 30, 40, 50, 60, 70, 80, 90]\n"
     ]
    }
   ],
   "source": [
    "# 사용 예시\n",
    "c = [x for x in range(100) if x % 2 == 0 and x % 5 == 0] \n",
    "# 0부터 99까지의 수중 10의 배수만 리스트에 저장\n",
    "print(c)"
   ]
  },
  {
   "cell_type": "code",
   "execution_count": 84,
   "id": "7066430f-1325-4348-9241-e954a64148ac",
   "metadata": {},
   "outputs": [
    {
     "name": "stdout",
     "output_type": "stream",
     "text": [
      "원래 리스트:  [1, 2, 3, 4, 5]\n",
      "새로운 리스트:  [1, 3, 6, 10, 15]\n"
     ]
    }
   ],
   "source": [
    "# 누적값 리스트\n",
    "a = [1, 2, 3, 4, 5]\n",
    "b = [sum(a[0:x + 1]) for x in range(0, len(a))]\n",
    "# 0부터 5(리스트 a의 인덱스 개수 5)까지\n",
    "print(\"원래 리스트: \", a)\n",
    "print(\"새로운 리스트: \", b)"
   ]
  },
  {
   "cell_type": "code",
   "execution_count": 2,
   "id": "5f4de403-9e08-466d-ab79-38d98f6d2798",
   "metadata": {},
   "outputs": [
    {
     "name": "stdout",
     "output_type": "stream",
     "text": [
      "s =  [[0, 0, 0, 0, 0], [0, 0, 0, 0, 0], [0, 0, 0, 0, 0]]\n"
     ]
    }
   ],
   "source": [
    "# 2차원 리스트\n",
    "rows = 3 \n",
    "cols = 5 # 3 x 5 배열\n",
    "\n",
    "s = [] # 빈 리스트 생성\n",
    "for row in range(rows):\n",
    "    s += [[0] * cols] # [0]가 5번 반복되는 리스트를 리스트 s에 추가, 이를 3번 반복\n",
    "\n",
    "print(\"s = \", s) # 리스트 s는 3개의 큰 인덱스를 가지며, 각각의 인덱스 안에는 0이라는 인덱스들이 5개씩 들어있음"
   ]
  },
  {
   "cell_type": "code",
   "execution_count": 6,
   "id": "1c80dd38-6986-4a1c-be0a-a9714ea4e0cc",
   "metadata": {},
   "outputs": [
    {
     "name": "stdout",
     "output_type": "stream",
     "text": [
      "s =  [[0, 0, 0, 0, 0], [0, 0, 0, 0, 0], [0, 0, 0, 0, 0]]\n"
     ]
    }
   ],
   "source": [
    "r = 3\n",
    "c = 5\n",
    "s = [ ([0] * c) for i in range(r) ]\n",
    "\n",
    "print(\"s = \", s)"
   ]
  },
  {
   "cell_type": "code",
   "execution_count": 5,
   "id": "4a93d91d-2cf0-49d1-a9e6-bb4db8f96c91",
   "metadata": {},
   "outputs": [
    {
     "name": "stdout",
     "output_type": "stream",
     "text": [
      "s =  [[0, 0, 0, 0, 0], [0, 0, 0, 0, 0], [0, 0, 0, 0, 0]]\n"
     ]
    }
   ],
   "source": [
    "r = 3\n",
    "c = 5\n",
    "\n",
    "s = []\n",
    "for i in range(r):\n",
    "    s.append([0] * c)\n",
    "\n",
    "print(\"s = \", s)"
   ]
  },
  {
   "cell_type": "code",
   "execution_count": 9,
   "id": "7c703b2f-1871-4f6e-9698-d94d2ee1dd41",
   "metadata": {},
   "outputs": [
    {
     "name": "stdout",
     "output_type": "stream",
     "text": [
      "1, 2, 3, 4, 5, \n",
      "6, 7, 8, 9, 10, \n",
      "11, 12, 13, 14, 15, \n"
     ]
    }
   ],
   "source": [
    "s = [[1, 2, 3, 4, 5], [6, 7, 8, 9, 10], [11, 12, 13, 14, 15]]\n",
    "\n",
    "rows = len(s) # 행(가로줄) 개수\n",
    "cols = len(s[0]) # 열(세로줄) 개수\n",
    "\n",
    "for r in range(rows):\n",
    "    for c in range(cols):\n",
    "        print(s[r][c], end = \", \")\n",
    "    print() # 줄바꿈"
   ]
  },
  {
   "cell_type": "code",
   "execution_count": 11,
   "id": "81a6dc22-1e60-4ddd-bc46-4e594c9c7194",
   "metadata": {},
   "outputs": [
    {
     "name": "stdout",
     "output_type": "stream",
     "text": [
      "40\n",
      "21\n"
     ]
    }
   ],
   "source": [
    "# 가로 합계, 세로 합계 계산\n",
    "s = [[1, 2, 3, 4, 5], [6, 7, 8, 9, 10], [11, 12, 13, 14, 15]]\n",
    "\n",
    "# 행의 열과 개수 구하기\n",
    "rows = len(s)\n",
    "cols = len(s[0])\n",
    "\n",
    "i = 1\n",
    "total = 0\n",
    "\n",
    "for j in range(cols):\n",
    "    total += s[i][j]\n",
    "\n",
    "print(total)\n",
    "\n",
    "j = 1\n",
    "total = 0 # 초기화\n",
    "\n",
    "for i in range(rows):\n",
    "    total += s[i][j]\n",
    "\n",
    "print(total)"
   ]
  },
  {
   "cell_type": "code",
   "execution_count": 13,
   "id": "4a2f071f-10a2-446b-89de-2f1a51694ca8",
   "metadata": {},
   "outputs": [],
   "source": [
    "# len(s): 행의 개수(리스트 s의 길이), 즉 3\n",
    "# len(s[0]): s[0] 인덱스의 길이, 즉 5\n",
    "\n",
    "def sum(numbers): # 2차원 리스트 함수로 넘기기\n",
    "    total = 0\n",
    "    for i in range(len(numbers)):\n",
    "        for j in range(len(numbers[0])):\n",
    "            total += numbers[i][j]\n",
    "    return total"
   ]
  },
  {
   "cell_type": "code",
   "execution_count": 14,
   "id": "611ada13-e318-4607-98fb-1d5c8e447286",
   "metadata": {},
   "outputs": [
    {
     "data": {
      "text/plain": [
       "120"
      ]
     },
     "execution_count": 14,
     "metadata": {},
     "output_type": "execute_result"
    }
   ],
   "source": [
    "s = [[1, 2, 3, 4, 5], [6, 7, 8, 9, 10], [11, 12, 13, 14, 15]]\n",
    "sum(s)"
   ]
  },
  {
   "cell_type": "code",
   "execution_count": 16,
   "id": "d5656a9f-b4dd-4e3b-98b6-66bd50c6357d",
   "metadata": {},
   "outputs": [
    {
     "name": "stdout",
     "output_type": "stream",
     "text": [
      "[[0, 1, 2, 3, 4], [0, 1, 2, 3, 4], [0, 1, 2, 3, 4], [0, 1, 2, 3, 4], [0, 1, 2, 3, 4], [0, 1, 2, 3, 4]]\n"
     ]
    }
   ],
   "source": [
    "# 2차원 리스트 함축\n",
    "matrix = [[i for i in range(5)] for _ in range(6)] \n",
    "# 0, 1, 2, 3 ,4 까지의 5개의 인덱스 묶음을 6개까지 생성\n",
    "print(matrix)"
   ]
  },
  {
   "cell_type": "code",
   "execution_count": 17,
   "id": "4a91c5de-250c-48c2-8572-c2b9c18fe9bb",
   "metadata": {},
   "outputs": [
    {
     "name": "stdout",
     "output_type": "stream",
     "text": [
      "[0, 0, 0, 1, 1, 1, 2, 2, 2]\n"
     ]
    }
   ],
   "source": [
    "matrix = [[0, 0, 0], [1, 1, 1], [2, 2, 2]]\n",
    "result = [num for row in matrix for num in row]\n",
    "print(result)"
   ]
  },
  {
   "cell_type": "code",
   "execution_count": 19,
   "id": "d50f89df-7ac2-4894-b89a-2c6fbc251b89",
   "metadata": {},
   "outputs": [
    {
     "name": "stdout",
     "output_type": "stream",
     "text": [
      "[0, 0, 0, 1, 1, 1, 2, 2, 2]\n"
     ]
    }
   ],
   "source": [
    "# 같은결과, 다른 방법\n",
    "matrix = [[0, 0, 0], [1, 1, 1], [2, 2, 2]]\n",
    "result = []\n",
    "for row in matrix:\n",
    "    for num in row:\n",
    "        result.append(num)\n",
    "\n",
    "print(result)"
   ]
  },
  {
   "cell_type": "code",
   "execution_count": null,
   "id": "3cc130ae-221c-4300-a9fd-44d7116048db",
   "metadata": {},
   "outputs": [],
   "source": []
  }
 ],
 "metadata": {
  "kernelspec": {
   "display_name": "VS-Code-Projects",
   "language": "python",
   "name": "python3"
  },
  "language_info": {
   "codemirror_mode": {
    "name": "ipython",
    "version": 3
   },
   "file_extension": ".py",
   "mimetype": "text/x-python",
   "name": "python",
   "nbconvert_exporter": "python",
   "pygments_lexer": "ipython3",
   "version": "3.12.7"
  }
 },
 "nbformat": 4,
 "nbformat_minor": 5
}
