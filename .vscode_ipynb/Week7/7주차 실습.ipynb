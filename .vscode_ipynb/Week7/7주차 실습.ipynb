{
 "cells": [
  {
   "cell_type": "code",
   "execution_count": 1,
   "id": "fe74fcf3-3fe8-4f72-8aee-f75a10853271",
   "metadata": {},
   "outputs": [
    {
     "data": {
      "text/plain": [
       "('apple',)"
      ]
     },
     "execution_count": 1,
     "metadata": {},
     "output_type": "execute_result"
    }
   ],
   "source": [
    "# 튜플\n",
    "single_tuple = (\"apple\",) # 싱글 튜플은 반드시 항목 끝에 쉼표가 있어야 함\n",
    "single_tuple"
   ]
  },
  {
   "cell_type": "code",
   "execution_count": 3,
   "id": "5883c704-8219-48e4-9ff5-3365613f9eb4",
   "metadata": {},
   "outputs": [
    {
     "data": {
      "text/plain": [
       "'apple'"
      ]
     },
     "execution_count": 3,
     "metadata": {},
     "output_type": "execute_result"
    }
   ],
   "source": [
    "no_tuple = (\"apple\")\n",
    "no_tuple # 튜플은 항목이 괄호 안에 싸여서 나옴"
   ]
  },
  {
   "cell_type": "code",
   "execution_count": 5,
   "id": "31e60740-42a3-4a5e-9c8f-260835a25268",
   "metadata": {},
   "outputs": [
    {
     "data": {
      "text/plain": [
       "'grape'"
      ]
     },
     "execution_count": 5,
     "metadata": {},
     "output_type": "execute_result"
    }
   ],
   "source": [
    "fruits = (\"apple\", \"grape\", \"banana\")\n",
    "fruits[1] # 인덱스를 사용해 접근 가능하다"
   ]
  },
  {
   "cell_type": "code",
   "execution_count": 7,
   "id": "42377c5c-b07a-4c16-b339-125a6b82552a",
   "metadata": {},
   "outputs": [
    {
     "ename": "TypeError",
     "evalue": "'tuple' object does not support item assignment",
     "output_type": "error",
     "traceback": [
      "\u001b[0;31m---------------------------------------------------------------------------\u001b[0m",
      "\u001b[0;31mTypeError\u001b[0m                                 Traceback (most recent call last)",
      "Cell \u001b[0;32mIn[7], line 1\u001b[0m\n\u001b[0;32m----> 1\u001b[0m fruits[\u001b[38;5;241m1\u001b[39m] \u001b[38;5;241m=\u001b[39m \u001b[38;5;124m\"\u001b[39m\u001b[38;5;124mpear\u001b[39m\u001b[38;5;124m\"\u001b[39m\n",
      "\u001b[0;31mTypeError\u001b[0m: 'tuple' object does not support item assignment"
     ]
    }
   ],
   "source": [
    "fruits[1] = \"pear\" # 단 인덱스 값은 직접 변경할 수 없다"
   ]
  },
  {
   "cell_type": "code",
   "execution_count": 5,
   "id": "42c59abb-3258-438b-8f37-8ef015ea7a5a",
   "metadata": {},
   "outputs": [
    {
     "data": {
      "text/plain": [
       "(1, 2, 3, 4)"
      ]
     },
     "execution_count": 5,
     "metadata": {},
     "output_type": "execute_result"
    }
   ],
   "source": [
    "# 튜플과 리스트 비교\n",
    "myList = [1, 2, 3, 4]\n",
    "myTuple = tuple(list) # 매개변수를 튜플로 바꿔 생성하는 함수\n",
    "# tuple은 예약어라 변수로 사용 불가 -> 주의하기\n",
    "myTuple"
   ]
  },
  {
   "cell_type": "code",
   "execution_count": 13,
   "id": "53ac7a74-9a81-497b-8558-956cfcb50378",
   "metadata": {},
   "outputs": [
    {
     "data": {
      "text/plain": [
       "[1, 2, 3, 4]"
      ]
     },
     "execution_count": 13,
     "metadata": {},
     "output_type": "execute_result"
    }
   ],
   "source": [
    "myTuple = (1, 2, 3, 4)\n",
    "myList = list(myTuple)\n",
    "myList"
   ]
  },
  {
   "cell_type": "code",
   "execution_count": 14,
   "id": "3b370ce4-2ea2-4108-9eaf-8f961a676865",
   "metadata": {},
   "outputs": [
    {
     "data": {
      "text/plain": [
       "('apple', 'banana', 'grape', 'pear', 'kiwi')"
      ]
     },
     "execution_count": 14,
     "metadata": {},
     "output_type": "execute_result"
    }
   ],
   "source": [
    "# 튜플 연산\n",
    "fruits = (\"apple\", \"banana\", \"grape\")\n",
    "fruits += (\"pear\", \"kiwi\") # fruits 튜플에 항목 추가\n",
    "fruits"
   ]
  },
  {
   "cell_type": "code",
   "execution_count": 16,
   "id": "56a8e0f1-a663-45df-bf3c-21d55d073d16",
   "metadata": {},
   "outputs": [
    {
     "data": {
      "text/plain": [
       "[1, 2, 3, 4, 5, 6, 7]"
      ]
     },
     "execution_count": 16,
     "metadata": {},
     "output_type": "execute_result"
    }
   ],
   "source": [
    "numbers = [1, 2, 3, 4]\n",
    "numbers += (5, 6, 7)\n",
    "numbers"
   ]
  },
  {
   "cell_type": "code",
   "execution_count": 17,
   "id": "78586faf-27e7-463c-84a1-8030bc814cc3",
   "metadata": {},
   "outputs": [
    {
     "name": "stdout",
     "output_type": "stream",
     "text": [
      "apple\n",
      "banana\n",
      "grape\n",
      "apple\n",
      "banana\n",
      "grape\n"
     ]
    }
   ],
   "source": [
    "# 튜플 패킹, 언패킹\n",
    "x = (\"apple\", \"banana\", \"grape\") # 튜플 패킹\n",
    "(s1, s2, s3) = x # 튜플 언패킹 -> x에 있었던 세 항목이 각각 s1, s2, s3에 들어감\n",
    "print(s1)\n",
    "print(s2)\n",
    "print(s3)\n",
    "\n",
    "s1, s2, s3 = x # 괄호 없어도 됨\n",
    "print(s1)\n",
    "print(s2)\n",
    "print(s3)\n"
   ]
  },
  {
   "cell_type": "code",
   "execution_count": 19,
   "id": "db56e265-b0f0-4cdb-947d-6ce5cb435db7",
   "metadata": {},
   "outputs": [
    {
     "name": "stdout",
     "output_type": "stream",
     "text": [
      "Kim\n",
      "[3.1, 4.2, 2.4, 2, 2]\n"
     ]
    }
   ],
   "source": [
    "student = (\"Kim\", [3.1, 4.2, 2.4, 2,2])\n",
    "name, grades = student # Kim이 name에, 실수들이 grades에 저장됨\n",
    "print(name)\n",
    "print(grades)"
   ]
  },
  {
   "cell_type": "code",
   "execution_count": 21,
   "id": "312a1c5e-b5bb-4c47-80ed-137b9103d67e",
   "metadata": {},
   "outputs": [
    {
     "name": "stdout",
     "output_type": "stream",
     "text": [
      "90\n",
      "10\n"
     ]
    }
   ],
   "source": [
    "n1 = 10 # 10\n",
    "n2 = 90 # 90\n",
    "n1, n2 = (n2, n1) # 값 바꾸기\n",
    "print(n1) # 90\n",
    "print(n2) # 10"
   ]
  },
  {
   "cell_type": "code",
   "execution_count": 24,
   "id": "d57921c0-9049-41e9-a57c-5ba87ae7aae4",
   "metadata": {},
   "outputs": [
    {
     "name": "stdout",
     "output_type": "stream",
     "text": [
      "0 apple\n",
      "1 banana\n",
      "2 grape\n"
     ]
    }
   ],
   "source": [
    "# enumerate(): 인덱스 번호, 원소 값에 접근 가능한 함수\n",
    "fruits = [\"apple\", \"banana\", \"grape\"]\n",
    "for index, value in enumerate(fruits): # index는 원소의 인덱스 번호, value는 원소에 저장된 값\n",
    "    print(index, value) # 이를 차례대로 출력"
   ]
  },
  {
   "cell_type": "code",
   "execution_count": 1,
   "id": "cdd79f4a-5f33-459e-96f3-c130b66123a3",
   "metadata": {},
   "outputs": [
    {
     "name": "stdout",
     "output_type": "stream",
     "text": [
      "[(0, 'apple'), (1, 'banana'), (2, 'grape')]\n"
     ]
    }
   ],
   "source": [
    "fruits = [\"apple\", \"banana\", \"grape\"]\n",
    "result = list(enumerate(fruits)) \n",
    "# fruits의 인덱스 번호와 실제 값에 접근한 후 그 둘을 짝으로 하여 리스트 속 하나의 원소로 다시 만듦\n",
    "\n",
    "print(result)"
   ]
  },
  {
   "cell_type": "markdown",
   "id": "34369a8d-9024-479e-8681-9def18cb26b4",
   "metadata": {},
   "source": [
    "## 튜플의 장점: 튜플을 통한 반복이 리스트를 통한 반복보다 빠르다\n",
    "### -> 내부적으로 처리 코드가 더 단순하다\n",
    "### => 시험에 튜플의 장점, 튜플과 리스트의 차이점 등으로 문제 나올 가능성 있음\n"
   ]
  },
  {
   "cell_type": "markdown",
   "id": "6ecc3f99-76f5-4048-bed9-97899c47af70",
   "metadata": {},
   "source": [
    "## 세트: 수학의 집합과 같음 \n",
    "### -> 고유한 값들을 저장하는 자료구조\n",
    "### 리스트와 달리 특정 순서가 있는게 아니기 때문에 위치에 따른 접근이 불가능하다\n",
    "### 리스트 연산에 비해 훨씬 빠르다(순서가 없으므로 더 단순한 구조다)"
   ]
  },
  {
   "cell_type": "code",
   "execution_count": 32,
   "id": "64666aa4-16ae-41b9-a472-058ae2a9082b",
   "metadata": {},
   "outputs": [
    {
     "name": "stdout",
     "output_type": "stream",
     "text": [
      "{1, 2, 3, 4, 5, 6, 7}\n"
     ]
    }
   ],
   "source": [
    "numbers = set([1, 2, 3, 4, 5, 6, 7, 3, 4, 5])\n",
    "print(numbers)"
   ]
  },
  {
   "cell_type": "code",
   "execution_count": 34,
   "id": "3d207145-182c-44bb-823d-0ef598783778",
   "metadata": {},
   "outputs": [
    {
     "data": {
      "text/plain": [
       "{'a', 'b', 'c'}"
      ]
     },
     "execution_count": 34,
     "metadata": {},
     "output_type": "execute_result"
    }
   ],
   "source": [
    "letters = set(\"abc\") # 문자열 abc를 각각 한글자로 분해하고 그 3개의 글자들을 한 묶음(세트)로 만든다\n",
    "letters"
   ]
  },
  {
   "cell_type": "code",
   "execution_count": 36,
   "id": "20f4da3c-05ca-4b33-b33c-6f9ef17e2115",
   "metadata": {},
   "outputs": [
    {
     "data": {
      "text/plain": [
       "set()"
      ]
     },
     "execution_count": 36,
     "metadata": {},
     "output_type": "execute_result"
    }
   ],
   "source": [
    "numbers = set() # 비어있는(디폴트) 세트 생성\n",
    "numbers"
   ]
  },
  {
   "cell_type": "code",
   "execution_count": 38,
   "id": "02c43a8d-766c-46d1-bfa8-88446b1507a0",
   "metadata": {},
   "outputs": [
    {
     "data": {
      "text/plain": [
       "3"
      ]
     },
     "execution_count": 38,
     "metadata": {},
     "output_type": "execute_result"
    }
   ],
   "source": [
    "# 세트의 연산\n",
    "fruits = {\"apple\", \"banana\", \"grape\"} # 세트로 만들어짐\n",
    "size = len(fruits) # 세트 안의 원소들의 개수를 반환, size에 저장\n",
    "size"
   ]
  },
  {
   "cell_type": "code",
   "execution_count": 41,
   "id": "b40bac21-812d-45b0-86eb-4259ae03d93e",
   "metadata": {},
   "outputs": [
    {
     "name": "stdout",
     "output_type": "stream",
     "text": [
      "집합 안에 apple이 있습니다.\n"
     ]
    }
   ],
   "source": [
    "# 임의 항목 있는지 검사\n",
    "fruits = {\"apple\", \"banana\", \"grape\"}\n",
    "if \"apple\" in fruits: \n",
    "    print(\"집합 안에 apple이 있습니다.\")"
   ]
  },
  {
   "cell_type": "code",
   "execution_count": 42,
   "id": "a83d60ae-84b8-4d3d-8949-ea4510fe15df",
   "metadata": {},
   "outputs": [
    {
     "name": "stdout",
     "output_type": "stream",
     "text": [
      "banana grape apple "
     ]
    }
   ],
   "source": [
    "fruits = {\"apple\", \"banana\", \"grape\"}\n",
    "for x in fruits:\n",
    "    print(x, end = \" \")"
   ]
  },
  {
   "cell_type": "code",
   "execution_count": 44,
   "id": "8ed8d9de-c248-40c5-a428-c017d42daf4a",
   "metadata": {},
   "outputs": [
    {
     "name": "stdout",
     "output_type": "stream",
     "text": [
      "apple banana grape "
     ]
    }
   ],
   "source": [
    "fruits = {\"apple\", \"banana\", \"grape\"}\n",
    "for x in sorted(fruits): # fruits 세트를 사전식으로 정렬\n",
    "    print(x, end = \" \")"
   ]
  },
  {
   "cell_type": "code",
   "execution_count": 47,
   "id": "b361bfae-4c6d-4678-9872-53cd8717d6b0",
   "metadata": {},
   "outputs": [
    {
     "data": {
      "text/plain": [
       "{'apple', 'banana', 'grape', 'kiwi'}"
      ]
     },
     "execution_count": 47,
     "metadata": {},
     "output_type": "execute_result"
    }
   ],
   "source": [
    "# 세트 요소 추가\n",
    "fruits = {\"apple\", \"banana\", \"grape\"}\n",
    "fruits.add(\"kiwi\") # add()함수로 임의 항목을 세트에 추가 \n",
    "# 하지만 순서(인덱스 번호)가 없으므로 슬라이스 연산, 인덱싱 등은 의미가 없음(불가능함)\n",
    "fruits"
   ]
  },
  {
   "cell_type": "code",
   "execution_count": 54,
   "id": "a2dba5ef-2ed1-4382-912d-d3891157295e",
   "metadata": {},
   "outputs": [
    {
     "data": {
      "text/plain": [
       "{'apple', 'banana', 'grape'}"
      ]
     },
     "execution_count": 54,
     "metadata": {},
     "output_type": "execute_result"
    }
   ],
   "source": [
    "# 세트 요소 삭제\n",
    "fruits = {\"apple\", \"banana\", \"grape\", \"kiwi\"}\n",
    "fruits.remove(\"kiwi\") # 세트에서 매개변수로 오는 항목을 삭제\n",
    "# 삭제할려고 받은 매개변수가 세트에 없으면(ex: 세트에 없는 pear를 삭제하려고 할때) 오류 발생\n",
    "fruits\n"
   ]
  },
  {
   "cell_type": "code",
   "execution_count": 56,
   "id": "d81c2205-bec9-4639-a7e5-b3b8e8894ca5",
   "metadata": {},
   "outputs": [
    {
     "data": {
      "text/plain": [
       "set()"
      ]
     },
     "execution_count": 56,
     "metadata": {},
     "output_type": "execute_result"
    }
   ],
   "source": [
    "# clear(): 세트 안의 모든 요소를 삭제\n",
    "fruits = {\"apple\", \"banana\", \"grape\", \"kiwi\"}\n",
    "fruits.clear()\n",
    "fruits"
   ]
  },
  {
   "cell_type": "code",
   "execution_count": 58,
   "id": "7f48acbc-f0d0-4ad0-a952-7c53ebd70a38",
   "metadata": {},
   "outputs": [
    {
     "data": {
      "text/plain": [
       "{'apple', 'banana', 'grape', 'kiwi', 'pear'}"
      ]
     },
     "execution_count": 58,
     "metadata": {},
     "output_type": "execute_result"
    }
   ],
   "source": [
    "# update(): 한번에 여러 개의 항목을 세트에 추가할 때\n",
    "fruits = {\"apple\", \"banana\", \"grape\"}\n",
    "fruits.update([\"kiwi\", \"pear\"])\n",
    "# 그냥 문자열로 입력하면 세트의 특성(문자열을 전부 한글자로 쪼개서 저장)때문에 온전한 문자열로 저장되지 않음\n",
    "# 문자열을 보호할 수 있는 대괄호 추가\n",
    "fruits"
   ]
  },
  {
   "cell_type": "code",
   "execution_count": 61,
   "id": "f0d37d6f-b516-4124-9a8e-666572cba7f9",
   "metadata": {},
   "outputs": [
    {
     "data": {
      "text/plain": [
       "{2, 4, 6}"
      ]
     },
     "execution_count": 61,
     "metadata": {},
     "output_type": "execute_result"
    }
   ],
   "source": [
    "# 세트 함축 연산\n",
    "aList = [1, 2, 3, 4, 5, 6, 1, 2]\n",
    "result = {x for x in aList if x % 2 == 0} # 짝수만 출력\n",
    "# 리스트에서 했던것처럼 세트 선언 중괄호 안에 모든 식을 다 넣음\n",
    "result"
   ]
  },
  {
   "cell_type": "markdown",
   "id": "aad63732-4e1f-456d-ae7b-5a1e4d7f997e",
   "metadata": {},
   "source": [
    "## 튜플: 소괄호\n",
    "## 세트: 중괄호\n",
    "## 리스트: 대괄호"
   ]
  },
  {
   "cell_type": "markdown",
   "id": "903580ae-9fc9-4476-9fca-3c0e06a602ad",
   "metadata": {},
   "source": [
    "## 부분 집합 연산\n",
    "### '<' 연산자나 issubset() 메서드 사용\n",
    "### '<=' 연산자는 진부분 집합 검사"
   ]
  },
  {
   "cell_type": "code",
   "execution_count": 63,
   "id": "609e3b4b-c59f-4f97-9f27-bcb8deeb14c9",
   "metadata": {},
   "outputs": [
    {
     "name": "stdout",
     "output_type": "stream",
     "text": [
      "a는 b의 부분 집합입니다.\n",
      "a는 b의 부분 집합입니다.\n"
     ]
    }
   ],
   "source": [
    "a = {\"apple\", \"banana\", \"grape\"}\n",
    "b = {\"apple\", \"banana\", \"grape\", \"kiwi\"}\n",
    "\n",
    "if a < b: # < 연산자로 두 집합 간의 부분집합 여부를 검사\n",
    "    print(\"a는 b의 부분 집합입니다.\")\n",
    "\n",
    "if a.issubset(b): # issubset()함수로도 부분집합 검사 가능\n",
    "    print(\"a는 b의 부분 집합입니다.\")"
   ]
  },
  {
   "cell_type": "code",
   "execution_count": 64,
   "id": "596b19e6-4ca5-48b0-9132-e50c7006061f",
   "metadata": {},
   "outputs": [
    {
     "name": "stdout",
     "output_type": "stream",
     "text": [
      "a와 b는 같지 않습니다.\n"
     ]
    }
   ],
   "source": [
    "a = {\"apple\", \"banana\", \"grape\"}\n",
    "b = {\"apple\", \"banana\", \"grape\", \"kiwi\"}\n",
    "\n",
    "if a == b:\n",
    "    print(\"a와 b는 같습니다.\")\n",
    "else:\n",
    "    print(\"a와 b는 같지 않습니다.\")"
   ]
  },
  {
   "cell_type": "code",
   "execution_count": 72,
   "id": "2ec50353-19c8-428f-8463-9d08d3b97d6b",
   "metadata": {},
   "outputs": [
    {
     "name": "stdout",
     "output_type": "stream",
     "text": [
      "{'apple', 'kiwi', 'banana', 'grape'}\n",
      "{'apple', 'kiwi', 'banana', 'grape'}\n"
     ]
    }
   ],
   "source": [
    "# 세트의 합집함\n",
    "a = {\"apple\", \"banana\", \"grape\"}\n",
    "b = {\"apple\", \"banana\", \"grape\", \"kiwi\"}\n",
    "\n",
    "print(a | b) # '|' 연산자 사용(or)\n",
    "print(a.union(b)) # union()함수 사용(집합 a에 대해 집합 b를 합집합)"
   ]
  },
  {
   "cell_type": "code",
   "execution_count": 73,
   "id": "a986ea86-c6bc-4f2f-b496-8038dabc4124",
   "metadata": {},
   "outputs": [
    {
     "name": "stdout",
     "output_type": "stream",
     "text": [
      "{'apple', 'banana'}\n",
      "{'apple', 'banana'}\n"
     ]
    }
   ],
   "source": [
    "# 세트의 교집합\n",
    "a = {\"apple\", \"banana\", \"grape\"}\n",
    "b = {\"apple\", \"banana\", \"kiwi\"}\n",
    "\n",
    "print(a & b) # '&' 연산자 사용(and)\n",
    "print(a.intersection(b)) # intersection()함수 사용(집합 a에 대해 집합 b를 교집합)"
   ]
  },
  {
   "cell_type": "code",
   "execution_count": 75,
   "id": "7cdb5ae1-409e-4c56-97af-e87e772ceb01",
   "metadata": {},
   "outputs": [
    {
     "name": "stdout",
     "output_type": "stream",
     "text": [
      "{'grape'}\n",
      "{'grape'}\n"
     ]
    }
   ],
   "source": [
    "# 세트의 차집함\n",
    "a = {\"apple\", \"banana\", \"grape\"}\n",
    "b = {\"apple\", \"banana\", \"kiwi\"}\n",
    "\n",
    "print(a - b) # '-' 연산자 사용(빼기)\n",
    "print(a.difference(b)) # difference()함수 사용(집합 a에 대해 집함 b를 차집합)"
   ]
  },
  {
   "cell_type": "code",
   "execution_count": 77,
   "id": "1c1e4cd0-77a6-476c-97d0-cf12c615737e",
   "metadata": {},
   "outputs": [
    {
     "data": {
      "text/plain": [
       "6"
      ]
     },
     "execution_count": 77,
     "metadata": {},
     "output_type": "execute_result"
    }
   ],
   "source": [
    "# 리스트와 세트 변환\n",
    "# list(), set()함수 사용\n",
    "list1 = [1, 2, 3, 4, 5, 6]\n",
    "len(set(list1)) # 리스트를 세트로 변환한 항목의 개수 출력"
   ]
  },
  {
   "cell_type": "code",
   "execution_count": 80,
   "id": "550e5e6e-6e96-4294-8551-e0f23e979c6f",
   "metadata": {},
   "outputs": [
    {
     "data": {
      "text/plain": [
       "{3, 4, 5}"
      ]
     },
     "execution_count": 80,
     "metadata": {},
     "output_type": "execute_result"
    }
   ],
   "source": [
    "list1 = [1, 2, 3, 4, 5]\n",
    "list2 = [3, 4, 5, 6, 7]\n",
    "set(list1) & set (list2) # 두 리스트를 세트로 변환한 항목 중에서 겹치는 항목만 출력"
   ]
  },
  {
   "cell_type": "markdown",
   "id": "b1072726-5986-47f1-a159-f6b92fd748b4",
   "metadata": {},
   "source": [
    "## 세트에서 사용할 수 있는 연산들 외우기(시험나올 가능성 있음)"
   ]
  },
  {
   "cell_type": "markdown",
   "id": "74c4546e-0062-45c9-86ad-a0b38155ae99",
   "metadata": {},
   "source": [
    "## 딕셔너리\n",
    "### 딕셔너리 또한 값을 저장하는 자료구조 중 하나\n",
    "### 딕셔너리에는 값도 있지만 그 값(value)과 관련된 키(key)도 있음\n",
    "### 키는 반드시 불변 객체여야 하고 유일해야 함\n",
    "### -> 즉 유일하게 존재하는(중복이 없는) 문자열이나 숫자가 옴(튜플도 가능)\n",
    "### 값은 모든 자료형이 올 수 있음\n",
    "### 리스트에서 인덱스 번호로 값을 찾았다면 딕셔너리에서는 키를 통해서 그 키와 연결된 값을 찾음"
   ]
  },
  {
   "cell_type": "code",
   "execution_count": 83,
   "id": "3a1e56d2-883a-43b2-8bb5-30e115351b40",
   "metadata": {},
   "outputs": [
    {
     "name": "stdout",
     "output_type": "stream",
     "text": [
      "Seoul\n"
     ]
    }
   ],
   "source": [
    "capitals = {\"Korea\":\"Seoul\", \"USA\":\"Washington\", \"UK\":\"London\"}\n",
    "print(capitals[\"Korea\"]) # Korea라는 키에 접근해서 그 키와 연결된 값인 Seoul을 출력한다"
   ]
  },
  {
   "cell_type": "code",
   "execution_count": 85,
   "id": "cc925e19-3943-4456-8ad1-78ee1239ee1f",
   "metadata": {},
   "outputs": [
    {
     "ename": "NameError",
     "evalue": "name 'capital' is not defined",
     "output_type": "error",
     "traceback": [
      "\u001b[0;31m---------------------------------------------------------------------------\u001b[0m",
      "\u001b[0;31mNameError\u001b[0m                                 Traceback (most recent call last)",
      "Cell \u001b[0;32mIn[85], line 1\u001b[0m\n\u001b[0;32m----> 1\u001b[0m \u001b[38;5;28mprint\u001b[39m(capital[\u001b[38;5;124m\"\u001b[39m\u001b[38;5;124mFrance\u001b[39m\u001b[38;5;124m\"\u001b[39m])\n",
      "\u001b[0;31mNameError\u001b[0m: name 'capital' is not defined"
     ]
    }
   ],
   "source": [
    "print(capital[\"France\"])\n",
    "# 존재하지 않는 키는 당연히 접근할 수 없다(오류가 발생한다)"
   ]
  },
  {
   "cell_type": "markdown",
   "id": "6ff3be13-d0c6-4693-a1ec-85f9ead8203f",
   "metadata": {},
   "source": [
    "## get()함수: 딕셔너리의 임이의 키와 대응되는 값을 반환하는 메서드\n",
    "### 첫번째 매개변수로 키의 이름을, 두번째 매개변수로 그 키에 대한 디폴트값을 받음\n",
    "### 임의의 딕셔너리에 매개변수로 받은 키 이름이 있다면 그 키에 대한 값을 반환함(디폴트값 반환하는거 X)\n",
    "### 딕셔너리에 키가 없다면 두번째 매개변수로 받았던 디폴트값을 반환함"
   ]
  },
  {
   "cell_type": "code",
   "execution_count": 87,
   "id": "bdb2d29a-6102-4cde-a233-8dd7b5a65afb",
   "metadata": {},
   "outputs": [
    {
     "name": "stdout",
     "output_type": "stream",
     "text": [
      "해당 키가 없습니다.\n"
     ]
    }
   ],
   "source": [
    "print(capitals.get(\"France\", \"해당 키가 없습니다.\")) # 두번째 매개변수로 France 키에 대한 디폴트값이 옴\n"
   ]
  },
  {
   "cell_type": "code",
   "execution_count": 89,
   "id": "878c6afa-ffbf-42f8-99ae-f3f52f0643a5",
   "metadata": {},
   "outputs": [
    {
     "name": "stdout",
     "output_type": "stream",
     "text": [
      "{'korea': 'seoul', 'usa': 'washington', 'uk': 'london', 'france': 'paris'}\n"
     ]
    }
   ],
   "source": [
    "# 딕셔너리 항목 추가\n",
    "capitals = {} # 비어있는 딕셔너리 생성\n",
    "# 비어있는 딕셔너리에 항목을 직접 추가\n",
    "capitals[\"korea\"] = \"seoul\"\n",
    "capitals[\"usa\"] = \"washington\"\n",
    "capitals[\"uk\"] = \"london\"\n",
    "capitals[\"france\"] = \"paris\" \n",
    "print(capitals)"
   ]
  },
  {
   "cell_type": "code",
   "execution_count": 93,
   "id": "098157e7-b0b7-4dba-8e72-16704fb29c5f",
   "metadata": {},
   "outputs": [
    {
     "data": {
      "text/plain": [
       "'London'"
      ]
     },
     "execution_count": 93,
     "metadata": {},
     "output_type": "execute_result"
    }
   ],
   "source": [
    "# 딕셔너리 항목 삭제\n",
    "capitals = {\"Korea\":\"Seoul\", \"USA\":\"Washington\", \"UK\":\"London\"}\n",
    "city = capitals.pop(\"UK\") # 문자열 형태의 키는 대문자, 소문자 서로 구분함\n",
    "# pop()함수로 UK 키에 해당하는 값만 뽑아냄\n",
    "city"
   ]
  },
  {
   "cell_type": "code",
   "execution_count": 95,
   "id": "c339f878-43a5-4494-a8f5-32b6d366a64b",
   "metadata": {},
   "outputs": [
    {
     "name": "stdout",
     "output_type": "stream",
     "text": [
      "Korea : Seoul\n",
      "USA : Washington\n",
      "UK : London\n"
     ]
    }
   ],
   "source": [
    "# 딕셔너리 항목 방문\n",
    "capitals = {\"Korea\":\"Seoul\", \"USA\":\"Washington\", \"UK\":\"London\"}\n",
    "for key in capitals:\n",
    "    print(key, \":\", capitals[key])\n",
    "# 기본적으로 for문의 트리거(i)로 값을 출력하면 딕셔너리의 key만 나오게 됨\n",
    "# key와 연결된 값을 출력하려면 capitals[key]로 명시적으로 표시해줘야 함"
   ]
  },
  {
   "cell_type": "code",
   "execution_count": 96,
   "id": "fdb3f6a8-0d0c-47fa-832b-6924ebeec9c4",
   "metadata": {},
   "outputs": [
    {
     "name": "stdout",
     "output_type": "stream",
     "text": [
      "Korea : Seoul\n",
      "USA : Washington\n",
      "UK : London\n"
     ]
    }
   ],
   "source": [
    "# 딕셔너리의 키와 값을 튜플로 반환\n",
    "capitals = {\"Korea\":\"Seoul\", \"USA\":\"Washington\", \"UK\":\"London\"}\n",
    "for key, value in capitals.items():\n",
    "    print(key, \":\", value)"
   ]
  },
  {
   "cell_type": "markdown",
   "id": "e0296a80-5a16-4e76-95ce-d3ba2fa6b412",
   "metadata": {},
   "source": [
    "## 기타 딕셔너리 메서드\n",
    "### key(): 딕셔너리에 있는 모든 키를 출력\n",
    "### values(): 딕셔너리에 있는 모든 값을 출력"
   ]
  },
  {
   "cell_type": "code",
   "execution_count": 5,
   "id": "37efd27b-f703-4d24-b243-8bcbefe7d3c4",
   "metadata": {},
   "outputs": [
    {
     "name": "stdout",
     "output_type": "stream",
     "text": [
      "{2: 4, 4: 16, 6: 36}\n"
     ]
    }
   ],
   "source": [
    "# 딕셔너리 함축\n",
    "values = [1, 2, 3, 4, 5, 6]\n",
    "\n",
    "dic = {x : x ** 2 for x in values if x % 2 == 0} # 짝수인 수만 키에 넣고 그 제곱값은 밸류에 저장 \n",
    "print(dic)"
   ]
  },
  {
   "cell_type": "code",
   "execution_count": 4,
   "id": "adfdc0db-7089-4c5f-8197-6e7c7405dcd9",
   "metadata": {},
   "outputs": [
    {
     "name": "stdout",
     "output_type": "stream",
     "text": [
      "{1: '1', 2: '2', 3: '3', 4: '4', 5: '5'}\n"
     ]
    }
   ],
   "source": [
    "dic = {i : str(i) for i in [1, 2, 3, 4, 5]} # 리스트의 숫자들을 문자 형태로 밸류에 저장\n",
    "print(dic)"
   ]
  },
  {
   "cell_type": "code",
   "execution_count": 7,
   "id": "a0d262b9-4a74-438c-819f-f4eecd130b33",
   "metadata": {},
   "outputs": [
    {
     "data": {
      "text/plain": [
       "{1: 'One', 2: 'Two', 3: 'Three'}"
      ]
     },
     "execution_count": 7,
     "metadata": {},
     "output_type": "execute_result"
    }
   ],
   "source": [
    "# 키와 밸류 바꾸기. 단, 키에 들어갈 값은 적절한 형식(문자열, 숫자만 키에 오므로)이어야 하고 고유한 값이어야 한다(즉 중복이어선 안된다)\n",
    "dic1 = {\"One\" : 1, \"Two\" : 2, \"Three\" : 3}\n",
    "dic2 = {n : w for w, n in dic1.items()}\n",
    "dic2"
   ]
  },
  {
   "cell_type": "markdown",
   "id": "e1835123-cde1-422f-b0fb-3db44bdbcf12",
   "metadata": {},
   "source": [
    "## -> 딕셔너리 메소드들 외우기(시험 나올 가능성 있음)"
   ]
  },
  {
   "cell_type": "markdown",
   "id": "13d48ec9-c1d0-488e-ab08-33b09ecbf6e5",
   "metadata": {},
   "source": [
    "## 문자열에 내장된 함수\n",
    "### chr(): 정수를 문자(char)로 변환\n",
    "### ord(): 문자를 정수로 변환\n",
    "### len(): 문자열의 길이를 반환\n",
    "### str(): 객체의 문자열 표현을 반환"
   ]
  },
  {
   "cell_type": "code",
   "execution_count": 10,
   "id": "7ca92fd1-0ae2-4697-894f-929c7ecfc1b0",
   "metadata": {},
   "outputs": [
    {
     "data": {
      "text/plain": [
       "97"
      ]
     },
     "execution_count": 10,
     "metadata": {},
     "output_type": "execute_result"
    }
   ],
   "source": [
    "ord(\"a\") # 소문자 a의 아스키 코드(정수)를 반환 "
   ]
  },
  {
   "cell_type": "code",
   "execution_count": 12,
   "id": "4d67d0e6-39a7-44a6-818f-149ceccf3b67",
   "metadata": {},
   "outputs": [
    {
     "data": {
      "text/plain": [
       "44032"
      ]
     },
     "execution_count": 12,
     "metadata": {},
     "output_type": "execute_result"
    }
   ],
   "source": [
    "ord(\"가\") # 한글의 경우 유니코드를 반환"
   ]
  },
  {
   "cell_type": "code",
   "execution_count": 14,
   "id": "5412ccf1-7df4-4757-86dc-d11b62e6261a",
   "metadata": {},
   "outputs": [
    {
     "data": {
      "text/plain": [
       "'a'"
      ]
     },
     "execution_count": 14,
     "metadata": {},
     "output_type": "execute_result"
    }
   ],
   "source": [
    "chr(97) # 반대"
   ]
  },
  {
   "cell_type": "code",
   "execution_count": 16,
   "id": "947576b2-3e19-4d32-bbdd-0bc9229a0780",
   "metadata": {},
   "outputs": [
    {
     "data": {
      "text/plain": [
       "'곓'"
      ]
     },
     "execution_count": 16,
     "metadata": {},
     "output_type": "execute_result"
    }
   ],
   "source": [
    "chr(44243) # 반대"
   ]
  },
  {
   "cell_type": "code",
   "execution_count": 17,
   "id": "def83c99-52a5-49b5-a21c-19c62abc845e",
   "metadata": {},
   "outputs": [
    {
     "data": {
      "text/plain": [
       "8"
      ]
     },
     "execution_count": 17,
     "metadata": {},
     "output_type": "execute_result"
    }
   ],
   "source": [
    "s = \"asdadasd\"\n",
    "len(s)"
   ]
  },
  {
   "cell_type": "code",
   "execution_count": 8,
   "id": "c0771428-c42f-4955-af20-ad2be0819924",
   "metadata": {},
   "outputs": [
    {
     "data": {
      "text/plain": [
       "'(1+2j)'"
      ]
     },
     "execution_count": 8,
     "metadata": {},
     "output_type": "execute_result"
    }
   ],
   "source": [
    "str(1 + 2j) # 문자열 형태로 반환"
   ]
  },
  {
   "cell_type": "code",
   "execution_count": 23,
   "id": "efcbd158-0939-49d6-bb23-36abe53a2ec9",
   "metadata": {},
   "outputs": [
    {
     "data": {
      "text/plain": [
       "'Pyth'"
      ]
     },
     "execution_count": 23,
     "metadata": {},
     "output_type": "execute_result"
    }
   ],
   "source": [
    "# 문자열 또한 슬라이싱이 가능하다\n",
    "s = \"Monty Python\"\n",
    "s[6 : 10] # [6] <= x < [10]"
   ]
  },
  {
   "cell_type": "code",
   "execution_count": 25,
   "id": "36484e60-c7ef-483a-97ee-28d8a870ea5a",
   "metadata": {},
   "outputs": [
    {
     "data": {
      "text/plain": [
       "'Mo'"
      ]
     },
     "execution_count": 25,
     "metadata": {},
     "output_type": "execute_result"
    }
   ],
   "source": [
    "s = \"Monty Python\"\n",
    "s[ : 2] # [0] <= x < [2]"
   ]
  },
  {
   "cell_type": "code",
   "execution_count": 27,
   "id": "585cedd2-da81-46e6-906e-f556ccfb9f3e",
   "metadata": {},
   "outputs": [
    {
     "data": {
      "text/plain": [
       "'y Python'"
      ]
     },
     "execution_count": 27,
     "metadata": {},
     "output_type": "execute_result"
    }
   ],
   "source": [
    "s[4 : ]"
   ]
  },
  {
   "cell_type": "code",
   "execution_count": 29,
   "id": "8eb470ce-2410-46e5-a0f7-ad7a1ce8eede",
   "metadata": {},
   "outputs": [
    {
     "data": {
      "text/plain": [
       "'Monty Python'"
      ]
     },
     "execution_count": 29,
     "metadata": {},
     "output_type": "execute_result"
    }
   ],
   "source": [
    "s = \"Monty Python\"\n",
    "s[ : 2] + s[2 : ] # ([0] <= x < [2]) + ([2] <= x < 끝까지) = [0]부터 끝까지"
   ]
  },
  {
   "cell_type": "markdown",
   "id": "f380e0b7-0fe5-4492-837b-5e623ca4b30c",
   "metadata": {},
   "source": [
    "## 문자열은 변경 불가능한 객체이다."
   ]
  },
  {
   "cell_type": "code",
   "execution_count": 30,
   "id": "3072623f-1179-47b6-914a-e79329fdcac1",
   "metadata": {},
   "outputs": [
    {
     "name": "stdin",
     "output_type": "stream",
     "text": [
      "문자열을 입력하십시오:  asdadadasdasd\n"
     ]
    },
    {
     "name": "stdout",
     "output_type": "stream",
     "text": [
      "회문이 아닙니다.\n"
     ]
    }
   ],
   "source": [
    "# 회문 \n",
    "s = input(\"문자열을 입력하십시오: \")\n",
    "\n",
    "s1 = s[::-1] # 문자 거꾸로\n",
    "\n",
    "if (s == s1):\n",
    "    print(\"회문입니다.\")\n",
    "else:\n",
    "    print(\"회문이 아닙니다.\")"
   ]
  },
  {
   "cell_type": "code",
   "execution_count": 32,
   "id": "081e9de9-3b34-4492-9a83-c2ac6f29029a",
   "metadata": {},
   "outputs": [
    {
     "data": {
      "text/plain": [
       "'I am a student.'"
      ]
     },
     "execution_count": 32,
     "metadata": {},
     "output_type": "execute_result"
    }
   ],
   "source": [
    "# 여러 문자열 메소드\n",
    "s = \"i am a student.\"\n",
    "s.capitalize() # 첫 문자만 대문자로 변환"
   ]
  },
  {
   "cell_type": "code",
   "execution_count": 36,
   "id": "48d592df-f57f-4350-9322-78e52c4aac1b",
   "metadata": {},
   "outputs": [
    {
     "data": {
      "text/plain": [
       "'i am a student.'"
      ]
     },
     "execution_count": 36,
     "metadata": {},
     "output_type": "execute_result"
    }
   ],
   "source": [
    "s = \"I am A StuDeNT.\"\n",
    "s.lower() # 문자열의 모든 문자를 소문자로 변환"
   ]
  },
  {
   "cell_type": "code",
   "execution_count": 37,
   "id": "95948e77-4e3a-49eb-b454-d7361d0e1e17",
   "metadata": {},
   "outputs": [
    {
     "data": {
      "text/plain": [
       "'I AM A STUDENT.'"
      ]
     },
     "execution_count": 37,
     "metadata": {},
     "output_type": "execute_result"
    }
   ],
   "source": [
    "s.upper() # 반대"
   ]
  },
  {
   "cell_type": "code",
   "execution_count": 38,
   "id": "ad0ee20d-e0c7-4036-92c9-039de6e84dec",
   "metadata": {},
   "outputs": [
    {
     "name": "stdin",
     "output_type": "stream",
     "text": [
      "파이썬 소스 파일 이름을 입력하시오:  asd.py\n"
     ]
    },
    {
     "name": "stdout",
     "output_type": "stream",
     "text": [
      "올바른 파일 이름입니다.\n"
     ]
    }
   ],
   "source": [
    "s = input(\"파이썬 소스 파일 이름을 입력하시오: \")\n",
    "\n",
    "if s.endswith(\".py\"): # 매개변수로 종료되는 문자열이면 True 반환\n",
    "    print(\"올바른 파일 이름입니다.\")\n",
    "else:\n",
    "    print(\"올바른 파일 이름이 아닙니다.\")"
   ]
  },
  {
   "cell_type": "code",
   "execution_count": 40,
   "id": "9214a484-8fdf-4523-904f-f81d20c6925d",
   "metadata": {},
   "outputs": [
    {
     "data": {
      "text/plain": [
       "'www.name.co.kr'"
      ]
     },
     "execution_count": 40,
     "metadata": {},
     "output_type": "execute_result"
    }
   ],
   "source": [
    "s = \"www.name.com\"\n",
    "s.replace(\"com\", \"co.kr\") # 첫번째 매개변수(문자열)을 두번째 매개변수(문자열)로 변경"
   ]
  },
  {
   "cell_type": "code",
   "execution_count": 48,
   "id": "a9116556-3b57-4af4-b94f-fa30239abc5b",
   "metadata": {},
   "outputs": [
    {
     "data": {
      "text/plain": [
       "10"
      ]
     },
     "execution_count": 48,
     "metadata": {},
     "output_type": "execute_result"
    }
   ],
   "source": [
    "s = \"www.naver.co.kr\"\n",
    "s.find(\"co\") # 매개변수로 받은 문자열을 앞에서부터 찾아서 그 인덱스를 반환. 찾지 못하면 -1 반환\n",
    "              # 매개변수 문자열의 가장 첫 번째 문자가 속한 인덱스 번호를 반환"
   ]
  },
  {
   "cell_type": "code",
   "execution_count": 47,
   "id": "44e6a53e-e262-4532-a48c-cf5a59d6d10f",
   "metadata": {},
   "outputs": [
    {
     "data": {
      "text/plain": [
       "13"
      ]
     },
     "execution_count": 47,
     "metadata": {},
     "output_type": "execute_result"
    }
   ],
   "source": [
    "s = \"www.naver.co.co.kr\"\n",
    "s.rfind(\"co\") # 뒤에서부터 문자열 찾음(매개변수 첫번째 문자 인덱스 번호만 반환하는건 그대로)"
   ]
  },
  {
   "cell_type": "code",
   "execution_count": 49,
   "id": "b49565c2-082f-4791-a10e-b5937ffde116",
   "metadata": {},
   "outputs": [
    {
     "data": {
      "text/plain": [
       "4"
      ]
     },
     "execution_count": 49,
     "metadata": {},
     "output_type": "execute_result"
    }
   ],
   "source": [
    "s = \"www.naver.co.co.kr\"\n",
    "s.count(\".\") # 매개변수로 받은 문자열 개수 반환"
   ]
  },
  {
   "cell_type": "markdown",
   "id": "18596bdb-28e1-4833-9daf-744adbebbe07",
   "metadata": {},
   "source": [
    "## 문자 분류\n",
    "### s.isalpha(): 문자열 s가 알파벳이면 True 반환\n",
    "### s.isdigit(): 문자열 s가 숫가이면 True 반환\n",
    "### s.islower(): 문자열 s가 모두 소문자이면 True 반환\n",
    "### s.isupper(): 문자열 s가 모두 대문자이면 True 반환"
   ]
  },
  {
   "cell_type": "markdown",
   "id": "fabc567b-04cb-4a97-a1e1-72f86f1b1d2e",
   "metadata": {},
   "source": [
    "## 공백문자 제거\n",
    "### strip(): 문자열 앞, 뒤 공백문자 제거(문자 사이에 있는 공백은 제거 X)\n",
    "### rstrip(): 문자열의 뒤 공백만 제거\n",
    "### lstrip(): 문자열의 앞 공백만 제거"
   ]
  },
  {
   "cell_type": "code",
   "execution_count": 52,
   "id": "902cde06-767f-4a9f-9588-3a98b59bad7b",
   "metadata": {},
   "outputs": [
    {
     "data": {
      "text/plain": [
       "['Welcome', 'to', 'Python']"
      ]
     },
     "execution_count": 52,
     "metadata": {},
     "output_type": "execute_result"
    }
   ],
   "source": [
    "# 문자열 분해\n",
    "s = \"Welcome to Python\"\n",
    "s.split() # 공백을 기준으로 나누어진 문자열들을 분리하여 출력"
   ]
  },
  {
   "cell_type": "code",
   "execution_count": 2,
   "id": "db086b82-d5c8-4dec-9442-9211175a4773",
   "metadata": {},
   "outputs": [
    {
     "data": {
      "text/plain": [
       "['Welcome', 'to', 'Python']"
      ]
     },
     "execution_count": 2,
     "metadata": {},
     "output_type": "execute_result"
    }
   ],
   "source": [
    "s = \"Welcome to Python\"\n",
    "s.split() # "
   ]
  },
  {
   "cell_type": "code",
   "execution_count": 6,
   "id": "ddd3b851-bdb6-4d88-a78a-bc5a47cfab70",
   "metadata": {},
   "outputs": [
    {
     "data": {
      "text/plain": [
       "['Hello', 'World!']"
      ]
     },
     "execution_count": 6,
     "metadata": {},
     "output_type": "execute_result"
    }
   ],
   "source": [
    "s = \"Hello, World!\"\n",
    "s.split(\", \") # 매개변수로 구분자(문자열들을 구분하는 요소)를 명시적으로 설정할 수 있다\n",
    "# 문자열에 있던 (콤마 + 공백)이 구분자로 쓰임(공백도 명시적으로 설정 가능하다는 의미)"
   ]
  },
  {
   "cell_type": "code",
   "execution_count": 10,
   "id": "edb3c826-dd9d-4786-a492-5c66a0c54ead",
   "metadata": {},
   "outputs": [
    {
     "data": {
      "text/plain": [
       "'apple, grape, banana'"
      ]
     },
     "execution_count": 10,
     "metadata": {},
     "output_type": "execute_result"
    }
   ],
   "source": [
    "# join(): 문자열 결합 함수(split()함수와 반대로 동작)\n",
    "\", \".join([\"apple\", \"grape\", \"banana\"]) # 구분자를 바탕으로 여러 문자열들을 연결함"
   ]
  },
  {
   "cell_type": "code",
   "execution_count": 12,
   "id": "a32368e0-2ee6-4558-9004-4da99a080714",
   "metadata": {},
   "outputs": [
    {
     "data": {
      "text/plain": [
       "'010-1234-5678'"
      ]
     },
     "execution_count": 12,
     "metadata": {},
     "output_type": "execute_result"
    }
   ],
   "source": [
    "\"-\".join(\"010.1234.5678\".split(\".\")) # 문자열에서 .은 빼고 그자리에 -를 넣음"
   ]
  },
  {
   "cell_type": "code",
   "execution_count": 14,
   "id": "4b3fb98c-3a4e-4a16-a3e6-4c0af796154f",
   "metadata": {},
   "outputs": [
    {
     "data": {
      "text/plain": [
       "'Actions speak louder than words.'"
      ]
     },
     "execution_count": 14,
     "metadata": {},
     "output_type": "execute_result"
    }
   ],
   "source": [
    "\" \".join(\"Actions \\n\\t speak louder    than words.\".split())\n",
    "# join(), split() 같이 사용하면 공백 없애기 가능"
   ]
  },
  {
   "cell_type": "code",
   "execution_count": 17,
   "id": "c89d769e-de81-457d-bfdc-fb91f9cf2a2e",
   "metadata": {},
   "outputs": [
    {
     "name": "stdout",
     "output_type": "stream",
     "text": [
      "8531\n"
     ]
    }
   ],
   "source": [
    "# 예제\n",
    "import random\n",
    "\n",
    "s = \"0123456789\"\n",
    "passlen = 4\n",
    "\n",
    "p = \"\".join(random.sample(s, passlen))\n",
    "print(p)\n",
    "# sample(): 첫번째 매개변수의 풀(범위)에서 두번째 매개변수의 수만큼 랜덤으로 픽함\n",
    "# -> 0123456789의 수 중에서 랜덤으로 passlen(4개)만큼 수 뽑음"
   ]
  },
  {
   "cell_type": "code",
   "execution_count": null,
   "id": "a8ac4264-a82a-41f7-aab2-65b42227b0ac",
   "metadata": {},
   "outputs": [],
   "source": []
  }
 ],
 "metadata": {
  "kernelspec": {
   "display_name": "anaconda-panel-2023.05-py310",
   "language": "python",
   "name": "conda-env-anaconda-panel-2023.05-py310-py"
  },
  "language_info": {
   "codemirror_mode": {
    "name": "ipython",
    "version": 3
   },
   "file_extension": ".py",
   "mimetype": "text/x-python",
   "name": "python",
   "nbconvert_exporter": "python",
   "pygments_lexer": "ipython3",
   "version": "3.11.5"
  }
 },
 "nbformat": 4,
 "nbformat_minor": 5
}
